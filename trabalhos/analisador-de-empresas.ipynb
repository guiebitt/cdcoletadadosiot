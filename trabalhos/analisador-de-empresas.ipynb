{
 "cells": [
  {
   "cell_type": "markdown",
   "metadata": {},
   "source": [
    "# Analisador de empresas listadas no Guia Fácil"
   ]
  },
  {
   "cell_type": "markdown",
   "metadata": {},
   "source": [
    "Tem como objetivo extrair informações relacionadas as empresas de uma determinada região e sua classificação no Google Meu Negócio, se houver."
   ]
  },
  {
   "cell_type": "markdown",
   "execution_count": 68,
   "metadata": {},
   "outputs": [],
   "source": [
    "```sql\n",
    "CREATE TABLE empresa (\n",
    "    id              VARCHAR(36)   NOT NULL,\n",
    "    nome            VARCHAR(255)  NOT NULL,\n",
    "    atividade       VARCHAR(255),\n",
    "    pessoaJuridica  BOOLEAN,\n",
    "    emailCliente    VARCHAR(255),\n",
    "    cep             VARCHAR(20) ,\n",
    "    cidade          VARCHAR(255),\n",
    "    estado          VARCHAR(255),\n",
    "    bairro          VARCHAR(255),\n",
    "    uf              VARCHAR(5)  ,\n",
    "    avaliacaoGoogle VARCHAR(255),\n",
    "    PRIMARY KEY (id)\n",
    ");\n",
    "\n",
    "CREATE TABLE empresa_telefone (\n",
    "    id                VARCHAR(36) NOT NULL,\n",
    "    id_empresa        VARCHAR(36) NOT NULL,\n",
    "    ddd               VARCHAR(5),\n",
    "    telefone          VARCHAR(50) NOT NULL,\n",
    "    telefoneCompleto  VARCHAR(100),\n",
    "    whatsapp          BOOLEAN,\n",
    "    telefone0800      BOOLEAN,\n",
    "    PRIMARY KEY (id)\n",
    ");\n",
    "\n",
    "CREATE TABLE empresa_endereco (\n",
    "    id         VARCHAR(36)  NOT NULL,\n",
    "    id_empresa VARCHAR(36)  NOT NULL,\n",
    "    endereco   VARCHAR(255) NOT NULL,\n",
    "    PRIMARY KEY (id)\n",
    ");\n",
    "```"
   ]
  },
  {
   "cell_type": "code",
   "execution_count": 3,
   "metadata": {},
   "outputs": [
    {
     "name": "stdout",
     "output_type": "stream",
     "text": "Requirement already satisfied: requests in /home/guiebitt/Workstation/Tools/anaconda3/lib/python3.7/site-packages (2.22.0)\nRequirement already satisfied: certifi>=2017.4.17 in /home/guiebitt/Workstation/Tools/anaconda3/lib/python3.7/site-packages (from requests) (2019.9.11)\nRequirement already satisfied: idna<2.9,>=2.5 in /home/guiebitt/Workstation/Tools/anaconda3/lib/python3.7/site-packages (from requests) (2.8)\nRequirement already satisfied: chardet<3.1.0,>=3.0.2 in /home/guiebitt/Workstation/Tools/anaconda3/lib/python3.7/site-packages (from requests) (3.0.4)\nRequirement already satisfied: urllib3!=1.25.0,!=1.25.1,<1.26,>=1.21.1 in /home/guiebitt/Workstation/Tools/anaconda3/lib/python3.7/site-packages (from requests) (1.24.2)\n"
    }
   ],
   "source": [
    "!pip install requests"
   ]
  },
  {
   "cell_type": "code",
   "execution_count": 4,
   "metadata": {},
   "outputs": [
    {
     "name": "stdout",
     "output_type": "stream",
     "text": "Requirement already satisfied: psycopg2-binary in /home/guiebitt/Workstation/Tools/anaconda3/lib/python3.7/site-packages (2.8.4)\n"
    }
   ],
   "source": [
    "!pip install psycopg2-binary"
   ]
  },
  {
   "cell_type": "code",
   "execution_count": 5,
   "metadata": {},
   "outputs": [
    {
     "name": "stdout",
     "output_type": "stream",
     "text": "Requirement already satisfied: selenium in /home/guiebitt/Workstation/Tools/anaconda3/lib/python3.7/site-packages (3.141.0)\nRequirement already satisfied: urllib3 in /home/guiebitt/Workstation/Tools/anaconda3/lib/python3.7/site-packages (from selenium) (1.24.2)\nRequirement already satisfied: chromedriver-binary in /home/guiebitt/Workstation/Tools/anaconda3/lib/python3.7/site-packages (79.0.3945.16.0)\n"
    }
   ],
   "source": [
    "!pip install selenium\n",
    "!pip install chromedriver-binary"
   ]
  },
  {
   "cell_type": "code",
   "execution_count": 6,
   "metadata": {},
   "outputs": [],
   "source": [
    "DEBUG = True\n",
    "\n",
    "def LOG(funcao, mensagem, pulaLinhaAntes = False, pulaLinhaDepois = False):\n",
    "    if DEBUG == True:\n",
    "        if pulaLinhaAntes:\n",
    "            print('\\n');\n",
    "        print('[{}] => {}'.format(funcao, mensagem))\n",
    "        if pulaLinhaDepois:\n",
    "            print('\\n');"
   ]
  },
  {
   "cell_type": "code",
   "execution_count": 7,
   "metadata": {},
   "outputs": [],
   "source": [
    "from urllib.request import urlopen\n",
    "from bs4 import BeautifulSoup\n",
    "from selenium import webdriver\n",
    "from selenium.webdriver.chrome.service import Service\n",
    "from selenium.webdriver.chrome.options import Options\n",
    "from selenium.webdriver.common.by import By\n",
    "import chromedriver_binary\n",
    "import json\n",
    "import psycopg2\n",
    "import uuid\n",
    "import urllib.parse\n",
    "import requests\n",
    "import re\n",
    "import time"
   ]
  },
  {
   "cell_type": "code",
   "execution_count": 8,
   "metadata": {},
   "outputs": [],
   "source": [
    "def buscaAvaliacaoEmpresaNoGoogle(nomeEmpresa):\n",
    "\n",
    "    LOG('buscaAvaliacaoEmpresaNoGoogle', 'Iniciado')\n",
    "\n",
    "    site = 'https://www.google.com/search?q={}'.format(urllib.parse.quote(nomeEmpresa))\n",
    "\n",
    "    LOG('buscaAvaliacaoEmpresaNoGoogle', 'Buscar empresa no google: {}'.format(site))\n",
    "\n",
    "    avaliacao = ''\n",
    "    try:\n",
    "        options = Options()\n",
    "        options.add_argument(\"--headless\")\n",
    "        options.add_argument('--no-sandbox')\n",
    "        options.add_argument('--disable-gpu')\n",
    "        options.add_argument('start-maximized')  \n",
    "        options.add_argument('disable-infobars')\n",
    "        options.add_argument(\"--disable-extensions\")\n",
    "        service = Service('/home/guiebitt/Workstation/Tools/Webdrivers/chromedriver')\n",
    "        service.start()\n",
    "        driver = webdriver.Remote(service.service_url, options = options)\n",
    "        driver.get(site);\n",
    "        element = driver.find_element(By.CSS_SELECTOR, \".Aq14fc\")\n",
    "        avaliacao = element.text\n",
    "        driver.quit()\n",
    "    except:\n",
    "        avaliacao = ''\n",
    "\n",
    "    LOG('buscaAvaliacaoEmpresaNoGoogle', 'Finalizado')\n",
    "\n",
    "    return avaliacao"
   ]
  },
  {
   "cell_type": "code",
   "execution_count": 9,
   "metadata": {},
   "outputs": [],
   "source": [
    "def existeEmpresaComNome(cursor, nome):\n",
    "\n",
    "    LOG('existeEmpresaComNome', 'Iniciado')\n",
    "\n",
    "    cursor.execute(\"SELECT 1 FROM empresa WHERE nome = '{}'\".format(nome.replace(\"'\", \"''\")))\n",
    "    resultado = cursor.fetchone()\n",
    "    existeEmpresa = False\n",
    "\n",
    "    if (resultado != None):\n",
    "        existeEmpresa = True\n",
    "\n",
    "    LOG('existeEmpresaComNome', 'Existe empresa? {}'.format(existeEmpresa))\n",
    "    LOG('existeEmpresaComNome', 'Finalizado')\n",
    "\n",
    "    return existeEmpresa"
   ]
  },
  {
   "cell_type": "code",
   "execution_count": 10,
   "metadata": {},
   "outputs": [],
   "source": [
    "def inserirTelefonesEmpresa(conexao, cursor, empresaId, telefones):\n",
    "    \n",
    "    LOG('inserirTelefonesEmpresa', 'Iniciado')\n",
    "\n",
    "    for telefone in telefones:\n",
    "        \n",
    "        idTelefone = uuid.uuid4()\n",
    "        \n",
    "        LOG('inserirTelefonesEmpresa', 'UUID do registro: {}'.format(str(idTelefone)))\n",
    "        \n",
    "        whatsapp = False\n",
    "        if telefone['whatsapp'] == 'true':\n",
    "            whatsapp = True\n",
    "        \n",
    "        telefone0800 = False\n",
    "        if telefone['telefone0800'] == 'true':\n",
    "            telefone0800 = True\n",
    "\n",
    "        cursor.execute(\"INSERT INTO empresa_telefone (id, id_empresa, ddd, telefone, telefoneCompleto, whatsapp, telefone0800) VALUES (%s, %s, %s, %s, %s, %s, %s)\",(str(idTelefone), str(empresaId), telefone['ddd'], telefone['telefone'], telefone['telefoneCompleto'], whatsapp, telefone0800))\n",
    "        conexao.commit()\n",
    "\n",
    "    LOG('inserirTelefonesEmpresa', 'Finalizado')\n",
    "\n",
    "    return"
   ]
  },
  {
   "cell_type": "code",
   "execution_count": 11,
   "metadata": {},
   "outputs": [],
   "source": [
    "def inserirEnderecosEmpresa(conexao, cursor, empresaId, enderecos):\n",
    "\n",
    "    LOG('inserirEnderecosEmpresa', 'Iniciado')\n",
    "\n",
    "    for endereco in enderecos:\n",
    "        \n",
    "        idEndereco = uuid.uuid4()\n",
    "        \n",
    "        LOG('inserirEnderecosEmpresa', 'UUID do registro: {}'.format(str(idEndereco)))\n",
    "\n",
    "        cursor.execute(\"INSERT INTO empresa_endereco (id, id_empresa, endereco) VALUES (%s, %s, %s)\",(str(idEndereco), str(empresaId), endereco))\n",
    "        conexao.commit()\n",
    "\n",
    "    LOG('inserirEnderecosEmpresa', 'Finalizado')\n",
    "\n",
    "    return"
   ]
  },
  {
   "cell_type": "code",
   "execution_count": 12,
   "metadata": {},
   "outputs": [],
   "source": [
    "def inserirEmpresa(conexao, cursor, empresa):\n",
    "\n",
    "    LOG('inserirEmpresa', 'Iniciado')\n",
    "\n",
    "    pessoaJuridica = empresa['pessoaJuridica']\n",
    "    if pessoaJuridica == False:\n",
    "        LOG('inserirEmpresa', 'Pessoa fisica: {} nao inserida'.format(empresa['nome']))\n",
    "        LOG('inserirEmpresa', 'Finalizado')\n",
    "        return\n",
    "\n",
    "    if (existeEmpresaComNome(cursor, empresa['nome']) == False):\n",
    "        \n",
    "        avaliacao = buscaAvaliacaoEmpresaNoGoogle('{}, {}'.format(empresa['nome'], empresa['cidade']))\n",
    "\n",
    "        idEmpresa = uuid.uuid4()\n",
    "        \n",
    "        LOG('inserirEmpresa', 'UUID do registro: {}'.format(str(idEmpresa)))\n",
    "        LOG('inserirEmpresa', 'Avaliação: {}'.format(avaliacao))\n",
    "        \n",
    "        cursor.execute(\"INSERT INTO empresa (id, nome, atividade, emailCliente, cep, cidade, estado, bairro, uf, pessoaJuridica, avaliacaoGoogle) VALUES (%s, %s, %s, %s, %s, %s, %s, %s, %s, %s, %s)\",(str(idEmpresa), empresa['nome'], empresa['atividade'], empresa['emailCliente'], empresa['cep'], empresa['cidade'], empresa['estado'], empresa['bairro'], empresa['uf'], pessoaJuridica, avaliacao))\n",
    "        conexao.commit()\n",
    "\n",
    "        inserirTelefonesEmpresa(conexao, cursor, idEmpresa, empresa['telefones'])\n",
    "        inserirEnderecosEmpresa(conexao, cursor, idEmpresa, empresa['enderecos'])\n",
    "\n",
    "        LOG('inserirEmpresa', 'Registro inserido: {}'.format(empresa['nome']))\n",
    "\n",
    "    LOG('inserirEmpresa', 'Finalizado')\n",
    "\n",
    "    return"
   ]
  },
  {
   "cell_type": "code",
   "execution_count": 13,
   "metadata": {},
   "outputs": [],
   "source": [
    "def inserirEmpresas(empresas):\n",
    "\n",
    "    LOG('inserirEmpresas', 'Iniciado')\n",
    "\n",
    "    nomeBancoDados = 'COLETADEDADOS'\n",
    "    usuarioBancoDados = 'postgres'\n",
    "    senhaBancoDados = 'totvs@123'\n",
    "    hostBancoDados = 'localhost'\n",
    "\n",
    "    conexao = psycopg2.connect(dbname=nomeBancoDados, user=usuarioBancoDados, password=senhaBancoDados, host=hostBancoDados)\n",
    "    cursor = conexao.cursor()\n",
    "\n",
    "    LOG('inserirEmpresas', 'Conexao com banco de dados: {} efetuada'.format(nomeBancoDados))\n",
    "\n",
    "    for empresa in empresas:\n",
    "        inserirEmpresa(conexao, cursor, empresa)\n",
    "\n",
    "    cursor.close()\n",
    "    conexao.close()\n",
    "\n",
    "    LOG('inserirEmpresas', 'Conexao com banco de dados: {} finalizada'.format(nomeBancoDados))\n",
    "    LOG('inserirEmpresas', 'Finalizado')\n",
    "\n",
    "    return"
   ]
  },
  {
   "cell_type": "code",
   "execution_count": 14,
   "metadata": {},
   "outputs": [],
   "source": [
    "def buscarEmpresasDaPagina(categoria, cidade, estado, pagina):\n",
    "\n",
    "    LOG('buscarEmpresasDaPagina', 'Iniciado')\n",
    "\n",
    "    site = 'https://guiafacil.com/buscaAjax.php?busca={}&cidade={}&tipoBusca=segmento&estado={}&pagina={}'\n",
    "    site = site.format(categoria, cidade, estado, pagina)\n",
    "\n",
    "    LOG('buscarEmpresasDaPagina', 'Buscar: {}'.format(site))\n",
    "\n",
    "    conteudo = urlopen(site).read()\n",
    "    conteudoJson = json.loads(conteudo)\n",
    "    resultado = conteudoJson['resultados']\n",
    "\n",
    "    LOG('buscarEmpresasDaPagina', 'Quantidade de empresas da página: {}'.format(len(resultado)))\n",
    "    LOG('buscarEmpresasDaPagina', 'Finalizado')\n",
    "\n",
    "    return resultado"
   ]
  },
  {
   "cell_type": "code",
   "execution_count": 15,
   "metadata": {},
   "outputs": [],
   "source": [
    "def buscarEmpresas(categoria, cidade, estado):\n",
    "\n",
    "    LOG('buscarEmpresas', 'Iniciado')\n",
    "\n",
    "    pagina = 1\n",
    "    while(True):\n",
    "        resultadoPagina = buscarEmpresasDaPagina(categoria, cidade, estado, pagina)\n",
    "        if (len(resultadoPagina) == 0):\n",
    "            break\n",
    "\n",
    "        inserirEmpresas(resultadoPagina)\n",
    "        pagina += 1\n",
    "\n",
    "    LOG('buscarEmpresas', 'Finalizado')\n",
    "\n",
    "    return"
   ]
  },
  {
   "cell_type": "code",
   "execution_count": 16,
   "metadata": {},
   "outputs": [
    {
     "name": "stdout",
     "output_type": "stream",
     "text": "e] => Existe empresa? True\n[existeEmpresaComNome] => Finalizado\n[inserirEmpresa] => Finalizado\n[inserirEmpresa] => Iniciado\n[existeEmpresaComNome] => Iniciado\n[existeEmpresaComNome] => Existe empresa? True\n[existeEmpresaComNome] => Finalizado\n[inserirEmpresa] => Finalizado\n[inserirEmpresa] => Iniciado\n[existeEmpresaComNome] => Iniciado\n[existeEmpresaComNome] => Existe empresa? True\n[existeEmpresaComNome] => Finalizado\n[inserirEmpresa] => Finalizado\n[inserirEmpresa] => Iniciado\n[existeEmpresaComNome] => Iniciado\n[existeEmpresaComNome] => Existe empresa? True\n[existeEmpresaComNome] => Finalizado\n[inserirEmpresa] => Finalizado\n[inserirEmpresa] => Iniciado\n[existeEmpresaComNome] => Iniciado\n[existeEmpresaComNome] => Existe empresa? True\n[existeEmpresaComNome] => Finalizado\n[inserirEmpresa] => Finalizado\n[inserirEmpresa] => Iniciado\n[existeEmpresaComNome] => Iniciado\n[existeEmpresaComNome] => Existe empresa? True\n[existeEmpresaComNome] => Finalizado\n[inserirEmpresa] => Finalizado\n[inserirEmpresa] => Iniciado\n[existeEmpresaComNome] => Iniciado\n[existeEmpresaComNome] => Existe empresa? False\n[existeEmpresaComNome] => Finalizado\n[buscaAvaliacaoEmpresaNoGoogle] => Iniciado\n[buscaAvaliacaoEmpresaNoGoogle] => Buscar empresa no google: https://www.google.com/search?q=ELETRICISTA%20DANIEL%20F%20DELLANDREA%2C%20Joinville\n[buscaAvaliacaoEmpresaNoGoogle] => Finalizado\n[inserirEmpresa] => UUID do registro: e273e0e6-c942-47c4-a560-aa2de2bc2db6\n[inserirEmpresa] => Avaliação: \n[inserirTelefonesEmpresa] => Iniciado\n[inserirTelefonesEmpresa] => UUID do registro: 3b694742-7953-40e9-bb8e-094dfaeaac8d\n[inserirTelefonesEmpresa] => UUID do registro: 5f9124e7-41da-4923-b162-cdb6b43feb54\n[inserirTelefonesEmpresa] => Finalizado\n[inserirEnderecosEmpresa] => Iniciado\n[inserirEnderecosEmpresa] => UUID do registro: 070fbb4c-72e6-4195-9f62-7e85aeb87199\n[inserirEnderecosEmpresa] => Finalizado\n[inserirEmpresa] => Registro inserido: ELETRICISTA DANIEL F DELLANDREA\n[inserirEmpresa] => Finalizado\n[inserirEmpresa] => Iniciado\n[existeEmpresaComNome] => Iniciado\n[existeEmpresaComNome] => Existe empresa? True\n[existeEmpresaComNome] => Finalizado\n[inserirEmpresa] => Finalizado\n[inserirEmpresa] => Iniciado\n[existeEmpresaComNome] => Iniciado\n[existeEmpresaComNome] => Existe empresa? True\n[existeEmpresaComNome] => Finalizado\n[inserirEmpresa] => Finalizado\n[inserirEmpresa] => Iniciado\n[existeEmpresaComNome] => Iniciado\n[existeEmpresaComNome] => Existe empresa? True\n[existeEmpresaComNome] => Finalizado\n[inserirEmpresa] => Finalizado\n[inserirEmpresa] => Iniciado\n[existeEmpresaComNome] => Iniciado\n[existeEmpresaComNome] => Existe empresa? True\n[existeEmpresaComNome] => Finalizado\n[inserirEmpresa] => Finalizado\n[inserirEmpresa] => Iniciado\n[existeEmpresaComNome] => Iniciado\n[existeEmpresaComNome] => Existe empresa? False\n[existeEmpresaComNome] => Finalizado\n[buscaAvaliacaoEmpresaNoGoogle] => Iniciado\n[buscaAvaliacaoEmpresaNoGoogle] => Buscar empresa no google: https://www.google.com/search?q=VIDRA%C3%87ARIAS%20E%20M%C3%93VEIS%20TRAINOTTI%2C%20Joinville\n[buscaAvaliacaoEmpresaNoGoogle] => Finalizado\n[inserirEmpresa] => UUID do registro: e277dd22-fe50-4fc4-9b40-10b91eb5e937\n[inserirEmpresa] => Avaliação: 3,3\n[inserirTelefonesEmpresa] => Iniciado\n[inserirTelefonesEmpresa] => UUID do registro: 347485a1-26ef-4833-9fdd-ef7d9342911f\n[inserirTelefonesEmpresa] => Finalizado\n[inserirEnderecosEmpresa] => Iniciado\n[inserirEnderecosEmpresa] => UUID do registro: e16f08c9-2bb5-43fa-a2ff-f319bbfbb3ab\n[inserirEnderecosEmpresa] => Finalizado\n[inserirEmpresa] => Registro inserido: VIDRAÇARIAS E MÓVEIS TRAINOTTI\n[inserirEmpresa] => Finalizado\n[inserirEmpresa] => Iniciado\n[existeEmpresaComNome] => Iniciado\n[existeEmpresaComNome] => Existe empresa? True\n[existeEmpresaComNome] => Finalizado\n[inserirEmpresa] => Finalizado\n[inserirEmpresa] => Iniciado\n[existeEmpresaComNome] => Iniciado\n[existeEmpresaComNome] => Existe empresa? True\n[existeEmpresaComNome] => Finalizado\n[inserirEmpresa] => Finalizado\n[inserirEmpresa] => Iniciado\n[existeEmpresaComNome] => Iniciado\n[existeEmpresaComNome] => Existe empresa? False\n[existeEmpresaComNome] => Finalizado\n[buscaAvaliacaoEmpresaNoGoogle] => Iniciado\n[buscaAvaliacaoEmpresaNoGoogle] => Buscar empresa no google: https://www.google.com/search?q=VIEIRA%20SOCIEDADE%20DE%20ADVOCACIA%2C%20Joinville\n[buscaAvaliacaoEmpresaNoGoogle] => Finalizado\n[inserirEmpresa] => UUID do registro: fece3b75-487d-4b9c-a17d-46c66128fab7\n[inserirEmpresa] => Avaliação: \n[inserirTelefonesEmpresa] => Iniciado\n[inserirTelefonesEmpresa] => UUID do registro: 4369b22f-adb9-4c2b-b58c-965c4d0983bb\n[inserirTelefonesEmpresa] => UUID do registro: b156695f-6c5b-4b54-8abc-87aaa7d07365\n[inserirTelefonesEmpresa] => Finalizado\n[inserirEnderecosEmpresa] => Iniciado\n[inserirEnderecosEmpresa] => UUID do registro: 8a8e6aa7-ec25-429d-84c6-0c99999004b0\n[inserirEnderecosEmpresa] => Finalizado\n[inserirEmpresa] => Registro inserido: VIEIRA SOCIEDADE DE ADVOCACIA\n[inserirEmpresa] => Finalizado\n[inserirEmpresa] => Iniciado\n[existeEmpresaComNome] => Iniciado\n[existeEmpresaComNome] => Existe empresa? False\n[existeEmpresaComNome] => Finalizado\n[buscaAvaliacaoEmpresaNoGoogle] => Iniciado\n[buscaAvaliacaoEmpresaNoGoogle] => Buscar empresa no google: https://www.google.com/search?q=MARMORARIA%20DVILLE%2C%20Joinville\n[buscaAvaliacaoEmpresaNoGoogle] => Finalizado\n[inserirEmpresa] => UUID do registro: cd73021b-0f30-4133-9465-b46b34ac301d\n[inserirEmpresa] => Avaliação: 4,7\n[inserirTelefonesEmpresa] => Iniciado\n[inserirTelefonesEmpresa] => UUID do registro: 06e57c0a-8a3e-4528-b2f8-d1a9486872de\n[inserirTelefonesEmpresa] => UUID do registro: 9b8335b5-86aa-4cbd-9465-ce7111bda119\n[inserirTelefonesEmpresa] => UUID do registro: fd08677f-e062-48b9-98d1-a62c4ed1a35d\n[inserirTelefonesEmpresa] => UUID do registro: 60fb2137-580f-4efb-b4cf-d259ff62e51a\n[inserirTelefonesEmpresa] => Finalizado\n[inserirEnderecosEmpresa] => Iniciado\n[inserirEnderecosEmpresa] => UUID do registro: 09657d26-afc2-44a7-9501-311f14b8e9fc\n[inserirEnderecosEmpresa] => Finalizado\n[inserirEmpresa] => Registro inserido: MARMORARIA DVILLE\n[inserirEmpresa] => Finalizado\n[inserirEmpresa] => Iniciado\n[existeEmpresaComNome] => Iniciado\n[existeEmpresaComNome] => Existe empresa? True\n[existeEmpresaComNome] => Finalizado\n[inserirEmpresa] => Finalizado\n[inserirEmpresa] => Iniciado\n[existeEmpresaComNome] => Iniciado\n[existeEmpresaComNome] => Existe empresa? True\n[existeEmpresaComNome] => Finalizado\n[inserirEmpresa] => Finalizado\n[inserirEmpresa] => Iniciado\n[existeEmpresaComNome] => Iniciado\n[existeEmpresaComNome] => Existe empresa? False\n[existeEmpresaComNome] => Finalizado\n[buscaAvaliacaoEmpresaNoGoogle] => Iniciado\n[buscaAvaliacaoEmpresaNoGoogle] => Buscar empresa no google: https://www.google.com/search?q=SERRALHERIA%20JM%2C%20Joinville\n[buscaAvaliacaoEmpresaNoGoogle] => Finalizado\n[inserirEmpresa] => UUID do registro: f859ddf3-11ae-425a-a978-91d255c3913c\n[inserirEmpresa] => Avaliação: \n[inserirTelefonesEmpresa] => Iniciado\n[inserirTelefonesEmpresa] => UUID do registro: 4f15b1eb-3e3e-4890-b35b-a29ad13bef3e\n[inserirTelefonesEmpresa] => UUID do registro: 72885d34-cc21-4310-996d-fd7177aec9e4\n[inserirTelefonesEmpresa] => Finalizado\n[inserirEnderecosEmpresa] => Iniciado\n[inserirEnderecosEmpresa] => UUID do registro: cdf32a04-68dd-4579-b90c-6437d4a3ae63\n[inserirEnderecosEmpresa] => Finalizado\n[inserirEmpresa] => Registro inserido: SERRALHERIA JM\n[inserirEmpresa] => Finalizado\n[inserirEmpresas] => Conexao com banco de dados: COLETADEDADOS finalizada\n[inserirEmpresas] => Finalizado\n[buscarEmpresasDaPagina] => Iniciado\n[buscarEmpresasDaPagina] => Buscar: https://guiafacil.com/buscaAjax.php?busca=&cidade=joinville&tipoBusca=segmento&estado=santa-catarina&pagina=8\n[buscarEmpresasDaPagina] => Quantidade de empresas da página: 20\n[buscarEmpresasDaPagina] => Finalizado\n[inserirEmpresas] => Iniciado\n[inserirEmpresas] => Conexao com banco de dados: COLETADEDADOS efetuada\n[inserirEmpresa] => Iniciado\n[existeEmpresaComNome] => Iniciado\n[existeEmpresaComNome] => Existe empresa? True\n[existeEmpresaComNome] => Finalizado\n[inserirEmpresa] => Finalizado\n[inserirEmpresa] => Iniciado\n[existeEmpresaComNome] => Iniciado\n[existeEmpresaComNome] => Existe empresa? True\n[existeEmpresaComNome] => Finalizado\n[inserirEmpresa] => Finalizado\n[inserirEmpresa] => Iniciado\n[existeEmpresaComNome] => Iniciado\n[existeEmpresaComNome] => Existe empresa? True\n[existeEmpresaComNome] => Finalizado\n[inserirEmpresa] => Finalizado\n[inserirEmpresa] => Iniciado\n[existeEmpresaComNome] => Iniciado\n[existeEmpresaComNome] => Existe empresa? True\n[existeEmpresaComNome] => Finalizado\n[inserirEmpresa] => Finalizado\n[inserirEmpresa] => Iniciado\n[existeEmpresaComNome] => Iniciado\n[existeEmpresaComNome] => Existe empresa? True\n[existeEmpresaComNome] => Finalizado\n[inserirEmpresa] => Finalizado\n[inserirEmpresa] => Iniciado\n[existeEmpresaComNome] => Iniciado\n[existeEmpresaComNome] => Existe empresa? True\n[existeEmpresaComNome] => Finalizado\n[inserirEmpresa] => Finalizado\n[inserirEmpresa] => Iniciado\n[existeEmpresaComNome] => Iniciado\n[existeEmpresaComNome] => Existe empresa? False\n[existeEmpresaComNome] => Finalizado\n[buscaAvaliacaoEmpresaNoGoogle] => Iniciado\n[buscaAvaliacaoEmpresaNoGoogle] => Buscar empresa no google: https://www.google.com/search?q=ESQUADRIPER%20SERRALHERIA%2C%20Joinville\n[buscaAvaliacaoEmpresaNoGoogle] => Finalizado\n[inserirEmpresa] => UUID do registro: c3069133-d0fa-4ba1-9148-08d8db402a27\n[inserirEmpresa] => Avaliação: 5,0\n[inserirTelefonesEmpresa] => Iniciado\n[inserirTelefonesEmpresa] => UUID do registro: 28e00be4-5bcd-48da-b3e1-597bc37d9502\n[inserirTelefonesEmpresa] => UUID do registro: 505b6f53-6966-4ba7-8edb-831cfb4a699c\n[inserirTelefonesEmpresa] => UUID do registro: 81fca9f6-58ab-4a86-9d9c-834788b529c6\n[inserirTelefonesEmpresa] => UUID do registro: 73616a15-42e7-4c46-a51a-f04620188955\n[inserirTelefonesEmpresa] => Finalizado\n[inserirEnderecosEmpresa] => Iniciado\n[inserirEnderecosEmpresa] => UUID do registro: 5ac7265b-faaa-41c9-89da-f60c110b44c7\n[inserirEnderecosEmpresa] => Finalizado\n[inserirEmpresa] => Registro inserido: ESQUADRIPER SERRALHERIA\n[inserirEmpresa] => Finalizado\n[inserirEmpresa] => Iniciado\n[existeEmpresaComNome] => Iniciado\n[existeEmpresaComNome] => Existe empresa? True\n[existeEmpresaComNome] => Finalizado\n[inserirEmpresa] => Finalizado\n[inserirEmpresa] => Iniciado\n[existeEmpresaComNome] => Iniciado\n[existeEmpresaComNome] => Existe empresa? True\n[existeEmpresaComNome] => Finalizado\n[inserirEmpresa] => Finalizado\n[inserirEmpresa] => Iniciado\n[existeEmpresaComNome] => Iniciado\n[existeEmpresaComNome] => Existe empresa? True\n[existeEmpresaComNome] => Finalizado\n[inserirEmpresa] => Finalizado\n[inserirEmpresa] => Iniciado\n[existeEmpresaComNome] => Iniciado\n[existeEmpresaComNome] => Existe empresa? True\n[existeEmpresaComNome] => Finalizado\n[inserirEmpresa] => Finalizado\n[inserirEmpresa] => Iniciado\n[existeEmpresaComNome] => Iniciado\n[existeEmpresaComNome] => Existe empresa? False\n[existeEmpresaComNome] => Finalizado\n[buscaAvaliacaoEmpresaNoGoogle] => Iniciado\n[buscaAvaliacaoEmpresaNoGoogle] => Buscar empresa no google: https://www.google.com/search?q=LIFTTEC%20EMPILHADEIRAS%2C%20Joinville\n[buscaAvaliacaoEmpresaNoGoogle] => Finalizado\n[inserirEmpresa] => UUID do registro: af074fc2-19af-4ac0-86b0-586e6b9b476b\n[inserirEmpresa] => Avaliação: 5,0\n[inserirTelefonesEmpresa] => Iniciado\n[inserirTelefonesEmpresa] => UUID do registro: 1fb98860-1cb6-4cc9-842d-763c43b87730\n[inserirTelefonesEmpresa] => UUID do registro: 85f86501-4a46-4f50-8fdc-1deffee544e5\n[inserirTelefonesEmpresa] => Finalizado\n[inserirEnderecosEmpresa] => Iniciado\n[inserirEnderecosEmpresa] => UUID do registro: 218e547e-918c-4355-8eb1-670b4589e81f\n[inserirEnderecosEmpresa] => Finalizado\n[inserirEmpresa] => Registro inserido: LIFTTEC EMPILHADEIRAS\n[inserirEmpresa] => Finalizado\n[inserirEmpresa] => Iniciado\n[existeEmpresaComNome] => Iniciado\n[existeEmpresaComNome] => Existe empresa? False\n[existeEmpresaComNome] => Finalizado\n[buscaAvaliacaoEmpresaNoGoogle] => Iniciado\n[buscaAvaliacaoEmpresaNoGoogle] => Buscar empresa no google: https://www.google.com/search?q=FARM%C3%81CIAS%20DE%20MANIPULA%C3%87%C3%83O%20BIO%20VILLE%2C%20Joinville\n[buscaAvaliacaoEmpresaNoGoogle] => Finalizado\n[inserirEmpresa] => UUID do registro: fea65d3a-40c6-4830-83ea-e9f25c454a8e\n[inserirEmpresa] => Avaliação: 4,1\n[inserirTelefonesEmpresa] => Iniciado\n[inserirTelefonesEmpresa] => UUID do registro: fad8d61b-c591-46d2-bea6-6ed01305429e\n[inserirTelefonesEmpresa] => Finalizado\n[inserirEnderecosEmpresa] => Iniciado\n[inserirEnderecosEmpresa] => UUID do registro: 53fe78d0-ba1d-4bc4-96b5-0c383ca22272\n[inserirEnderecosEmpresa] => UUID do registro: ff29d467-4332-4556-8043-4e283ecb4def\n[inserirEnderecosEmpresa] => Finalizado\n[inserirEmpresa] => Registro inserido: FARMÁCIAS DE MANIPULAÇÃO BIO VILLE\n[inserirEmpresa] => Finalizado\n[inserirEmpresa] => Iniciado\n[existeEmpresaComNome] => Iniciado\n[existeEmpresaComNome] => Existe empresa? True\n[existeEmpresaComNome] => Finalizado\n[inserirEmpresa] => Finalizado\n[inserirEmpresa] => Iniciado\n[existeEmpresaComNome] => Iniciado\n[existeEmpresaComNome] => Existe empresa? True\n[existeEmpresaComNome] => Finalizado\n[inserirEmpresa] => Finalizado\n[inserirEmpresa] => Iniciado\n[existeEmpresaComNome] => Iniciado\n[existeEmpresaComNome] => Existe empresa? True\n[existeEmpresaComNome] => Finalizado\n[inserirEmpresa] => Finalizado\n[inserirEmpresa] => Iniciado\n[existeEmpresaComNome] => Iniciado\n[existeEmpresaComNome] => Existe empresa? True\n[existeEmpresaComNome] => Finalizado\n[inserirEmpresa] => Finalizado\n[inserirEmpresa] => Iniciado\n[existeEmpresaComNome] => Iniciado\n[existeEmpresaComNome] => Existe empresa? False\n[existeEmpresaComNome] => Finalizado\n[buscaAvaliacaoEmpresaNoGoogle] => Iniciado\n[buscaAvaliacaoEmpresaNoGoogle] => Buscar empresa no google: https://www.google.com/search?q=MENEGOTO%2C%20Joinville\n[buscaAvaliacaoEmpresaNoGoogle] => Finalizado\n[inserirEmpresa] => UUID do registro: 0617660d-4610-43ac-83be-f6a12ca47643\n[inserirEmpresa] => Avaliação: 4,6\n[inserirTelefonesEmpresa] => Iniciado\n[inserirTelefonesEmpresa] => UUID do registro: 43734949-2df4-499b-b1d3-eb98f0827902\n[inserirTelefonesEmpresa] => Finalizado\n[inserirEnderecosEmpresa] => Iniciado\n[inserirEnderecosEmpresa] => UUID do registro: 183d32cd-0031-4275-83c1-ae87663d23a7\n[inserirEnderecosEmpresa] => Finalizado\n[inserirEmpresa] => Registro inserido: MENEGOTO\n[inserirEmpresa] => Finalizado\n[inserirEmpresa] => Iniciado\n[existeEmpresaComNome] => Iniciado\n[existeEmpresaComNome] => Existe empresa? True\n[existeEmpresaComNome] => Finalizado\n[inserirEmpresa] => Finalizado\n[inserirEmpresa] => Iniciado\n[existeEmpresaComNome] => Iniciado\n[existeEmpresaComNome] => Existe empresa? True\n[existeEmpresaComNome] => Finalizado\n[inserirEmpresa] => Finalizado\n[inserirEmpresas] => Conexao com banco de dados: COLETADEDADOS finalizada\n[inserirEmpresas] => Finalizado\n[buscarEmpresasDaPagina] => Iniciado\n[buscarEmpresasDaPagina] => Buscar: https://guiafacil.com/buscaAjax.php?busca=&cidade=joinville&tipoBusca=segmento&estado=santa-catarina&pagina=9\n[buscarEmpresasDaPagina] => Quantidade de empresas da página: 20\n[buscarEmpresasDaPagina] => Finalizado\n[inserirEmpresas] => Iniciado\n[inserirEmpresas] => Conexao com banco de dados: COLETADEDADOS efetuada\n[inserirEmpresa] => Iniciado\n[existeEmpresaComNome] => Iniciado\n[existeEmpresaComNome] => Existe empresa? True\n[existeEmpresaComNome] => Finalizado\n[inserirEmpresa] => Finalizado\n[inserirEmpresa] => Iniciado\n[existeEmpresaComNome] => Iniciado\n[existeEmpresaComNome] => Existe empresa? True\n[existeEmpresaComNome] => Finalizado\n[inserirEmpresa] => Finalizado\n[inserirEmpresa] => Iniciado\n[existeEmpresaComNome] => Iniciado\n[existeEmpresaComNome] => Existe empresa? False\n[existeEmpresaComNome] => Finalizado\n[buscaAvaliacaoEmpresaNoGoogle] => Iniciado\n[buscaAvaliacaoEmpresaNoGoogle] => Buscar empresa no google: https://www.google.com/search?q=CALHAS%20UNI%C3%83O%2C%20Joinville\n[buscaAvaliacaoEmpresaNoGoogle] => Finalizado\n[inserirEmpresa] => UUID do registro: 1c18a4ee-337b-40ff-943f-fbfdd4ef1ef8\n[inserirEmpresa] => Avaliação: 5,0\n[inserirTelefonesEmpresa] => Iniciado\n[inserirTelefonesEmpresa] => UUID do registro: aa62e639-c89d-41ba-8c87-f0ee916e5298\n[inserirTelefonesEmpresa] => UUID do registro: 97c059d4-4c88-45a4-ab1f-67e1c8be9722\n[inserirTelefonesEmpresa] => Finalizado\n[inserirEnderecosEmpresa] => Iniciado\n[inserirEnderecosEmpresa] => UUID do registro: ee4d3bad-12fd-4546-97f1-df92fb1be6d6\n[inserirEnderecosEmpresa] => Finalizado\n[inserirEmpresa] => Registro inserido: CALHAS UNIÃO\n[inserirEmpresa] => Finalizado\n[inserirEmpresa] => Iniciado\n[existeEmpresaComNome] => Iniciado\n[existeEmpresaComNome] => Existe empresa? True\n[existeEmpresaComNome] => Finalizado\n[inserirEmpresa] => Finalizado\n[inserirEmpresa] => Iniciado\n[existeEmpresaComNome] => Iniciado\n[existeEmpresaComNome] => Existe empresa? True\n[existeEmpresaComNome] => Finalizado\n[inserirEmpresa] => Finalizado\n[inserirEmpresa] => Iniciado\n[existeEmpresaComNome] => Iniciado\n[existeEmpresaComNome] => Existe empresa? True\n[existeEmpresaComNome] => Finalizado\n[inserirEmpresa] => Finalizado\n[inserirEmpresa] => Iniciado\n[existeEmpresaComNome] => Iniciado\n[existeEmpresaComNome] => Existe empresa? True\n[existeEmpresaComNome] => Finalizado\n[inserirEmpresa] => Finalizado\n[inserirEmpresa] => Iniciado\n[existeEmpresaComNome] => Iniciado\n[existeEmpresaComNome] => Existe empresa? True\n[existeEmpresaComNome] => Finalizado\n[inserirEmpresa] => Finalizado\n[inserirEmpresa] => Iniciado\n[existeEmpresaComNome] => Iniciado\n[existeEmpresaComNome] => Existe empresa? True\n[existeEmpresaComNome] => Finalizado\n[inserirEmpresa] => Finalizado\n[inserirEmpresa] => Iniciado\n[existeEmpresaComNome] => Iniciado\n[existeEmpresaComNome] => Existe empresa? True\n[existeEmpresaComNome] => Finalizado\n[inserirEmpresa] => Finalizado\n[inserirEmpresa] => Iniciado\n[existeEmpresaComNome] => Iniciado\n[existeEmpresaComNome] => Existe empresa? True\n[existeEmpresaComNome] => Finalizado\n[inserirEmpresa] => Finalizado\n[inserirEmpresa] => Iniciado\n[existeEmpresaComNome] => Iniciado\n[existeEmpresaComNome] => Existe empresa? True\n[existeEmpresaComNome] => Finalizado\n[inserirEmpresa] => Finalizado\n[inserirEmpresa] => Iniciado\n[existeEmpresaComNome] => Iniciado\n[existeEmpresaComNome] => Existe empresa? True\n[existeEmpresaComNome] => Finalizado\n[inserirEmpresa] => Finalizado\n[inserirEmpresa] => Iniciado\n[existeEmpresaComNome] => Iniciado\n[existeEmpresaComNome] => Existe empresa? True\n[existeEmpresaComNome] => Finalizado\n[inserirEmpresa] => Finalizado\n[inserirEmpresa] => Iniciado\n[existeEmpresaComNome] => Iniciado\n[existeEmpresaComNome] => Existe empresa? True\n[existeEmpresaComNome] => Finalizado\n[inserirEmpresa] => Finalizado\n[inserirEmpresa] => Iniciado\n[existeEmpresaComNome] => Iniciado\n[existeEmpresaComNome] => Existe empresa? True\n[existeEmpresaComNome] => Finalizado\n[inserirEmpresa] => Finalizado\n[inserirEmpresa] => Iniciado\n[existeEmpresaComNome] => Iniciado\n[existeEmpresaComNome] => Existe empresa? True\n[existeEmpresaComNome] => Finalizado\n[inserirEmpresa] => Finalizado\n[inserirEmpresa] => Iniciado\n[existeEmpresaComNome] => Iniciado\n[existeEmpresaComNome] => Existe empresa? True\n[existeEmpresaComNome] => Finalizado\n[inserirEmpresa] => Finalizado\n[inserirEmpresa] => Iniciado\n[existeEmpresaComNome] => Iniciado\n[existeEmpresaComNome] => Existe empresa? True\n[existeEmpresaComNome] => Finalizado\n[inserirEmpresa] => Finalizado\n[inserirEmpresa] => Iniciado\n[existeEmpresaComNome] => Iniciado\n[existeEmpresaComNome] => Existe empresa? True\n[existeEmpresaComNome] => Finalizado\n[inserirEmpresa] => Finalizado\n[inserirEmpresas] => Conexao com banco de dados: COLETADEDADOS finalizada\n[inserirEmpresas] => Finalizado\n[buscarEmpresasDaPagina] => Iniciado\n[buscarEmpresasDaPagina] => Buscar: https://guiafacil.com/buscaAjax.php?busca=&cidade=joinville&tipoBusca=segmento&estado=santa-catarina&pagina=10\n"
    }
   ],
   "source": [
    "buscarEmpresas('', 'joinville', 'santa-catarina')"
   ]
  },
  {
   "cell_type": "code",
   "execution_count": null,
   "metadata": {},
   "outputs": [],
   "source": []
  }
 ],
 "metadata": {
  "kernelspec": {
   "display_name": "Python 3",
   "language": "python",
   "name": "python3"
  },
  "language_info": {
   "codemirror_mode": {
    "name": "ipython",
    "version": 3
   },
   "file_extension": ".py",
   "mimetype": "text/x-python",
   "name": "python",
   "nbconvert_exporter": "python",
   "pygments_lexer": "ipython3",
   "version": "3.7.4"
  }
 },
 "nbformat": 4,
 "nbformat_minor": 2
}