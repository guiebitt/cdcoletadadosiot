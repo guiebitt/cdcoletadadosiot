{
 "cells": [
  {
   "cell_type": "markdown",
   "metadata": {},
   "source": [
    "# Analisador de empresas"
   ]
  },
  {
   "cell_type": "markdown",
   "metadata": {},
   "source": [
    "Tem como objetivo extrair informações relacionadas as empresas de uma determinada região e sua classificação no Google Meu Negócio e Facebook, se houver mídia relacionada."
   ]
  },
  {
   "cell_type": "code",
   "execution_count": 1,
   "metadata": {},
   "outputs": [
    {
     "name": "stdout",
     "output_type": "stream",
     "text": "Requirement already satisfied: psycopg2-binary in /home/guiebitt/Workstation/Tools/anaconda3/lib/python3.7/site-packages (2.8.4)\n"
    }
   ],
   "source": [
    "!pip install psycopg2-binary"
   ]
  },
  {
   "cell_type": "code",
   "execution_count": 2,
   "metadata": {},
   "outputs": [],
   "source": [
    "DEBUG = True\n",
    "\n",
    "def LOG(funcao, mensagem, pulaLinhaAntes = False, pulaLinhaDepois = False):\n",
    "    if DEBUG == True:\n",
    "        if pulaLinhaAntes:\n",
    "            print('\\n');\n",
    "        print('[{}] => {}'.format(funcao, mensagem))\n",
    "        if pulaLinhaDepois:\n",
    "            print('\\n');"
   ]
  },
  {
   "cell_type": "code",
   "execution_count": 13,
   "metadata": {},
   "outputs": [],
   "source": [
    "from urllib.request import urlopen\n",
    "import json\n",
    "import psycopg2\n",
    "import uuid"
   ]
  },
  {
   "cell_type": "markdown",
   "execution_count": 68,
   "metadata": {},
   "outputs": [],
   "source": [
    "```sql\n",
    "CREATE TABLE empresa (\n",
    "    id           VARCHAR(36)   NOT NULL,\n",
    "    nome         VARCHAR(255)  NOT NULL,\n",
    "    atividade    VARCHAR(255)  NOT NULL,\n",
    "    emailCliente VARCHAR(255),\n",
    "    cep          VARCHAR(20) ,\n",
    "    cidade       VARCHAR(255),\n",
    "    estado       VARCHAR(255),\n",
    "    bairro       VARCHAR(255),\n",
    "    uf           VARCHAR(5)  ,\n",
    "    PRIMARY KEY (id)\n",
    ");\n",
    "\n",
    "CREATE TABLE empresa_telefone (\n",
    "    id                VARCHAR(36) NOT NULL,\n",
    "    ddd               VARCHAR(5),\n",
    "    telefone          VARCHAR(50) NOT NULL,\n",
    "    telefoneCompleto  VARCHAR(100),\n",
    "    whatsapp          BOOLEAN,\n",
    "    telefone0800      BOOLEAN,\n",
    "    PRIMARY KEY (id)\n",
    ");\n",
    "\n",
    "CREATE TABLE empresa_endereco (\n",
    "    id       VARCHAR(36)  NOT NULL,\n",
    "    endereco VARCHAR(255) NOT NULL,\n",
    "    PRIMARY KEY (id)\n",
    ");\n",
    "```"
   ]
  },
  {
   "cell_type": "code",
   "execution_count": 32,
   "metadata": {},
   "outputs": [],
   "source": [
    "def existeEmpresaComNome(cursor, nome):\n",
    "\n",
    "    cursor.execute(\"SELECT 1 FROM empresa WHERE nome = '{}'\".format(nome))\n",
    "\n",
    "    if (cursor.fetchone() == None):\n",
    "        return False\n",
    "    else:\n",
    "        return True"
   ]
  },
  {
   "cell_type": "code",
   "execution_count": 50,
   "metadata": {},
   "outputs": [],
   "source": [
    "def inserirEmpresa(conexao, cursor, empresa):\n",
    "\n",
    "    LOG('inserirEmpresaBancoDados', 'Iniciado')\n",
    "\n",
    "    if (existeEmpresaComNome(cursor, empresa['nome']) == False):\n",
    "        \n",
    "        idEmpresa = uuid.uuid4()\n",
    "        \n",
    "        LOG('inserirEmpresaBancoDados', 'UUID do registro: {}'.format(str(idEmpresa)))\n",
    "        \n",
    "        cursor.execute(\"INSERT INTO empresa (id, nome, atividade, emailCliente, cep, cidade, estado, bairro, uf) VALUES (%s, %s, %s, %s, %s, %s, %s, %s, %s)\",(str(idEmpresa), empresa['nome'], empresa['atividade'], empresa['emailCliente'], empresa['cep'], empresa['cidade'], empresa['estado'], empresa['bairro'], empresa['uf']))\n",
    "        conexao.commit()\n",
    "\n",
    "        LOG('inserirEmpresaBancoDados', 'Registro inserido: {}'.format(empresa['nome']))\n",
    "\n",
    "    LOG('inserirBancoDados', 'Finalizado')\n",
    "\n",
    "    return"
   ]
  },
  {
   "cell_type": "code",
   "execution_count": 55,
   "metadata": {},
   "outputs": [],
   "source": [
    "def inserirEmpresas(empresas):\n",
    "\n",
    "    LOG('inserirEmpresas', 'Iniciado')\n",
    "\n",
    "    nomeBancoDados = 'COLETADEDADOS'\n",
    "    usuarioBancoDados = 'postgres'\n",
    "    senhaBancoDados = '<senha>'\n",
    "    hostBancoDados = 'localhost'\n",
    "\n",
    "    conexao = psycopg2.connect(dbname=nomeBancoDados, user=usuarioBancoDados, password=senhaBancoDados, host=hostBancoDados)\n",
    "    cursor = conexao.cursor()\n",
    "\n",
    "    LOG('inserirEmpresas', 'Conexao com banco de dados: {} efetuada'.format(nomeBancoDados))\n",
    "\n",
    "    for empresa in empresas:\n",
    "        inserirEmpresa(conexao, cursor, empresa)\n",
    "\n",
    "    cursor.close()\n",
    "    conexao.close()\n",
    "\n",
    "    LOG('inserirEmpresas', 'Conexao com banco de dados: {} finalizada'.format(nomeBancoDados))\n",
    "    LOG('inserirEmpresas', 'Finalizado')\n",
    "\n",
    "    return"
   ]
  },
  {
   "cell_type": "code",
   "execution_count": 52,
   "metadata": {},
   "outputs": [],
   "source": [
    "def buscarEmpresasDaPagina(categoria, cidade, estado, pagina):\n",
    "\n",
    "    LOG('buscarEmpresasDaPagina', 'Iniciado')\n",
    "\n",
    "    site = 'https://guiafacil.com/buscaAjax.php?busca={}&cidade={}&tipoBusca=segmento&estado={}&pagina={}'\n",
    "    site = site.format(categoria, cidade, estado, pagina)\n",
    "\n",
    "    LOG('buscarEmpresasDaPagina', 'Buscar: {}'.format(site))\n",
    "\n",
    "    conteudo = urlopen(site).read()\n",
    "    conteudoJson = json.loads(conteudo)\n",
    "    resultado = conteudoJson['resultados']\n",
    "\n",
    "    LOG('buscarEmpresasDaPagina', 'Quantidade de empresas da página: {}'.format(len(resultado)))\n",
    "    LOG('buscarEmpresasDaPagina', 'Finalizado')\n",
    "\n",
    "    return resultado"
   ]
  },
  {
   "cell_type": "code",
   "execution_count": 53,
   "metadata": {},
   "outputs": [],
   "source": [
    "def buscarEmpresas(categoria, cidade, estado):\n",
    "\n",
    "    LOG('buscarEmpresas', 'Iniciado')\n",
    "\n",
    "    resultado = []\n",
    "    pagina = 1\n",
    "\n",
    "    while(True):\n",
    "        resultadoPagina = buscarEmpresasDaPagina(categoria, cidade, estado, pagina)\n",
    "        if (resultadoPagina == 0):\n",
    "            break\n",
    "\n",
    "        inserirEmpresas(resultadoPagina)\n",
    "        resultado += resultadoPagina\n",
    "        pagina += 1\n",
    "        break\n",
    "\n",
    "    LOG('buscarEmpresas', 'Quantidade de empresas: {}'.format(len(resultado)))\n",
    "    LOG('buscarEmpresas', 'Finalizado')\n",
    "\n",
    "    return resultado"
   ]
  },
  {
   "cell_type": "code",
   "execution_count": 54,
   "metadata": {},
   "outputs": [
    {
     "name": "stdout",
     "output_type": "stream",
     "text": "[buscarEmpresas] => Iniciado\n[buscarEmpresasDaPagina] => Iniciado\n[buscarEmpresasDaPagina] => Buscar: https://guiafacil.com/buscaAjax.php?busca=&cidade=joinville&tipoBusca=segmento&estado=santa-catarina&pagina=1\n[buscarEmpresasDaPagina] => Quantidade de empresas da página: 20\n[buscarEmpresasDaPagina] => Finalizado\n[inserirEmpresas] => Iniciado\n[inserirEmpresas] => Conexao com banco de dados: COLETADEDADOS efetuada\n[inserirEmpresaBancoDados] => Iniciado\n[inserirEmpresaBancoDados] => UUID do registro: c45ef247-3524-42ec-a0af-a2b64c91afac\n[inserirEmpresaBancoDados] => Registro inserido: TONY VIDROS\n[inserirBancoDados] => Finalizado\n[inserirEmpresaBancoDados] => Iniciado\n[inserirEmpresaBancoDados] => UUID do registro: 85caab96-4b1d-4df6-bd64-17772ec84f6f\n[inserirEmpresaBancoDados] => Registro inserido: CALHAS A.V.R\n[inserirBancoDados] => Finalizado\n[inserirEmpresaBancoDados] => Iniciado\n[inserirEmpresaBancoDados] => UUID do registro: 1b0b4424-4131-4f5b-af03-1a8333bf2043\n[inserirEmpresaBancoDados] => Registro inserido: PIZZARIA E RESTAURANTE DO NEGO\n[inserirBancoDados] => Finalizado\n[inserirEmpresaBancoDados] => Iniciado\n[inserirEmpresaBancoDados] => UUID do registro: e0436242-24ab-4122-bf5a-276fb0c8f716\n[inserirEmpresaBancoDados] => Registro inserido: PÓLOS INSTALAÇÕES E MONITORAMENTO\n[inserirBancoDados] => Finalizado\n[inserirEmpresaBancoDados] => Iniciado\n[inserirEmpresaBancoDados] => UUID do registro: e17d5d5a-229b-4413-84ae-d4b641da3ea0\n[inserirEmpresaBancoDados] => Registro inserido: TINTÃO COMÉRCIO DE TINTAS\n[inserirBancoDados] => Finalizado\n[inserirEmpresaBancoDados] => Iniciado\n[inserirEmpresaBancoDados] => UUID do registro: 222693ba-9018-4f4c-b13a-34d621342869\n[inserirEmpresaBancoDados] => Registro inserido: MENEGOTO\n[inserirBancoDados] => Finalizado\n[inserirEmpresaBancoDados] => Iniciado\n[inserirEmpresaBancoDados] => UUID do registro: 2e8739ad-0bb2-4675-9e3e-df98cbaa910b\n[inserirEmpresaBancoDados] => Registro inserido: AUTO SOCORRO XANDE\n[inserirBancoDados] => Finalizado\n[inserirEmpresaBancoDados] => Iniciado\n[inserirEmpresaBancoDados] => UUID do registro: 427d053b-ff29-4af0-9dba-4a1eeb19b536\n[inserirEmpresaBancoDados] => Registro inserido: KETERINE PERSIANAS E DECORAÇÕES\n[inserirBancoDados] => Finalizado\n[inserirEmpresaBancoDados] => Iniciado\n[inserirEmpresaBancoDados] => UUID do registro: 36b3d516-4c0f-403b-b21a-5b1b726a5734\n[inserirEmpresaBancoDados] => Registro inserido: ESQUADRIPER SERRALHERIA\n[inserirBancoDados] => Finalizado\n[inserirEmpresaBancoDados] => Iniciado\n[inserirEmpresaBancoDados] => UUID do registro: 075d34f7-c2df-4ee7-b546-c8f7b987c136\n[inserirEmpresaBancoDados] => Registro inserido: REI DAS DIVISÓRIAS\n[inserirBancoDados] => Finalizado\n[inserirEmpresaBancoDados] => Iniciado\n[inserirEmpresaBancoDados] => UUID do registro: a0605004-7f85-4c14-aabb-d95ad168dfa8\n[inserirEmpresaBancoDados] => Registro inserido: LOVE PIZZAS JOINVILLE\n[inserirBancoDados] => Finalizado\n[inserirEmpresaBancoDados] => Iniciado\n[inserirEmpresaBancoDados] => UUID do registro: d62a98db-2bcd-4d1e-8513-68301e0444b0\n[inserirEmpresaBancoDados] => Registro inserido: ALARMES E INSTALADORA CASAGRANDE\n[inserirBancoDados] => Finalizado\n[inserirEmpresaBancoDados] => Iniciado\n[inserirEmpresaBancoDados] => UUID do registro: 0f23dd88-80a7-4726-b7aa-1e32a9fb3a1c\n[inserirEmpresaBancoDados] => Registro inserido: ESQUADRIAS INCOMATELLI\n[inserirBancoDados] => Finalizado\n[inserirEmpresaBancoDados] => Iniciado\n[inserirBancoDados] => Finalizado\n[inserirEmpresaBancoDados] => Iniciado\n[inserirEmpresaBancoDados] => UUID do registro: 0f91d486-cf15-4584-95c7-aad0b1f38891\n[inserirEmpresaBancoDados] => Registro inserido: SERRALHERIA JM\n[inserirBancoDados] => Finalizado\n[inserirEmpresaBancoDados] => Iniciado\n[inserirBancoDados] => Finalizado\n[inserirEmpresaBancoDados] => Iniciado\n[inserirEmpresaBancoDados] => UUID do registro: 6cccda75-9923-4226-938c-c6ad3acd8a57\n[inserirEmpresaBancoDados] => Registro inserido: ODILA CORTINAS E PERSIANAS\n[inserirBancoDados] => Finalizado\n[inserirEmpresaBancoDados] => Iniciado\n[inserirEmpresaBancoDados] => UUID do registro: 40a715e1-f50b-4dba-8755-c4fdff4a4284\n[inserirEmpresaBancoDados] => Registro inserido: BRILHA BRILHA LOCAÇÃO DE BRINQUEDOS\n[inserirBancoDados] => Finalizado\n[inserirEmpresaBancoDados] => Iniciado\n[inserirEmpresaBancoDados] => UUID do registro: 05fa6c52-63ae-4f2e-ba26-b37b358001c1\n[inserirEmpresaBancoDados] => Registro inserido: VIDRAÇARIA IRIRIÚ\n[inserirBancoDados] => Finalizado\n[inserirEmpresaBancoDados] => Iniciado\n[inserirEmpresaBancoDados] => UUID do registro: 5ff6ea1d-2bd1-418d-a9ba-d843c86dfc48\n[inserirEmpresaBancoDados] => Registro inserido: LIFTTEC EMPILHADEIRAS\n[inserirBancoDados] => Finalizado\n[inserirEmpresas] => Conexao com banco de dados: COLETADEDADOS finalizada\n[inserirEmpresas] => Finalizado\n[buscarEmpresas] => Quantidade de empresas: 20\n[buscarEmpresas] => Finalizado\n"
    },
    {
     "data": {
      "text/plain": "tonado, divisórias: eucatex, pvc, bp plus.',\n  'infoOculta': '',\n  'endereco': {},\n  'cep': '89203-307',\n  'cidade': 'Joinville',\n  'estado': 'santa catarina',\n  'bairro': 'Anita Garibaldi',\n  'uf': 'SC',\n  'telefones': [{'ddd': '47',\n    'telefone': '34540055',\n    'telefoneCompleto': '(47) 3454-0055',\n    'whatsapp': 'false',\n    'telefone0800': 'false'},\n   {'ddd': '47',\n    'telefone': '34384722',\n    'telefoneCompleto': '(47) 3438-4722',\n    'whatsapp': 'false',\n    'telefone0800': 'false'},\n   {'ddd': '47',\n    'telefone': '991878476',\n    'telefoneCompleto': '(47) 99187-8476',\n    'whatsapp': 'true',\n    'telefone0800': 'false'}],\n  'telefonesCompletos': '(47) 3454-0055, (47) 3438-4722, (47) 99187-8476',\n  'lat': None,\n  'lng': None,\n  'tipoLog': '',\n  'logradouro': 'Rua Ottokar Doerffel',\n  'numero': '1095',\n  'qtdEnderecos': 1,\n  'enderecos': [' Rua Ottokar Doerffel, 1095, Anita Garibaldi, Joinville - SC'],\n  'end_anunciante': [{'telefone_anun': [{'ddd': '47',\n      'telefone': '34540055',\n      'complemento': '',\n      'whatsapp': False,\n      'telefone0800': False},\n     {'ddd': '47',\n      'telefone': '34384722',\n      'complemento': '',\n      'whatsapp': False,\n      'telefone0800': False},\n     {'ddd': '47',\n      'telefone': '991878476',\n      'complemento': 'WhatsApp',\n      'whatsapp': True,\n      'telefone0800': False}],\n    'endereco_anun': ' Rua Ottokar Doerffel, 1095, Anita Garibaldi, Joinville - SC',\n    'latitude': None,\n    'longitude': None,\n    'logradouro': 'Rua Ottokar Doerffel'}],\n  'urlHotsite': '/site/rei-das-divisorias/'},\n {'nome': 'LOVE PIZZAS JOINVILLE',\n  'codigo': '1023163.2',\n  'atividade': 'Pizzarias',\n  'atividade_semacento': 'Pizzarias',\n  'login': 'love-pizzas-joinville',\n  'pessoaJuridica': True,\n  'grau': 1,\n  'faleGratis': '',\n  'emailCliente': 'bigpizzaslitoral.joinville@yahoo.com.br',\n  'anunciante': True,\n  'arquivo': 'love-pizzas-joinville-14623.jpg',\n  'infoVisivel': 'Atendemos das 18h às 00h de 3° a domingo. Temos os tamanhos: grande, big e família. São mais de 70 sabores doces e salgados, acompanha borda + refigerante Kuat 2L com a pizza brotinho. Tele-entrega para toda a região.',\n  'infoOculta': '',\n  'endereco': {},\n  'cep': '89227-310',\n  'cidade': 'Joinville',\n  'estado': 'santa catarina',\n  'bairro': 'Iririú',\n  'uf': 'SC',\n  'telefones': [{'ddd': '47',\n    'telefone': '34254848',\n    'telefoneCompleto': '(47) 3425-4848',\n    'whatsapp': 'true',\n    'telefone0800': 'false'}],\n  'telefonesCompletos': '(47) 3425-4848',\n  'lat': None,\n  'lng': None,\n  'tipoLog': '',\n  'logradouro': 'Rua Jorge Augusto Emílio Müller',\n  'numero': '117',\n  'qtdEnderecos': 1,\n  'enderecos': [' Rua Jorge Augusto Emílio Müller, 117, Iririú, Joinville - SC'],\n  'end_anunciante': [{'telefone_anun': [{'ddd': '47',\n      'telefone': '34254848',\n      'complemento': 'WhatsApp',\n      'whatsapp': True,\n      'telefone0800': False}],\n    'endereco_anun': ' Rua Jorge Augusto Emílio Müller, 117, Iririú, Joinville - SC',\n    'latitude': None,\n    'longitude': None,\n    'logradouro': 'Rua Jorge Augusto Emílio Müller'}],\n  'urlHotsite': '/site/love-pizzas-joinville/'},\n {'nome': 'ALARMES E INSTALADORA CASAGRANDE',\n  'codigo': '1019711.2',\n  'atividade': 'Câmeras de Segurança',\n  'atividade_semacento': 'Cameras De Seguranca',\n  'login': 'alarmes-e-instaladora-casagrande',\n  'pessoaJuridica': True,\n  'grau': 1,\n  'faleGratis': '',\n  'emailCliente': 'jlle.alarmes@terra.com.br',\n  'anunciante': True,\n  'arquivo': 'alarmes-e-instaladora-casagrande-10527.gif',\n  'infoVisivel': 'Venda e instalação de alarmes, CFTV (câmeras de segurança), cerca elétrica, vídeo porteiro, interfone residencial e coletivo, automação de portão, controle de acesso e teclado. Entre em contato!',\n  'infoOculta': '',\n  'endereco': {},\n  'cep': '89210-430',\n  'cidade': 'Joinville',\n  'estado': 'santa catarina',\n  'bairro': 'Itaum',\n  'uf': 'SC',\n  'telefones': [{'ddd': '47',\n    'telefone': '30139289',\n    'telefoneCompleto': '(47) 3013-9289',\n    'whatsapp': 'false',\n    'telefone0800': 'false'},\n   {'ddd': '47',\n    'telefone': '991455589',\n    'telefoneCompleto': '(47) 99145-5589',\n    'whatsapp': 'true',\n    'telefone0800': 'false'}],\n  'telefonesCompletos': '(47) 3013-9289, (47) 99145-5589',\n  'lat': None,\n  'lng': None,\n  'tipoLog': '',\n  'logradouro': 'Rua Benedito Novo',\n  'numero': 's/n',\n  'qtdEnderecos': 1,\n  'enderecos': [' Rua Benedito Novo, s/n, Itaum, Joinville - SC'],\n  'end_anunciante': [{'telefone_anun': [{'ddd': '47',\n      'telefone': '30139289',\n      'complemento': '',\n      'whatsapp': False,\n      'telefone0800': False},\n     {'ddd': '47',\n      'telefone': '991455589',\n      'complemento': 'WhatsApp',\n      'whatsapp': True,\n      'telefone0800': False}],\n    'endereco_anun': ' Rua Benedito Novo, Itaum, Joinville - SC',\n    'latitude': None,\n    'longitude': None,\n    'logradouro': 'Rua Benedito Novo'}],\n  'urlHotsite': '/site/alarmes-e-instaladora-casagrande/'},\n {'nome': 'ESQUADRIAS INCOMATELLI',\n  'codigo': '1022065.3',\n  'atividade': 'Móveis sob Medida',\n  'atividade_semacento': 'Moveis Sob Medida',\n  'login': 'esquadrias-e-moveis-sob-medida-incomatelli',\n  'pessoaJuridica': True,\n  'grau': 1,\n  'faleGratis': '',\n  'emailCliente': 'comercial@incomatelli.com.br',\n  'anunciante': True,\n  'arquivo': 'esquadrias-e-moveis-sob-medida-incomatelli-14081.jpg',\n  'infoVisivel': 'Móveis sob medida e planejados em MDF, esquadrias de madeiras, portas, janelas, rodapés, decks e pergolados. Entre em contato e faça um orçamento!',\n  'infoOculta': '',\n  'endereco': {},\n  'cep': '89213-430',\n  'cidade': 'Joinville',\n  'estado': 'santa catarina',\n  'bairro': 'Nova Brasília',\n  'uf': 'SC',\n  'telefones': [{'ddd': '47',\n    'telefone': '34363704',\n    'telefoneCompleto': '(47) 3436-3704',\n    'whatsapp': 'false',\n    'telefone0800': 'false'},\n   {'ddd': '47',\n    'telefone': '34269181',\n    'telefoneCompleto': '(47) 3426-9181',\n    'whatsapp': 'false',\n    'telefone0800': 'false'},\n   {'ddd': '47',\n    'telefone': '999714327',\n    'telefoneCompleto': '(47) 99971-4327',\n    'whatsapp': 'true',\n    'telefone0800': 'false'}],\n  'telefonesCompletos': '(47) 3436-3704, (47) 3426-9181, (47) 99971-4327',\n  'lat': None,\n  'lng': None,\n  'tipoLog': '',\n  'logradouro': 'Rua Bom Retiro',\n  'numero': '616',\n  'qtdEnderecos': 1,\n  'enderecos': [' Rua Bom Retiro, 616, Nova Brasília, Joinville - SC'],\n  'end_anunciante': [{'telefone_anun': [{'ddd': '47',\n      'telefone': '34363704',\n      'complemento': '',\n      'whatsapp': False,\n      'telefone0800': False},\n     {'ddd': '47',\n      'telefone': '34269181',\n      'complemento': '',\n      'whatsapp': False,\n      'telefone0800': False},\n     {'ddd': '47',\n      'telefone': '999714327',\n      'complemento': 'WhatsApp',\n      'whatsapp': True,\n      'telefone0800': False}],\n    'endereco_anun': ' Rua Bom Retiro, 616, Nova Brasília, Joinville - SC',\n    'latitude': None,\n    'longitude': None,\n    'logradouro': 'Rua Bom Retiro'}],\n  'urlHotsite': '/site/esquadrias-e-moveis-sob-medida-incomatelli/'},\n {'nome': 'PÓLOS INSTALAÇÕES E MONITORAMENTO',\n  'codigo': '1019538.3',\n  'atividade': 'Câmeras de Segurança',\n  'atividade_semacento': 'Cameras De Seguranca',\n  'login': 'polos-instalacoes-e-monitoramento',\n  'pessoaJuridica': True,\n  'grau': 1,\n  'faleGratis': '',\n  'emailCliente': 'sonia@polosalarmes.com',\n  'anunciante': True,\n  'arquivo': 'polos-instalacoes-e-monitoramento-5292.jpg',\n  'infoVisivel': 'Fazemos instalação e manutenção de alarmes. Trabalhamos com monitoramento 24H e vídeo porteiro. E ainda, instalação de interfones, CFTV e controle de acesso. Entre em contato e faça um orçamento!',\n  'infoOculta': '',\n  'endereco': {},\n  'cep': '89218-500',\n  'cidade': 'Joinville',\n  'estado': 'santa catarina',\n  'bairro': 'Costa E Silva',\n  'uf': 'SC',\n  'telefones': [{'ddd': '47',\n    'telefone': '30277003',\n    'telefoneCompleto': '(47) 3027-7003',\n    'whatsapp': 'false',\n    'telefone0800': 'false'},\n   {'ddd': '47',\n    'telefone': '30277023',\n    'telefoneCompleto': '(47) 3027-7023',\n    'whatsapp': 'false',\n    'telefone0800': 'false'}],\n  'telefonesCompletos': '(47) 3027-7003, (47) 3027-7023',\n  'lat': None,\n  'lng': None,\n  'tipoLog': '',\n  'logradouro': 'Rua Guilherme',\n  'numero': '1637',\n  'qtdEnderecos': 1,\n  'enderecos': [' Rua Guilherme, 1637, Costa E Silva, Joinville - SC'],\n  'end_anunciante': [{'telefone_anun': [{'ddd': '47',\n      'telefone': '30277003',\n      'complemento': '',\n      'whatsapp': False,\n      'telefone0800': False},\n     {'ddd': '47',\n      'telefone': '30277023',\n      'complemento': '',\n      'whatsapp': False,\n      'telefone0800': False}],\n    'endereco_anun': ' Rua Guilherme, 1637, Costa E Silva, Joinville - SC',\n    'latitude': None,\n    'longitude': None,\n    'logradouro': 'Rua Guilherme'}],\n  'urlHotsite': '/site/polos-instalacoes-e-monitoramento/'},\n {'nome': 'SERRALHERIA JM',\n  'codigo': '1019763.3',\n  'atividade': 'Serralherias e Serralheiros',\n  'atividade_semacento': 'Serralherias E Serralheiros',\n  'login': 'serralheria-jm',\n  'pessoaJuridica': True,\n  'grau': 1,\n  'faleGratis': '',\n  'emailCliente': 'jm34675648@gmail.com',\n  'anunciante': True,\n  'arquivo': 'serralheria-jm-4984.jpg',\n  'infoVisivel': 'Portões de elevação automáticos para residências e indústrias. Produzimos portas pantográficas e grades de proteção. E ainda, esquadrias para galpões e portões de correr. Tudo em alumínio e ferro. Faça um orçamento!',\n  'infoOculta': '',\n  'endereco': {},\n  'cep': '89225-050',\n  'cidade': 'Joinville',\n  'estado': 'santa catarina',\n  'bairro': 'Aventureiro',\n  'uf': 'SC',\n  'telefones': [{'ddd': '47',\n    'telefone': '34675648',\n    'telefoneCompleto': '(47) 3467-5648',\n    'whatsapp': 'false',\n    'telefone0800': 'false'},\n   {'ddd': '47',\n    'telefone': '984055767',\n    'telefoneCompleto': '(47) 98405-5767',\n    'whatsapp': 'false',\n    'telefone0800': 'false'}],\n  'telefonesCompletos': '(47) 3467-5648, (47) 98405-5767',\n  'lat': None,\n  'lng': None,\n  'tipoLog': '',\n  'logradouro': 'Rua Martin Pescador',\n  'numero': '448',\n  'qtdEnderecos': 1,\n  'enderecos': [' Rua Martin Pescador, 448, Aventureiro, Joinville - SC'],\n  'end_anunciante': [{'telefone_anun': [{'ddd': '47',\n      'telefone': '34675648',\n      'complemento': '',\n      'whatsapp': False,\n      'telefone0800': False},\n     {'ddd': '47',\n      'telefone': '984055767',\n      'complemento': '',\n      'whatsapp': False,\n      'telefone0800': False}],\n    'endereco_anun': ' Rua Martin Pescador, 448, Aventureiro, Joinville - SC',\n    'latitude': None,\n    'longitude': None,\n    'logradouro': 'Rua Martin Pescador'}],\n  'urlHotsite': '/site/serralheria-jm/'},\n {'nome': 'REI DAS DIVISÓRIAS',\n  'codigo': '1018914.7',\n  'atividade': 'Carpetes',\n  'atividade_semacento': 'Carpetes',\n  'login': 'rei-das-divisorias',\n  'pessoaJuridica': True,\n  'grau': 1,\n  'faleGratis': '',\n  'emailCliente': 'reidasdivisoriassc@gmail.com',\n  'anunciante': True,\n  'arquivo': 'rei-das-divisorias-2896.jpg',\n  'infoVisivel': 'Persianas, carpetes, pisos laminados, elevados e vinílicos, gesso acartonado, divisórias: eucatex, pvc, bp plus.',\n  'infoOculta': '',\n  'endereco': {},\n  'cep': '89203-307',\n  'cidade': 'Joinville',\n  'estado': 'santa catarina',\n  'bairro': 'Anita Garibaldi',\n  'uf': 'SC',\n  'telefones': [{'ddd': '47',\n    'telefone': '34540055',\n    'telefoneCompleto': '(47) 3454-0055',\n    'whatsapp': 'false',\n    'telefone0800': 'false'},\n   {'ddd': '47',\n    'telefone': '34384722',\n    'telefoneCompleto': '(47) 3438-4722',\n    'whatsapp': 'false',\n    'telefone0800': 'false'},\n   {'ddd': '47',\n    'telefone': '991878476',\n    'telefoneCompleto': '(47) 99187-8476',\n    'whatsapp': 'true',\n    'telefone0800': 'false'}],\n  'telefonesCompletos': '(47) 3454-0055, (47) 3438-4722, (47) 99187-8476',\n  'lat': None,\n  'lng': None,\n  'tipoLog': '',\n  'logradouro': 'Rua Ottokar Doerffel',\n  'numero': '1095',\n  'qtdEnderecos': 1,\n  'enderecos': [' Rua Ottokar Doerffel, 1095, Anita Garibaldi, Joinville - SC'],\n  'end_anunciante': [{'telefone_anun': [{'ddd': '47',\n      'telefone': '34540055',\n      'complemento': '',\n      'whatsapp': False,\n      'telefone0800': False},\n     {'ddd': '47',\n      'telefone': '34384722',\n      'complemento': '',\n      'whatsapp': False,\n      'telefone0800': False},\n     {'ddd': '47',\n      'telefone': '991878476',\n      'complemento': 'WhatsApp',\n      'whatsapp': True,\n      'telefone0800': False}],\n    'endereco_anun': ' Rua Ottokar Doerffel, 1095, Anita Garibaldi, Joinville - SC',\n    'latitude': None,\n    'longitude': None,\n    'logradouro': 'Rua Ottokar Doerffel'}],\n  'urlHotsite': '/site/rei-das-divisorias/'},\n {'nome': 'ODILA CORTINAS E PERSIANAS',\n  'codigo': '1020989.2',\n  'atividade': 'Cortinas',\n  'atividade_semacento': 'Cortinas',\n  'login': 'odila-cortinas-e-persianas',\n  'pessoaJuridica': True,\n  'grau': 1,\n  'faleGratis': '',\n  'emailCliente': 'odilacortinas@gmail.com',\n  'anunciante': True,\n  'arquivo': 'odila-cortinas-e-persianas-10044.jpg',\n  'infoVisivel': 'Cortinas, persianas, tapetes sob medida, papel de parede, almofadas e peças dedecoração. Entre em contato!',\n  'infoOculta': '',\n  'endereco': {},\n  'cep': '89224-150',\n  'cidade': 'Joinville',\n  'estado': 'santa catarina',\n  'bairro': 'Jardim Iririú',\n  'uf': 'SC',\n  'telefones': [{'ddd': '47',\n    'telefone': '34250761',\n    'telefoneCompleto': '(47) 3425-0761',\n    'whatsapp': 'false',\n    'telefone0800': 'false'},\n   {'ddd': '47',\n    'telefone': '997304264',\n    'telefoneCompleto': '(47) 99730-4264',\n    'whatsapp': 'true',\n    'telefone0800': 'false'}],\n  'telefonesCompletos': '(47) 3425-0761, (47) 99730-4264',\n  'lat': None,\n  'lng': None,\n  'tipoLog': '',\n  'logradouro': 'Rua das Cegonhas',\n  'numero': '130',\n  'qtdEnderecos': 1,\n  'enderecos': [' Rua das Cegonhas, 130, Jardim Iririú, Joinville - SC'],\n  'end_anunciante': [{'telefone_anun': [{'ddd': '47',\n      'telefone': '34250761',\n      'complemento': '',\n      'whatsapp': False,\n      'telefone0800': False},\n     {'ddd': '47',\n      'telefone': '997304264',\n      'complemento': 'WhatsApp',\n      'whatsapp': True,\n      'telefone0800': False}],\n    'endereco_anun': ' Rua Das Cegonhas, 130, Jardim Iririú, Joinville - SC',\n    'latitude': None,\n    'longitude': None,\n    'logradouro': 'Rua das Cegonhas'}],\n  'urlHotsite': '/site/odila-cortinas-e-persianas/'},\n {'nome': 'BRILHA BRILHA LOCAÇÃO DE BRINQUEDOS',\n  'codigo': '1019469.3',\n  'atividade': 'Brinquedos - Aluguel',\n  'atividade_semacento': 'Brinquedos - Aluguel',\n  'login': 'brilha-brilha-locacao-de-brinquedos',\n  'pessoaJuridica': True,\n  'grau': 1,\n  'faleGratis': '',\n  'emailCliente': 'joel_jlle@hotmail.com',\n  'anunciante': True,\n  'arquivo': 'brilha-brilha-locacao-de-brinquedos-18257.jpg',\n  'infoVisivel': 'Torne sua festa mais divertida, locamos brinquedos para sua festa ou evento. Aluguel de cama elástica, piscina de bolinhas, gangorra, escorregador. Atendemos  Joinville e região.',\n  'infoOculta': '',\n  'endereco': {},\n  'cep': '89227-740',\n  'cidade': 'Joinville',\n  'estado': 'santa catarina',\n  'bairro': 'Iririú',\n  'uf': 'SC',\n  'telefones': [{'ddd': '47',\n    'telefone': '988250183',\n    'telefoneCompleto': '(47) 98825-0183',\n    'whatsapp': 'true',\n    'telefone0800': 'false'},\n   {'ddd': '47',\n    'telefone': '999121149',\n    'telefoneCompleto': '(47) 99912-1149',\n    'whatsapp': 'false',\n    'telefone0800': 'false'}],\n  'telefonesCompletos': '(47) 98825-0183, (47) 99912-1149',\n  'lat': None,\n  'lng': None,\n  'tipoLog': '',\n  'logradouro': 'Rua Quefren',\n  'numero': '50',\n  'qtdEnderecos': 1,\n  'enderecos': [' Rua Quefren, 50, Iririú, Joinville - SC'],\n  'end_anunciante': [{'telefone_anun': [{'ddd': '47',\n      'telefone': '988250183',\n      'complemento': 'WhatsApp',\n      'whatsapp': True,\n      'telefone0800': False},\n     {'ddd': '47',\n      'telefone': '999121149',\n      'complemento': '',\n      'whatsapp': False,\n      'telefone0800': False}],\n    'endereco_anun': ' Rua Quefren, 50, Iririú, Joinville - SC',\n    'latitude': None,\n    'longitude': None,\n    'logradouro': 'Rua Quefren'}],\n  'urlHotsite': '/site/brilha-brilha-locacao-de-brinquedos/'},\n {'nome': 'VIDRAÇARIA IRIRIÚ',\n  'codigo': '1021379.1',\n  'atividade': 'Vidraçarias',\n  'atividade_semacento': 'Vidracarias',\n  'login': 'vidracaria-iririu',\n  'pessoaJuridica': True,\n  'grau': 1,\n  'faleGratis': '',\n  'emailCliente': 'vidracariaiririu@hotmail.com',\n  'anunciante': True,\n  'arquivo': 'vidracaria-iririu-14979.jpg',\n  'infoVisivel': 'Atuamos há mais de 35 anos. Atendimento personalizado com colaboradores que garantem a qualidade nos nossos serviços. Portas, janelas, box, vidros comuns e temperados, espelhos, portas com serigrafia (pintadas) e vidro fantasia (quadrado, pontilhado). Ligue já!',\n  'infoOculta': '',\n  'endereco': {},\n  'cep': '89227-017',\n  'cidade': 'Joinville',\n  'estado': 'santa catarina',\n  'bairro': 'Iririú',\n  'uf': 'SC',\n  'telefones': [{'ddd': '47',\n    'telefone': '34271703',\n    'telefoneCompleto': '(47) 3427-1703',\n    'whatsapp': 'false',\n    'telefone0800': 'false'},\n   {'ddd': '47',\n    'telefone': '30262220',\n    'telefoneCompleto': '(47) 3026-2220',\n    'whatsapp': 'false',\n    'telefone0800': 'false'},\n   {'ddd': '47',\n    'telefone': '997824546',\n    'telefoneCompleto': '(47) 99782-4546',\n    'whatsapp': 'true',\n    'telefone0800': 'false'}],\n  'telefonesCompletos': '(47) 3427-1703, (47) 3026-2220, (47) 99782-4546',\n  'lat': None,\n  'lng': None,\n  'tipoLog': '',\n  'logradouro': 'Rua Iririú',\n  'numero': '2835',\n  'qtdEnderecos': 1,\n  'enderecos': [' Rua Iririú, 2835, Iririú, Joinville - SC'],\n  'end_anunciante': [{'telefone_anun': [{'ddd': '47',\n      'telefone': '34271703',\n      'complemento': '',\n      'whatsapp': False,\n      'telefone0800': False},\n     {'ddd': '47',\n      'telefone': '30262220',\n      'complemento': '',\n      'whatsapp': False,\n      'telefone0800': False},\n     {'ddd': '47',\n      'telefone': '997824546',\n      'complemento': 'WhatsApp',\n      'whatsapp': True,\n      'telefone0800': False}],\n    'endereco_anun': ' Rua Iririú, 2835, Iririú, Joinville - SC',\n    'latitude': None,\n    'longitude': None,\n    'logradouro': 'Rua Iririú'}],\n  'urlHotsite': '/site/vidracaria-iririu/'},\n {'nome': 'LIFTTEC EMPILHADEIRAS',\n  'codigo': '1018905.2',\n  'atividade': 'Empilhadeiras',\n  'atividade_semacento': 'Empilhadeiras',\n  'login': 'lifftec-guindastes',\n  'pessoaJuridica': True,\n  'grau': 1,\n  'faleGratis': '',\n  'emailCliente': 'fernando.guindastes@hotmail.com',\n  'anunciante': True,\n  'arquivo': 'lifftec-guindastes-2823.gif',\n  'infoVisivel': 'Serviços de guindastes, locação de empilhadeiras, remoção e transportes de  máquinas e equipamentos em geral. Entre em contato!',\n  'infoOculta': '',\n  'endereco': {},\n  'cep': '89212-240',\n  'cidade': 'Joinville',\n  'estado': 'santa catarina',\n  'bairro': 'Floresta',\n  'uf': 'SC',\n  'telefones': [{'ddd': '47',\n    'telefone': '34388443',\n    'telefoneCompleto': '(47) 3438-8443',\n    'whatsapp': 'false',\n    'telefone0800': 'false'},\n   {'ddd': '47',\n    'telefone': '999728550',\n    'telefoneCompleto': '(47) 99972-8550',\n    'whatsapp': 'true',\n    'telefone0800': 'false'}],\n  'telefonesCompletos': '(47) 3438-8443, (47) 99972-8550',\n  'lat': None,\n  'lng': None,\n  'tipoLog': '',\n  'logradouro': 'Rua Guilherme Krueger',\n  'numero': '237',\n  'qtdEnderecos': 1,\n  'enderecos': [' Rua Guilherme Krueger, 237, Floresta, Joinville - SC'],\n  'end_anunciante': [{'telefone_anun': [{'ddd': '47',\n      'telefone': '34388443',\n      'complemento': '',\n      'whatsapp': False,\n      'telefone0800': False},\n     {'ddd': '47',\n      'telefone': '999728550',\n      'complemento': 'WhatsApp',\n      'whatsapp': True,\n      'telefone0800': False}],\n    'endereco_anun': ' Rua Guilherme Krueger, 237, Floresta, Joinville - SC',\n    'latitude': None,\n    'longitude': None,\n    'logradouro': 'Rua Guilherme Krueger'}],\n  'urlHotsite': '/site/lifftec-guindastes/'}]"
     },
     "execution_count": 54,
     "metadata": {},
     "output_type": "execute_result"
    }
   ],
   "source": [
    "buscarEmpresas('', 'joinville', 'santa-catarina')"
   ]
  },
  {
   "cell_type": "code",
   "execution_count": 3,
   "metadata": {},
   "outputs": [],
   "source": [
    "def getGuiaFacilCategories():\n",
    "    print('\\nGetGuiaFacilCategories started...\\n')\n",
    "    site = 'https://www.guiafacil.com/'\n",
    "    print('Opening {}...'.format(site))\n",
    "    html = urlopen(site)\n",
    "    print('Parsing content...')\n",
    "    bs = BeautifulSoup(html.read(),'html.parser')\n",
    "    print('Find all categories...')\n",
    "    divQuickleSearch = bs.find('div', { 'id': 'busca_rapida'})\n",
    "    categories = divQuickleSearch.findAll('a', href=re.compile('^(?!http)(.)*$'))\n",
    "    formattedCategories = []\n",
    "    for category in categories:\n",
    "        formattedCategories.append(unidecode(category['title'].lower().replace(' ', '-')))\n",
    "    print('Categories found {}'.format(formattedCategories))\n",
    "    print('\\nGetGuiaFacilCategories finished...\\n')\n",
    "    return formattedCategories"
   ]
  },
  {
   "cell_type": "code",
   "execution_count": 4,
   "metadata": {},
   "outputs": [],
   "source": [
    "def getCategoryPage(url, city, state):\n",
    "    page = 'https://www.guiafacil.com/titulo/{}/{}/{}/'.format(url, city, state)\n",
    "    try:\n",
    "        html = urlopen(page)\n",
    "        bs = BeautifulSoup(html.read(),'html.parser')\n",
    "        divResults = bs.find('div', { 'id': 'resultados'})\n",
    "    except Exception:\n",
    "        divResults = 'Page {} not found!'.format(page)\n",
    "    return divResults"
   ]
  },
  {
   "cell_type": "code",
   "execution_count": null,
   "metadata": {},
   "outputs": [
    {
     "name": "stdout",
     "output_type": "stream",
     "text": [
      "\n",
      "GetGuiaFacilCategories started...\n",
      "\n",
      "Opening https://www.guiafacil.com/...\n",
      "Parsing content...\n"
     ]
    },
    {
     "name": "stderr",
     "output_type": "stream",
     "text": [
      "Some characters could not be decoded, and were replaced with REPLACEMENT CHARACTER.\n"
     ]
    },
    {
     "name": "stdout",
     "output_type": "stream",
     "text": [
      "Find all categories...\n",
      "Categories found ['pizzarias', 'restaurantes', 'lanches', 'churrascaria', 'concessionarias', 'oficinas', 'autopecas', 'motos', 'materiais-de-construcao', 'moveis-sob-medida', 'arquitetos', 'marmores-e-granitos', 'clinicas-de-estetica', 'farmacias', 'hospitais', 'dentistas', 'eletricistas', 'serralheiros', 'fretes', 'informatica', 'supermercados', 'pet-shops', 'papelarias', 'imobiliarias']\n",
      "\n",
      "GetGuiaFacilCategories finished...\n",
      "\n"
     ]
    }
   ],
   "source": [
    "categories = getGuiaFacilCategories()\n",
    "for category in categories:\n",
    "    print(getCategoryPage(category, 'joinville', 'santa-catarina'))"
   ]
  },
  {
   "cell_type": "code",
   "execution_count": null,
   "metadata": {},
   "outputs": [],
   "source": []
  }
 ],
 "metadata": {
  "kernelspec": {
   "display_name": "Python 3",
   "language": "python",
   "name": "python3"
  },
  "language_info": {
   "codemirror_mode": {
    "name": "ipython",
    "version": 3
   },
   "file_extension": ".py",
   "mimetype": "text/x-python",
   "name": "python",
   "nbconvert_exporter": "python",
   "pygments_lexer": "ipython3",
   "version": "3.7.4"
  }
 },
 "nbformat": 4,
 "nbformat_minor": 2
}