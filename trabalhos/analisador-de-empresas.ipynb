{
 "cells": [
  {
   "cell_type": "markdown",
   "metadata": {},
   "source": [
    "# Analisador de empresas"
   ]
  },
  {
   "cell_type": "markdown",
   "metadata": {},
   "source": [
    "Tem como objetivo extrair informações relacionadas as empresas de uma determinada região e sua classificação no Google Meu Negócio e Facebook, se houver mídia relacionada."
   ]
  },
  {
   "cell_type": "code",
   "execution_count": 61,
   "metadata": {},
   "outputs": [
    {
     "name": "stdout",
     "output_type": "stream",
     "text": "Requirement already satisfied: psycopg2-binary in /home/guiebitt/Workstation/Tools/anaconda3/lib/python3.7/site-packages (2.8.4)\n"
    }
   ],
   "source": [
    "!pip install psycopg2-binary"
   ]
  },
  {
   "cell_type": "code",
   "execution_count": 36,
   "metadata": {},
   "outputs": [],
   "source": [
    "DEBUG = True\n",
    "\n",
    "def LOG(funcao, mensagem, pulaLinhaAntes = False, pulaLinhaDepois = False):\n",
    "    if DEBUG == True:\n",
    "        if pulaLinhaAntes:\n",
    "            print('\\n');\n",
    "        print('[{}] => {}'.format(funcao, mensagem))\n",
    "        if pulaLinhaDepois:\n",
    "            print('\\n');"
   ]
  },
  {
   "cell_type": "code",
   "execution_count": 67,
   "metadata": {},
   "outputs": [],
   "source": [
    "from urllib.request import urlopen\n",
    "import json\n",
    "import psycopg2"
   ]
  },
  {
   "cell_type": "markdown",
   "execution_count": 68,
   "metadata": {},
   "outputs": [],
   "source": [
    "```sql\n",
    "CREATE TABLE empresa (\n",
    "    id VARCHAR(255) PRIMARY KEY,\n",
    "    nome VARCHAR(255)\n",
    ")\n",
    "```"
   ]
  },
  {
   "cell_type": "code",
   "execution_count": 82,
   "metadata": {},
   "outputs": [],
   "source": [
    "def inserirEmpresaBancoDados(empresa):\n",
    "\n",
    "    LOG('inserirBancoDados', 'Iniciado')\n",
    "\n",
    "    conn = psycopg2.connect(dbname=\"COLETADEDADOS\", user=\"postgres\", password=\"<senha>\", host=\"localhost\")\n",
    "\n",
    "    cur = conn.cursor()\n",
    "\n",
    "    cur.execute(\"INSERT INTO empresa (id, nome) VALUES (%s, %s)\",(empresa['codigo'], empresa['nome']))\n",
    "\n",
    "    conn.commit()\n",
    "\n",
    "    cur.close()\n",
    "    conn.close()\n",
    "\n",
    "    LOG('inserirBancoDados', 'Finalizado')"
   ]
  },
  {
   "cell_type": "code",
   "execution_count": 79,
   "metadata": {},
   "outputs": [],
   "source": [
    "def buscarEmpresasDaPagina(categoria, cidade, estado, pagina):\n",
    "\n",
    "    LOG('buscarEmpresasDaPagina', 'Iniciado')\n",
    "\n",
    "    site = 'https://guiafacil.com/buscaAjax.php?busca={}&cidade={}&tipoBusca=segmento&estado={}&pagina={}'\n",
    "    site = site.format(categoria, cidade, estado, pagina)\n",
    "\n",
    "    LOG('buscarEmpresasDaPagina', 'Buscar: {}'.format(site))\n",
    "\n",
    "    conteudo = urlopen(site).read()\n",
    "    conteudoJson = json.loads(conteudo)\n",
    "    resultado = conteudoJson['resultados']\n",
    "\n",
    "    LOG('buscarEmpresasDaPagina', 'Quantidade de empresas da página: {}'.format(len(resultado)))\n",
    "    LOG('buscarEmpresasDaPagina', 'Finalizado')\n",
    "\n",
    "    return resultado"
   ]
  },
  {
   "cell_type": "code",
   "execution_count": 80,
   "metadata": {},
   "outputs": [],
   "source": [
    "def buscarEmpresas(categoria, cidade, estado):\n",
    "\n",
    "    LOG('buscarEmpresas', 'Iniciado')\n",
    "\n",
    "    resultado = []\n",
    "    pagina = 1\n",
    "\n",
    "    while(True):\n",
    "        resultadoPagina = buscarEmpresasDaPagina(categoria, cidade, estado, pagina)\n",
    "        if (resultadoPagina == 2):\n",
    "            break;\n",
    "        for empresa in resultadoPagina:\n",
    "            inserirEmpresaBancoDados(empresa)\n",
    "\n",
    "        resultado += resultadoPagina\n",
    "\n",
    "    LOG('buscarEmpresas', 'Quantidade de empresas: {}'.format(len(resultado)))\n",
    "    LOG('buscarEmpresas', 'Finalizado')\n",
    "\n",
    "    return resultado"
   ]
  },
  {
   "cell_type": "code",
   "execution_count": 83,
   "metadata": {},
   "outputs": [
    {
     "name": "stdout",
     "output_type": "stream",
     "text": "[buscarEmpresas] => Iniciado\n[buscarEmpresasDaPagina] => Iniciado\n[buscarEmpresasDaPagina] => Buscar: https://guiafacil.com/buscaAjax.php?busca=&cidade=joinville&tipoBusca=segmento&estado=santa-catarina&pagina=1\n[buscarEmpresasDaPagina] => Quantidade de empresas da página: 20\n[buscarEmpresasDaPagina] => Finalizado\n[inserirBancoDados] => Iniciado\n[inserirBancoDados] => Finalizado\n[inserirBancoDados] => Iniciado\n[inserirBancoDados] => Finalizado\n[inserirBancoDados] => Iniciado\n[inserirBancoDados] => Finalizado\n[inserirBancoDados] => Iniciado\n[inserirBancoDados] => Finalizado\n[inserirBancoDados] => Iniciado\n[inserirBancoDados] => Finalizado\n[inserirBancoDados] => Iniciado\n[inserirBancoDados] => Finalizado\n[inserirBancoDados] => Iniciado\n[inserirBancoDados] => Finalizado\n[inserirBancoDados] => Iniciado\n[inserirBancoDados] => Finalizado\n[inserirBancoDados] => Iniciado\n[inserirBancoDados] => Finalizado\n[inserirBancoDados] => Iniciado\n[inserirBancoDados] => Finalizado\n[inserirBancoDados] => Iniciado\n[inserirBancoDados] => Finalizado\n[inserirBancoDados] => Iniciado\n[inserirBancoDados] => Finalizado\n[inserirBancoDados] => Iniciado\n[inserirBancoDados] => Finalizado\n[inserirBancoDados] => Iniciado\n[inserirBancoDados] => Finalizado\n[inserirBancoDados] => Iniciado\n[inserirBancoDados] => Finalizado\n[inserirBancoDados] => Iniciado\n[inserirBancoDados] => Finalizado\n[inserirBancoDados] => Iniciado\n[inserirBancoDados] => Finalizado\n[inserirBancoDados] => Iniciado\n[inserirBancoDados] => Finalizado\n[inserirBancoDados] => Iniciado\n[inserirBancoDados] => Finalizado\n[inserirBancoDados] => Iniciado\n[inserirBancoDados] => Finalizado\n[buscarEmpresasDaPagina] => Iniciado\n[buscarEmpresasDaPagina] => Buscar: https://guiafacil.com/buscaAjax.php?busca=&cidade=joinville&tipoBusca=segmento&estado=santa-catarina&pagina=1\n[buscarEmpresasDaPagina] => Quantidade de empresas da página: 20\n[buscarEmpresasDaPagina] => Finalizado\n[inserirBancoDados] => Iniciado\n"
    },
    {
     "ename": "UniqueViolation",
     "evalue": "duplicate key value violates unique constraint \"empresa_pkey\"\nDETAIL:  Key (id)=(1019716.2) already exists.\n",
     "output_type": "error",
     "traceback": [
      "\u001b[0;31m---------------------------------------------------------------------------\u001b[0m",
      "\u001b[0;31mUniqueViolation\u001b[0m                           Traceback (most recent call last)",
      "\u001b[0;32m<ipython-input-83-67910f8a527d>\u001b[0m in \u001b[0;36m<module>\u001b[0;34m\u001b[0m\n\u001b[0;32m----> 1\u001b[0;31m \u001b[0mbuscarEmpresas\u001b[0m\u001b[0;34m(\u001b[0m\u001b[0;34m''\u001b[0m\u001b[0;34m,\u001b[0m \u001b[0;34m'joinville'\u001b[0m\u001b[0;34m,\u001b[0m \u001b[0;34m'santa-catarina'\u001b[0m\u001b[0;34m)\u001b[0m\u001b[0;34m\u001b[0m\u001b[0;34m\u001b[0m\u001b[0m\n\u001b[0m",
      "\u001b[0;32m<ipython-input-80-b6657a8549f2>\u001b[0m in \u001b[0;36mbuscarEmpresas\u001b[0;34m(categoria, cidade, estado)\u001b[0m\n\u001b[1;32m     11\u001b[0m             \u001b[0;32mbreak\u001b[0m\u001b[0;34m;\u001b[0m\u001b[0;34m\u001b[0m\u001b[0;34m\u001b[0m\u001b[0m\n\u001b[1;32m     12\u001b[0m         \u001b[0;32mfor\u001b[0m \u001b[0mempresa\u001b[0m \u001b[0;32min\u001b[0m \u001b[0mresultadoPagina\u001b[0m\u001b[0;34m:\u001b[0m\u001b[0;34m\u001b[0m\u001b[0;34m\u001b[0m\u001b[0m\n\u001b[0;32m---> 13\u001b[0;31m             \u001b[0minserirEmpresaBancoDados\u001b[0m\u001b[0;34m(\u001b[0m\u001b[0mempresa\u001b[0m\u001b[0;34m)\u001b[0m\u001b[0;34m\u001b[0m\u001b[0;34m\u001b[0m\u001b[0m\n\u001b[0m\u001b[1;32m     14\u001b[0m \u001b[0;34m\u001b[0m\u001b[0m\n\u001b[1;32m     15\u001b[0m         \u001b[0mresultado\u001b[0m \u001b[0;34m+=\u001b[0m \u001b[0mresultadoPagina\u001b[0m\u001b[0;34m\u001b[0m\u001b[0;34m\u001b[0m\u001b[0m\n",
      "\u001b[0;32m<ipython-input-82-5c7c89e6b56a>\u001b[0m in \u001b[0;36minserirEmpresaBancoDados\u001b[0;34m(empresa)\u001b[0m\n\u001b[1;32m      7\u001b[0m     \u001b[0mcur\u001b[0m \u001b[0;34m=\u001b[0m \u001b[0mconn\u001b[0m\u001b[0;34m.\u001b[0m\u001b[0mcursor\u001b[0m\u001b[0;34m(\u001b[0m\u001b[0;34m)\u001b[0m\u001b[0;34m\u001b[0m\u001b[0;34m\u001b[0m\u001b[0m\n\u001b[1;32m      8\u001b[0m \u001b[0;34m\u001b[0m\u001b[0m\n\u001b[0;32m----> 9\u001b[0;31m     \u001b[0mcur\u001b[0m\u001b[0;34m.\u001b[0m\u001b[0mexecute\u001b[0m\u001b[0;34m(\u001b[0m\u001b[0;34m\"INSERT INTO empresa (id, nome) VALUES (%s, %s)\"\u001b[0m\u001b[0;34m,\u001b[0m\u001b[0;34m(\u001b[0m\u001b[0mempresa\u001b[0m\u001b[0;34m[\u001b[0m\u001b[0;34m'codigo'\u001b[0m\u001b[0;34m]\u001b[0m\u001b[0;34m,\u001b[0m \u001b[0mempresa\u001b[0m\u001b[0;34m[\u001b[0m\u001b[0;34m'nome'\u001b[0m\u001b[0;34m]\u001b[0m\u001b[0;34m)\u001b[0m\u001b[0;34m)\u001b[0m\u001b[0;34m\u001b[0m\u001b[0;34m\u001b[0m\u001b[0m\n\u001b[0m\u001b[1;32m     10\u001b[0m \u001b[0;34m\u001b[0m\u001b[0m\n\u001b[1;32m     11\u001b[0m     \u001b[0mconn\u001b[0m\u001b[0;34m.\u001b[0m\u001b[0mcommit\u001b[0m\u001b[0;34m(\u001b[0m\u001b[0;34m)\u001b[0m\u001b[0;34m\u001b[0m\u001b[0;34m\u001b[0m\u001b[0m\n",
      "\u001b[0;31mUniqueViolation\u001b[0m: duplicate key value violates unique constraint \"empresa_pkey\"\nDETAIL:  Key (id)=(1019716.2) already exists.\n"
     ]
    }
   ],
   "source": [
    "buscarEmpresas('', 'joinville', 'santa-catarina')"
   ]
  },
  {
   "cell_type": "code",
   "execution_count": 3,
   "metadata": {},
   "outputs": [],
   "source": [
    "def getGuiaFacilCategories():\n",
    "    print('\\nGetGuiaFacilCategories started...\\n')\n",
    "    site = 'https://www.guiafacil.com/'\n",
    "    print('Opening {}...'.format(site))\n",
    "    html = urlopen(site)\n",
    "    print('Parsing content...')\n",
    "    bs = BeautifulSoup(html.read(),'html.parser')\n",
    "    print('Find all categories...')\n",
    "    divQuickleSearch = bs.find('div', { 'id': 'busca_rapida'})\n",
    "    categories = divQuickleSearch.findAll('a', href=re.compile('^(?!http)(.)*$'))\n",
    "    formattedCategories = []\n",
    "    for category in categories:\n",
    "        formattedCategories.append(unidecode(category['title'].lower().replace(' ', '-')))\n",
    "    print('Categories found {}'.format(formattedCategories))\n",
    "    print('\\nGetGuiaFacilCategories finished...\\n')\n",
    "    return formattedCategories"
   ]
  },
  {
   "cell_type": "code",
   "execution_count": 4,
   "metadata": {},
   "outputs": [],
   "source": [
    "def getCategoryPage(url, city, state):\n",
    "    page = 'https://www.guiafacil.com/titulo/{}/{}/{}/'.format(url, city, state)\n",
    "    try:\n",
    "        html = urlopen(page)\n",
    "        bs = BeautifulSoup(html.read(),'html.parser')\n",
    "        divResults = bs.find('div', { 'id': 'resultados'})\n",
    "    except Exception:\n",
    "        divResults = 'Page {} not found!'.format(page)\n",
    "    return divResults"
   ]
  },
  {
   "cell_type": "code",
   "execution_count": null,
   "metadata": {},
   "outputs": [
    {
     "name": "stdout",
     "output_type": "stream",
     "text": [
      "\n",
      "GetGuiaFacilCategories started...\n",
      "\n",
      "Opening https://www.guiafacil.com/...\n",
      "Parsing content...\n"
     ]
    },
    {
     "name": "stderr",
     "output_type": "stream",
     "text": [
      "Some characters could not be decoded, and were replaced with REPLACEMENT CHARACTER.\n"
     ]
    },
    {
     "name": "stdout",
     "output_type": "stream",
     "text": [
      "Find all categories...\n",
      "Categories found ['pizzarias', 'restaurantes', 'lanches', 'churrascaria', 'concessionarias', 'oficinas', 'autopecas', 'motos', 'materiais-de-construcao', 'moveis-sob-medida', 'arquitetos', 'marmores-e-granitos', 'clinicas-de-estetica', 'farmacias', 'hospitais', 'dentistas', 'eletricistas', 'serralheiros', 'fretes', 'informatica', 'supermercados', 'pet-shops', 'papelarias', 'imobiliarias']\n",
      "\n",
      "GetGuiaFacilCategories finished...\n",
      "\n"
     ]
    }
   ],
   "source": [
    "categories = getGuiaFacilCategories()\n",
    "for category in categories:\n",
    "    print(getCategoryPage(category, 'joinville', 'santa-catarina'))"
   ]
  },
  {
   "cell_type": "code",
   "execution_count": null,
   "metadata": {},
   "outputs": [],
   "source": []
  }
 ],
 "metadata": {
  "kernelspec": {
   "display_name": "Python 3",
   "language": "python",
   "name": "python3"
  },
  "language_info": {
   "codemirror_mode": {
    "name": "ipython",
    "version": 3
   },
   "file_extension": ".py",
   "mimetype": "text/x-python",
   "name": "python",
   "nbconvert_exporter": "python",
   "pygments_lexer": "ipython3",
   "version": "3.7.4"
  }
 },
 "nbformat": 4,
 "nbformat_minor": 2
}