{
 "cells": [
  {
   "cell_type": "markdown",
   "metadata": {},
   "source": [
    "# Analisador de empresas"
   ]
  },
  {
   "cell_type": "markdown",
   "metadata": {},
   "source": [
    "Tem como objetivo extrair informações relacionadas as empresas de uma determinada região e sua classificação no Google Meu Negócio e Facebook, se houver mídia relacionada."
   ]
  },
  {
   "cell_type": "markdown",
   "execution_count": 68,
   "metadata": {},
   "outputs": [],
   "source": [
    "```sql\n",
    "CREATE TABLE empresa (\n",
    "    id              VARCHAR(36)   NOT NULL,\n",
    "    nome            VARCHAR(255)  NOT NULL,\n",
    "    atividade       VARCHAR(255),\n",
    "    pessoaJuridica  BOOLEAN,\n",
    "    emailCliente    VARCHAR(255),\n",
    "    cep             VARCHAR(20) ,\n",
    "    cidade          VARCHAR(255),\n",
    "    estado          VARCHAR(255),\n",
    "    bairro          VARCHAR(255),\n",
    "    uf              VARCHAR(5)  ,\n",
    "    avaliacaoGoogle VARCHAR(255),\n",
    "    PRIMARY KEY (id)\n",
    ");\n",
    "\n",
    "CREATE TABLE empresa_telefone (\n",
    "    id                VARCHAR(36) NOT NULL,\n",
    "    id_empresa        VARCHAR(36) NOT NULL,\n",
    "    ddd               VARCHAR(5),\n",
    "    telefone          VARCHAR(50) NOT NULL,\n",
    "    telefoneCompleto  VARCHAR(100),\n",
    "    whatsapp          BOOLEAN,\n",
    "    telefone0800      BOOLEAN,\n",
    "    PRIMARY KEY (id)\n",
    ");\n",
    "\n",
    "CREATE TABLE empresa_endereco (\n",
    "    id         VARCHAR(36)  NOT NULL,\n",
    "    id_empresa VARCHAR(36)  NOT NULL,\n",
    "    endereco   VARCHAR(255) NOT NULL,\n",
    "    PRIMARY KEY (id)\n",
    ");\n",
    "```"
   ]
  },
  {
   "cell_type": "code",
   "execution_count": 48,
   "metadata": {},
   "outputs": [
    {
     "name": "stdout",
     "output_type": "stream",
     "text": "Requirement already satisfied: requests in /home/guiebitt/Workstation/Tools/anaconda3/lib/python3.7/site-packages (2.22.0)\nRequirement already satisfied: idna<2.9,>=2.5 in /home/guiebitt/Workstation/Tools/anaconda3/lib/python3.7/site-packages (from requests) (2.8)\nRequirement already satisfied: certifi>=2017.4.17 in /home/guiebitt/Workstation/Tools/anaconda3/lib/python3.7/site-packages (from requests) (2019.9.11)\nRequirement already satisfied: urllib3!=1.25.0,!=1.25.1,<1.26,>=1.21.1 in /home/guiebitt/Workstation/Tools/anaconda3/lib/python3.7/site-packages (from requests) (1.24.2)\nRequirement already satisfied: chardet<3.1.0,>=3.0.2 in /home/guiebitt/Workstation/Tools/anaconda3/lib/python3.7/site-packages (from requests) (3.0.4)\n"
    }
   ],
   "source": [
    "!pip install requests"
   ]
  },
  {
   "cell_type": "code",
   "execution_count": 49,
   "metadata": {},
   "outputs": [
    {
     "name": "stdout",
     "output_type": "stream",
     "text": "Requirement already satisfied: psycopg2-binary in /home/guiebitt/Workstation/Tools/anaconda3/lib/python3.7/site-packages (2.8.4)\n"
    }
   ],
   "source": [
    "!pip install psycopg2-binary"
   ]
  },
  {
   "cell_type": "code",
   "execution_count": 50,
   "metadata": {},
   "outputs": [
    {
     "name": "stdout",
     "output_type": "stream",
     "text": "Requirement already satisfied: selenium in /home/guiebitt/Workstation/Tools/anaconda3/lib/python3.7/site-packages (3.141.0)\nRequirement already satisfied: urllib3 in /home/guiebitt/Workstation/Tools/anaconda3/lib/python3.7/site-packages (from selenium) (1.24.2)\nRequirement already satisfied: chromedriver-binary in /home/guiebitt/Workstation/Tools/anaconda3/lib/python3.7/site-packages (79.0.3945.16.0)\n"
    }
   ],
   "source": [
    "!pip install selenium\n",
    "!pip install chromedriver-binary"
   ]
  },
  {
   "cell_type": "code",
   "execution_count": 51,
   "metadata": {},
   "outputs": [],
   "source": [
    "DEBUG = True\n",
    "\n",
    "def LOG(funcao, mensagem, pulaLinhaAntes = False, pulaLinhaDepois = False):\n",
    "    if DEBUG == True:\n",
    "        if pulaLinhaAntes:\n",
    "            print('\\n');\n",
    "        print('[{}] => {}'.format(funcao, mensagem))\n",
    "        if pulaLinhaDepois:\n",
    "            print('\\n');"
   ]
  },
  {
   "cell_type": "code",
   "execution_count": 52,
   "metadata": {},
   "outputs": [],
   "source": [
    "from urllib.request import urlopen\n",
    "from bs4 import BeautifulSoup\n",
    "from selenium import webdriver\n",
    "from selenium.webdriver.chrome.service import Service\n",
    "from selenium.webdriver.chrome.options import Options\n",
    "from selenium.webdriver.common.by import By\n",
    "import chromedriver_binary\n",
    "import json\n",
    "import psycopg2\n",
    "import uuid\n",
    "import urllib.parse\n",
    "import requests\n",
    "import re\n",
    "import time"
   ]
  },
  {
   "cell_type": "code",
   "execution_count": 53,
   "metadata": {},
   "outputs": [],
   "source": [
    "def buscaAvaliacaoEmpresaNoGoogle(nomeEmpresa):\n",
    "\n",
    "    LOG('buscaAvaliacaoEmpresaNoGoogle', 'Iniciado')\n",
    "\n",
    "    site = 'https://www.google.com/search?q={}'.format(urllib.parse.quote(nomeEmpresa))\n",
    "\n",
    "    LOG('buscaAvaliacaoEmpresaNoGoogle', 'Buscar empresa no google: {}'.format(site))\n",
    "\n",
    "    avaliacao = ''\n",
    "    try:\n",
    "        options = Options()\n",
    "        options.add_argument(\"--headless\")\n",
    "        options.add_argument('--no-sandbox')\n",
    "        options.add_argument('--disable-gpu')\n",
    "        options.add_argument('start-maximized')  \n",
    "        options.add_argument('disable-infobars')\n",
    "        options.add_argument(\"--disable-extensions\")\n",
    "        service = Service('/home/guiebitt/Workstation/Tools/Webdrivers/chromedriver')\n",
    "        service.start()\n",
    "        driver = webdriver.Remote(service.service_url, options = options)\n",
    "        driver.get(site);\n",
    "        element = driver.find_element(By.CSS_SELECTOR, \".Aq14fc\")\n",
    "        avaliacao = element.text\n",
    "        driver.quit()\n",
    "    except:\n",
    "        avaliacao = ''\n",
    "\n",
    "    LOG('buscaAvaliacaoEmpresaNoGoogle', 'Finalizado')\n",
    "\n",
    "    return avaliacao"
   ]
  },
  {
   "cell_type": "code",
   "execution_count": 54,
   "metadata": {},
   "outputs": [],
   "source": [
    "def existeEmpresaComNome(cursor, nome):\n",
    "\n",
    "    LOG('existeEmpresaComNome', 'Iniciado')\n",
    "\n",
    "    cursor.execute(\"SELECT 1 FROM empresa WHERE nome = '{}'\".format(nome.replace(\"'\", \"''\")))\n",
    "    resultado = cursor.fetchone()\n",
    "    existeEmpresa = False\n",
    "\n",
    "    if (resultado != None):\n",
    "        existeEmpresa = True\n",
    "\n",
    "    LOG('existeEmpresaComNome', 'Existe empresa? {}'.format(existeEmpresa))\n",
    "    LOG('existeEmpresaComNome', 'Finalizado')\n",
    "\n",
    "    return existeEmpresa"
   ]
  },
  {
   "cell_type": "code",
   "execution_count": 55,
   "metadata": {},
   "outputs": [],
   "source": [
    "def inserirTelefonesEmpresa(conexao, cursor, empresaId, telefones):\n",
    "    \n",
    "    LOG('inserirTelefonesEmpresa', 'Iniciado')\n",
    "\n",
    "    for telefone in telefones:\n",
    "        \n",
    "        idTelefone = uuid.uuid4()\n",
    "        \n",
    "        LOG('inserirTelefonesEmpresa', 'UUID do registro: {}'.format(str(idTelefone)))\n",
    "        \n",
    "        whatsapp = False\n",
    "        if telefone['whatsapp'] == 'true':\n",
    "            whatsapp = True\n",
    "        \n",
    "        telefone0800 = False\n",
    "        if telefone['telefone0800'] == 'true':\n",
    "            telefone0800 = True\n",
    "\n",
    "        cursor.execute(\"INSERT INTO empresa_telefone (id, id_empresa, ddd, telefone, telefoneCompleto, whatsapp, telefone0800) VALUES (%s, %s, %s, %s, %s, %s, %s)\",(str(idTelefone), str(empresaId), telefone['ddd'], telefone['telefone'], telefone['telefoneCompleto'], whatsapp, telefone0800))\n",
    "        conexao.commit()\n",
    "\n",
    "    LOG('inserirTelefonesEmpresa', 'Finalizado')\n",
    "\n",
    "    return"
   ]
  },
  {
   "cell_type": "code",
   "execution_count": 56,
   "metadata": {},
   "outputs": [],
   "source": [
    "def inserirEnderecosEmpresa(conexao, cursor, empresaId, enderecos):\n",
    "\n",
    "    LOG('inserirEnderecosEmpresa', 'Iniciado')\n",
    "\n",
    "    for endereco in enderecos:\n",
    "        \n",
    "        idEndereco = uuid.uuid4()\n",
    "        \n",
    "        LOG('inserirEnderecosEmpresa', 'UUID do registro: {}'.format(str(idEndereco)))\n",
    "\n",
    "        cursor.execute(\"INSERT INTO empresa_endereco (id, id_empresa, endereco) VALUES (%s, %s, %s)\",(str(idEndereco), str(empresaId), endereco))\n",
    "        conexao.commit()\n",
    "\n",
    "    LOG('inserirEnderecosEmpresa', 'Finalizado')\n",
    "\n",
    "    return"
   ]
  },
  {
   "cell_type": "code",
   "execution_count": 57,
   "metadata": {},
   "outputs": [],
   "source": [
    "def inserirEmpresa(conexao, cursor, empresa):\n",
    "\n",
    "    LOG('inserirEmpresa', 'Iniciado')\n",
    "\n",
    "    pessoaJuridica = empresa['pessoaJuridica']\n",
    "    if pessoaJuridica == False:\n",
    "        LOG('inserirEmpresa', 'Pessoa fisica: {} nao inserida'.format(empresa['nome']))\n",
    "        LOG('inserirEmpresa', 'Finalizado')\n",
    "        return\n",
    "\n",
    "    if (existeEmpresaComNome(cursor, empresa['nome']) == False):\n",
    "        \n",
    "        avaliacao = buscaAvaliacaoEmpresaNoGoogle('{}, {}'.format(empresa['nome'], empresa['cidade']))\n",
    "\n",
    "        idEmpresa = uuid.uuid4()\n",
    "        \n",
    "        LOG('inserirEmpresa', 'UUID do registro: {}'.format(str(idEmpresa)))\n",
    "        \n",
    "        cursor.execute(\"INSERT INTO empresa (id, nome, atividade, emailCliente, cep, cidade, estado, bairro, uf, pessoaJuridica, avaliacaoGoogle) VALUES (%s, %s, %s, %s, %s, %s, %s, %s, %s, %s, %s)\",(str(idEmpresa), empresa['nome'], empresa['atividade'], empresa['emailCliente'], empresa['cep'], empresa['cidade'], empresa['estado'], empresa['bairro'], empresa['uf'], pessoaJuridica, avaliacao))\n",
    "        conexao.commit()\n",
    "\n",
    "        inserirTelefonesEmpresa(conexao, cursor, idEmpresa, empresa['telefones'])\n",
    "        inserirEnderecosEmpresa(conexao, cursor, idEmpresa, empresa['enderecos'])\n",
    "\n",
    "        LOG('inserirEmpresa', 'Registro inserido: {}'.format(empresa['nome']))\n",
    "\n",
    "    LOG('inserirEmpresa', 'Finalizado')\n",
    "\n",
    "    return"
   ]
  },
  {
   "cell_type": "code",
   "execution_count": 58,
   "metadata": {},
   "outputs": [],
   "source": [
    "def inserirEmpresas(empresas):\n",
    "\n",
    "    LOG('inserirEmpresas', 'Iniciado')\n",
    "\n",
    "    nomeBancoDados = 'COLETADEDADOS'\n",
    "    usuarioBancoDados = 'postgres'\n",
    "    senhaBancoDados = 'totvs@123'\n",
    "    hostBancoDados = 'localhost'\n",
    "\n",
    "    conexao = psycopg2.connect(dbname=nomeBancoDados, user=usuarioBancoDados, password=senhaBancoDados, host=hostBancoDados)\n",
    "    cursor = conexao.cursor()\n",
    "\n",
    "    LOG('inserirEmpresas', 'Conexao com banco de dados: {} efetuada'.format(nomeBancoDados))\n",
    "\n",
    "    for empresa in empresas:\n",
    "        inserirEmpresa(conexao, cursor, empresa)\n",
    "\n",
    "    cursor.close()\n",
    "    conexao.close()\n",
    "\n",
    "    LOG('inserirEmpresas', 'Conexao com banco de dados: {} finalizada'.format(nomeBancoDados))\n",
    "    LOG('inserirEmpresas', 'Finalizado')\n",
    "\n",
    "    return"
   ]
  },
  {
   "cell_type": "code",
   "execution_count": 59,
   "metadata": {},
   "outputs": [],
   "source": [
    "def buscarEmpresasDaPagina(categoria, cidade, estado, pagina):\n",
    "\n",
    "    LOG('buscarEmpresasDaPagina', 'Iniciado')\n",
    "\n",
    "    site = 'https://guiafacil.com/buscaAjax.php?busca={}&cidade={}&tipoBusca=segmento&estado={}&pagina={}'\n",
    "    site = site.format(categoria, cidade, estado, pagina)\n",
    "\n",
    "    LOG('buscarEmpresasDaPagina', 'Buscar: {}'.format(site))\n",
    "\n",
    "    conteudo = urlopen(site).read()\n",
    "    conteudoJson = json.loads(conteudo)\n",
    "    resultado = conteudoJson['resultados']\n",
    "\n",
    "    LOG('buscarEmpresasDaPagina', 'Quantidade de empresas da página: {}'.format(len(resultado)))\n",
    "    LOG('buscarEmpresasDaPagina', 'Finalizado')\n",
    "\n",
    "    return resultado"
   ]
  },
  {
   "cell_type": "code",
   "execution_count": 60,
   "metadata": {},
   "outputs": [],
   "source": [
    "def buscarEmpresas(categoria, cidade, estado):\n",
    "\n",
    "    LOG('buscarEmpresas', 'Iniciado')\n",
    "\n",
    "    pagina = 1\n",
    "    while(True):\n",
    "        resultadoPagina = buscarEmpresasDaPagina(categoria, cidade, estado, pagina)\n",
    "        if (len(resultadoPagina) == 0):\n",
    "            break\n",
    "\n",
    "        inserirEmpresas(resultadoPagina)\n",
    "        pagina += 1\n",
    "\n",
    "    LOG('buscarEmpresas', 'Finalizado')\n",
    "\n",
    "    return"
   ]
  },
  {
   "cell_type": "code",
   "execution_count": 61,
   "metadata": {},
   "outputs": [
    {
     "name": "stdout",
     "output_type": "stream",
     "text": "> Finalizado\n[inserirEmpresa] => Iniciado\n[inserirEmpresa] => Pessoa fisica: Valdir Will nao inserida\n[inserirEmpresa] => Finalizado\n[inserirEmpresa] => Iniciado\n[inserirEmpresa] => Pessoa fisica: Valdir Vieira nao inserida\n[inserirEmpresa] => Finalizado\n[inserirEmpresa] => Iniciado\n[inserirEmpresa] => Pessoa fisica: Valdir Vermoehlen nao inserida\n[inserirEmpresa] => Finalizado\n[inserirEmpresa] => Iniciado\n[inserirEmpresa] => Pessoa fisica: Valdir Zagheni nao inserida\n[inserirEmpresa] => Finalizado\n[inserirEmpresa] => Iniciado\n[inserirEmpresa] => Pessoa fisica: Valdir Zagheni nao inserida\n[inserirEmpresa] => Finalizado\n[inserirEmpresa] => Iniciado\n[inserirEmpresa] => Pessoa fisica: Valdi Winter nao inserida\n[inserirEmpresa] => Finalizado\n[inserirEmpresa] => Iniciado\n[inserirEmpresa] => Pessoa fisica: Valdir Varela nao inserida\n[inserirEmpresa] => Finalizado\n[inserirEmpresa] => Iniciado\n[inserirEmpresa] => Pessoa fisica: Valdir Wiener nao inserida\n[inserirEmpresa] => Finalizado\n[inserirEmpresa] => Iniciado\n[inserirEmpresa] => Pessoa fisica: Valdir Venturi nao inserida\n[inserirEmpresa] => Finalizado\n[inserirEmpresa] => Iniciado\n[inserirEmpresa] => Pessoa fisica: Valdo Veneri nao inserida\n[inserirEmpresa] => Finalizado\n[inserirEmpresa] => Iniciado\n[inserirEmpresa] => Pessoa fisica: Valdir Vitoria nao inserida\n[inserirEmpresa] => Finalizado\n[inserirEmpresa] => Iniciado\n[inserirEmpresa] => Pessoa fisica: Valdir Zomer nao inserida\n[inserirEmpresa] => Finalizado\n[inserirEmpresa] => Iniciado\n[inserirEmpresa] => Pessoa fisica: Valdir Vieceli nao inserida\n[inserirEmpresa] => Finalizado\n[inserirEmpresa] => Iniciado\n[inserirEmpresa] => Pessoa fisica: Valdir Vieira nao inserida\n[inserirEmpresa] => Finalizado\n[inserirEmpresa] => Iniciado\n[existeEmpresaComNome] => Iniciado\n[existeEmpresaComNome] => Existe empresa? False\n[existeEmpresaComNome] => Finalizado\n[buscaAvaliacaoEmpresaNoGoogle] => Iniciado\n[buscaAvaliacaoEmpresaNoGoogle] => Buscar empresa no google: https://www.google.com/search?q=VALDACO%2C%20Joinville\n[buscaAvaliacaoEmpresaNoGoogle] => Finalizado\n[inserirEmpresa] => UUID do registro: af257e11-60ed-46e2-9807-c06c43069349\n[inserirTelefonesEmpresa] => Iniciado\n[inserirTelefonesEmpresa] => UUID do registro: 8ea0f928-6488-4873-894f-7d76327d0fc2\n[inserirTelefonesEmpresa] => Finalizado\n[inserirEnderecosEmpresa] => Iniciado\n[inserirEnderecosEmpresa] => UUID do registro: 25b5be65-1235-4673-8aae-fc4a71584a3a\n[inserirEnderecosEmpresa] => Finalizado\n[inserirEmpresa] => Registro inserido: VALDACO\n[inserirEmpresa] => Finalizado\n[inserirEmpresa] => Iniciado\n[inserirEmpresa] => Pessoa fisica: Valdeci Vieira nao inserida\n[inserirEmpresa] => Finalizado\n[inserirEmpresas] => Conexao com banco de dados: COLETADEDADOS finalizada\n[inserirEmpresas] => Finalizado\n[buscarEmpresasDaPagina] => Iniciado\n[buscarEmpresasDaPagina] => Buscar: https://guiafacil.com/buscaAjax.php?busca=&cidade=joinville&tipoBusca=segmento&estado=santa-catarina&pagina=3856\n[buscarEmpresasDaPagina] => Quantidade de empresas da página: 20\n[buscarEmpresasDaPagina] => Finalizado\n[inserirEmpresas] => Iniciado\n[inserirEmpresas] => Conexao com banco de dados: COLETADEDADOS efetuada\n[inserirEmpresa] => Iniciado\n[inserirEmpresa] => Pessoa fisica: Valdecir Winter nao inserida\n[inserirEmpresa] => Finalizado\n[inserirEmpresa] => Iniciado\n[inserirEmpresa] => Pessoa fisica: Valdecir Vieira nao inserida\n[inserirEmpresa] => Finalizado\n[inserirEmpresa] => Iniciado\n[inserirEmpresa] => Pessoa fisica: Valdelir Vieira nao inserida\n[inserirEmpresa] => Finalizado\n[inserirEmpresa] => Iniciado\n[inserirEmpresa] => Pessoa fisica: Valdelir Zygoski nao inserida\n[inserirEmpresa] => Finalizado\n[inserirEmpresa] => Iniciado\n[inserirEmpresa] => Pessoa fisica: Valdelino Wagner nao inserida\n[inserirEmpresa] => Finalizado\n[inserirEmpresa] => Iniciado\n[inserirEmpresa] => Pessoa fisica: Valdemar Vanat nao inserida\n[inserirEmpresa] => Finalizado\n[inserirEmpresa] => Iniciado\n[inserirEmpresa] => Pessoa fisica: Valdemir Zoller nao inserida\n[inserirEmpresa] => Finalizado\n[inserirEmpresa] => Iniciado\n[inserirEmpresa] => Pessoa fisica: Valdemir Vollmann nao inserida\n[inserirEmpresa] => Finalizado\n[inserirEmpresa] => Iniciado\n[inserirEmpresa] => Pessoa fisica: Valdemar Valler nao inserida\n[inserirEmpresa] => Finalizado\n[inserirEmpresa] => Iniciado\n[inserirEmpresa] => Pessoa fisica: Valdemar Veber nao inserida\n[inserirEmpresa] => Finalizado\n[inserirEmpresa] => Iniciado\n[inserirEmpresa] => Pessoa fisica: Valdemir Westruppe nao inserida\n[inserirEmpresa] => Finalizado\n[inserirEmpresa] => Iniciado\n[inserirEmpresa] => Pessoa fisica: Valdemir Vicente nao inserida\n[inserirEmpresa] => Finalizado\n[inserirEmpresa] => Iniciado\n[inserirEmpresa] => Pessoa fisica: Valdemiro Venturi nao inserida\n[inserirEmpresa] => Finalizado\n[inserirEmpresa] => Iniciado\n[inserirEmpresa] => Pessoa fisica: Valdemiro Winter nao inserida\n[inserirEmpresa] => Finalizado\n[inserirEmpresa] => Iniciado\n[inserirEmpresa] => Pessoa fisica: Valdenei Wenz nao inserida\n[inserirEmpresa] => Finalizado\n[inserirEmpresa] => Iniciado\n[inserirEmpresa] => Pessoa fisica: Valderene Veiga nao inserida\n[inserirEmpresa] => Finalizado\n[inserirEmpresa] => Iniciado\n[inserirEmpresa] => Pessoa fisica: Valdete  Warmeling nao inserida\n[inserirEmpresa] => Finalizado\n[inserirEmpresa] => Iniciado\n[inserirEmpresa] => Pessoa fisica: Valdete Wenz nao inserida\n[inserirEmpresa] => Finalizado\n[inserirEmpresa] => Iniciado\n[inserirEmpresa] => Pessoa fisica: Valdete Vasselai nao inserida\n[inserirEmpresa] => Finalizado\n[inserirEmpresa] => Iniciado\n[inserirEmpresa] => Pessoa fisica: Valdete Wiemes nao inserida\n[inserirEmpresa] => Finalizado\n[inserirEmpresas] => Conexao com banco de dados: COLETADEDADOS finalizada\n[inserirEmpresas] => Finalizado\n[buscarEmpresasDaPagina] => Iniciado\n[buscarEmpresasDaPagina] => Buscar: https://guiafacil.com/buscaAjax.php?busca=&cidade=joinville&tipoBusca=segmento&estado=santa-catarina&pagina=3857\n[buscarEmpresasDaPagina] => Quantidade de empresas da página: 20\n[buscarEmpresasDaPagina] => Finalizado\n[inserirEmpresas] => Iniciado\n[inserirEmpresas] => Conexao com banco de dados: COLETADEDADOS efetuada\n[inserirEmpresa] => Iniciado\n[inserirEmpresa] => Pessoa fisica: Valdevino Vieira nao inserida\n[inserirEmpresa] => Finalizado\n[inserirEmpresa] => Iniciado\n[inserirEmpresa] => Pessoa fisica: Valdino Voigt nao inserida\n[inserirEmpresa] => Finalizado\n[inserirEmpresa] => Iniciado\n[inserirEmpresa] => Pessoa fisica: Valdinei Valentin nao inserida\n[inserirEmpresa] => Finalizado\n[inserirEmpresa] => Iniciado\n[inserirEmpresa] => Pessoa fisica: Valdonir Vieira nao inserida\n[inserirEmpresa] => Finalizado\n[inserirEmpresa] => Iniciado\n[inserirEmpresa] => Pessoa fisica: Valentin Valencio nao inserida\n[inserirEmpresa] => Finalizado\n[inserirEmpresa] => Iniciado\n[inserirEmpresa] => Pessoa fisica: Volney Valentim nao inserida\n[inserirEmpresa] => Finalizado\n[inserirEmpresa] => Iniciado\n[inserirEmpresa] => Pessoa fisica: Valentim Vieira nao inserida\n[inserirEmpresa] => Finalizado\n[inserirEmpresa] => Iniciado\n[inserirEmpresa] => Pessoa fisica: Valfrido Zielinski nao inserida\n[inserirEmpresa] => Finalizado\n[inserirEmpresa] => Iniciado\n[inserirEmpresa] => Pessoa fisica: Valfrido Vargas nao inserida\n[inserirEmpresa] => Finalizado\n[inserirEmpresa] => Iniciado\n[inserirEmpresa] => Pessoa fisica: Valmor Valle nao inserida\n[inserirEmpresa] => Finalizado\n[inserirEmpresa] => Iniciado\n[inserirEmpresa] => Pessoa fisica: Valmir Zonta nao inserida\n[inserirEmpresa] => Finalizado\n[inserirEmpresa] => Iniciado\n[inserirEmpresa] => Pessoa fisica: Valmir Zonta nao inserida\n[inserirEmpresa] => Finalizado\n[inserirEmpresa] => Iniciado\n[inserirEmpresa] => Pessoa fisica: Valmir Vieira nao inserida\n[inserirEmpresa] => Finalizado\n[inserirEmpresa] => Iniciado\n[inserirEmpresa] => Pessoa fisica: Valmir Xavier nao inserida\n[inserirEmpresa] => Finalizado\n[inserirEmpresa] => Iniciado\n[inserirEmpresa] => Pessoa fisica: Valmir Vieira nao inserida\n[inserirEmpresa] => Finalizado\n[inserirEmpresa] => Iniciado\n[inserirEmpresa] => Pessoa fisica: Valmir Wielevski nao inserida\n[inserirEmpresa] => Finalizado\n[inserirEmpresa] => Iniciado\n[inserirEmpresa] => Pessoa fisica: Valmir Vieira nao inserida\n[inserirEmpresa] => Finalizado\n[inserirEmpresa] => Iniciado\n[inserirEmpresa] => Pessoa fisica: Valmecir Wrzyszcz nao inserida\n[inserirEmpresa] => Finalizado\n[inserirEmpresa] => Iniciado\n[inserirEmpresa] => Pessoa fisica: Valmiro Weber nao inserida\n[inserirEmpresa] => Finalizado\n[inserirEmpresa] => Iniciado\n[inserirEmpresa] => Pessoa fisica: Valmor Vinci nao inserida\n[inserirEmpresa] => Finalizado\n[inserirEmpresas] => Conexao com banco de dados: COLETADEDADOS finalizada\n[inserirEmpresas] => Finalizado\n[buscarEmpresasDaPagina] => Iniciado\n[buscarEmpresasDaPagina] => Buscar: https://guiafacil.com/buscaAjax.php?busca=&cidade=joinville&tipoBusca=segmento&estado=santa-catarina&pagina=3858\n[buscarEmpresasDaPagina] => Quantidade de empresas da página: 20\n[buscarEmpresasDaPagina] => Finalizado\n[inserirEmpresas] => Iniciado\n[inserirEmpresas] => Conexao com banco de dados: COLETADEDADOS efetuada\n[inserirEmpresa] => Iniciado\n[inserirEmpresa] => Pessoa fisica: Valmor Volles nao inserida\n[inserirEmpresa] => Finalizado\n[inserirEmpresa] => Iniciado\n[inserirEmpresa] => Pessoa fisica: Valmor Zuchi nao inserida\n[inserirEmpresa] => Finalizado\n[inserirEmpresa] => Iniciado\n[inserirEmpresa] => Pessoa fisica: Valmor Venturi nao inserida\n[inserirEmpresa] => Finalizado\n[inserirEmpresa] => Iniciado\n[inserirEmpresa] => Pessoa fisica: Valmor Venturi nao inserida\n[inserirEmpresa] => Finalizado\n[inserirEmpresa] => Iniciado\n[inserirEmpresa] => Pessoa fisica: Valmor Zilli nao inserida\n[inserirEmpresa] => Finalizado\n[inserirEmpresa] => Iniciado\n[inserirEmpresa] => Pessoa fisica: Valnir Veiga nao inserida\n[inserirEmpresa] => Finalizado\n[inserirEmpresa] => Iniciado\n[inserirEmpresa] => Pessoa fisica: Valter Wonspeher nao inserida\n[inserirEmpresa] => Finalizado\n[inserirEmpresa] => Iniciado\n[inserirEmpresa] => Pessoa fisica: Valtair Weis nao inserida\n[inserirEmpresa] => Finalizado\n[inserirEmpresa] => Iniciado\n[inserirEmpresa] => Pessoa fisica: Vania Wise nao inserida\n[inserirEmpresa] => Finalizado\n[inserirEmpresa] => Iniciado\n[inserirEmpresa] => Pessoa fisica: Vania Vicente nao inserida\n[inserirEmpresa] => Finalizado\n[inserirEmpresa] => Iniciado\n[inserirEmpresa] => Pessoa fisica: Vane Ziguer nao inserida\n[inserirEmpresa] => Finalizado\n[inserirEmpresa] => Iniciado\n[inserirEmpresa] => Pessoa fisica: Vania Vettoretti nao inserida\n[inserirEmpresa] => Finalizado\n[inserirEmpresa] => Iniciado\n[inserirEmpresa] => Pessoa fisica: Vanderlei Vidal nao inserida\n[inserirEmpresa] => Finalizado\n[inserirEmpresa] => Iniciado\n[inserirEmpresa] => Pessoa fisica: Vanderlei Vieiraa nao inserida\n[inserirEmpresa] => Finalizado\n[inserirEmpresa] => Iniciado\n[inserirEmpresa] => Pessoa fisica: Vanderlei Wessler nao inserida\n[inserirEmpresa] => Finalizado\n[inserirEmpresa] => Iniciado\n[inserirEmpresa] => Pessoa fisica: Vanderlei Walter nao inserida\n[inserirEmpresa] => Finalizado\n[inserirEmpresa] => Iniciado\n[inserirEmpresa] => Pessoa fisica: Vanderlei Werlich nao inserida\n[inserirEmpresa] => Finalizado\n[inserirEmpresa] => Iniciado\n[inserirEmpresa] => Pessoa fisica: Vanderlei Voigt nao inserida\n[inserirEmpresa] => Finalizado\n[inserirEmpresa] => Iniciado\n[inserirEmpresa] => Pessoa fisica: Vanderlei Vieira nao inserida\n[inserirEmpresa] => Finalizado\n[inserirEmpresa] => Iniciado\n[inserirEmpresa] => Pessoa fisica: Vanderli Willemann nao inserida\n[inserirEmpresa] => Finalizado\n[inserirEmpresas] => Conexao com banco de dados: COLETADEDADOS finalizada\n[inserirEmpresas] => Finalizado\n[buscarEmpresasDaPagina] => Iniciado\n[buscarEmpresasDaPagina] => Buscar: https://guiafacil.com/buscaAjax.php?busca=&cidade=joinville&tipoBusca=segmento&estado=santa-catarina&pagina=3859\n[buscarEmpresasDaPagina] => Quantidade de empresas da página: 20\n[buscarEmpresasDaPagina] => Finalizado\n[inserirEmpresas] => Iniciado\n[inserirEmpresas] => Conexao com banco de dados: COLETADEDADOS efetuada\n[inserirEmpresa] => Iniciado\n[inserirEmpresa] => Pessoa fisica: Vanderlei Varaldo nao inserida\n[inserirEmpresa] => Finalizado\n[inserirEmpresa] => Iniciado\n[inserirEmpresa] => Pessoa fisica: Vanderley Vilvert nao inserida\n[inserirEmpresa] => Finalizado\n[inserirEmpresa] => Iniciado\n[inserirEmpresa] => Pessoa fisica: Venicio Vanderlinde nao inserida\n[inserirEmpresa] => Finalizado\n[inserirEmpresa] => Iniciado\n[inserirEmpresa] => Pessoa fisica: William Vanderlinde nao inserida\n[inserirEmpresa] => Finalizado\n[inserirEmpresa] => Iniciado\n[inserirEmpresa] => Pessoa fisica: Vanderlize Villwock nao inserida\n[inserirEmpresa] => Finalizado\n[inserirEmpresa] => Iniciado\n[existeEmpresaComNome] => Iniciado\n[existeEmpresaComNome] => Existe empresa? False\n[existeEmpresaComNome] => Finalizado\n[buscaAvaliacaoEmpresaNoGoogle] => Iniciado\n[buscaAvaliacaoEmpresaNoGoogle] => Buscar empresa no google: https://www.google.com/search?q=VANDIHEINBRUNS%2C%20Joinville\n[buscaAvaliacaoEmpresaNoGoogle] => Finalizado\n[inserirEmpresa] => UUID do registro: 4056a396-3bb6-4a38-b6d0-0c26f9886bfc\n[inserirTelefonesEmpresa] => Iniciado\n[inserirTelefonesEmpresa] => UUID do registro: aa796c6a-3173-46d0-af7b-fddea37f8437\n[inserirTelefonesEmpresa] => Finalizado\n[inserirEnderecosEmpresa] => Iniciado\n[inserirEnderecosEmpresa] => UUID do registro: f1e885a8-e61f-441f-ae7b-5d5ae838f889\n[inserirEnderecosEmpresa] => Finalizado\n[inserirEmpresa] => Registro inserido: VANDIHEINBRUNS\n[inserirEmpresa] => Finalizado\n[inserirEmpresa] => Iniciado\n[inserirEmpresa] => Pessoa fisica: Vanessa Waltrick nao inserida\n[inserirEmpresa] => Finalizado\n[inserirEmpresa] => Iniciado\n[inserirEmpresa] => Pessoa fisica: Vanessa W Viertel nao inserida\n[inserirEmpresa] => Finalizado\n[inserirEmpresa] => Iniciado\n[inserirEmpresa] => Pessoa fisica: Vanilda Wegener nao inserida\n[inserirEmpresa] => Finalizado\n[inserirEmpresa] => Iniciado\n[inserirEmpresa] => Pessoa fisica: Vanilda Wegener nao inserida\n[inserirEmpresa] => Finalizado\n[inserirEmpresa] => Iniciado\n[inserirEmpresa] => Pessoa fisica: Vanilda Weldt nao inserida\n[inserirEmpresa] => Finalizado\n[inserirEmpresa] => Iniciado\n[inserirEmpresa] => Pessoa fisica: Vanildo Zeefeldt nao inserida\n[inserirEmpresa] => Finalizado\n[inserirEmpresa] => Iniciado\n[inserirEmpresa] => Pessoa fisica: Walter Varella nao inserida\n[inserirEmpresa] => Finalizado\n[inserirEmpresa] => Iniciado\n[inserirEmpresa] => Pessoa fisica: Viviane Vasconcelos nao inserida\n[inserirEmpresa] => Finalizado\n[inserirEmpresa] => Iniciado\n[existeEmpresaComNome] => Iniciado\n[existeEmpresaComNome] => Existe empresa? False\n[existeEmpresaComNome] => Finalizado\n[buscaAvaliacaoEmpresaNoGoogle] => Iniciado\n[buscaAvaliacaoEmpresaNoGoogle] => Buscar empresa no google: https://www.google.com/search?q=VECTOR%2C%20Joinville\n[buscaAvaliacaoEmpresaNoGoogle] => Finalizado\n[inserirEmpresa] => UUID do registro: b888d839-2230-4f2a-9657-50b3afb72440\n[inserirTelefonesEmpresa] => Iniciado\n[inserirTelefonesEmpresa] => UUID do registro: 026cf019-bc04-495b-a671-8ecbbaf82ff3\n[inserirTelefonesEmpresa] => Finalizado\n[inserirEnderecosEmpresa] => Iniciado\n[inserirEnderecosEmpresa] => UUID do registro: 50b0a008-0d7b-42ae-a949-1c8b684bc581\n[inserirEnderecosEmpresa] => Finalizado\n[inserirEmpresa] => Registro inserido: VECTOR\n[inserirEmpresa] => Finalizado\n[inserirEmpresa] => Iniciado\n[inserirEmpresa] => Pessoa fisica: Wilson Vellozo nao inserida\n[inserirEmpresa] => Finalizado\n[inserirEmpresa] => Iniciado\n[inserirEmpresa] => Pessoa fisica: Vendelino Wienes nao inserida\n[inserirEmpresa] => Finalizado\n[inserirEmpresa] => Iniciado\n[inserirEmpresa] => Pessoa fisica: Zenaide Vendramin nao inserida\n[inserirEmpresa] => Finalizado\n[inserirEmpresa] => Iniciado\n[inserirEmpresa] => Pessoa fisica: Wilson Venturi nao inserida\n[inserirEmpresa] => Finalizado\n[inserirEmpresa] => Iniciado\n[inserirEmpresa] => Pessoa fisica: Veronica Willwock nao inserida\n[inserirEmpresa] => Finalizado\n[inserirEmpresas] => Conexao com banco de dados: COLETADEDADOS finalizada\n[inserirEmpresas] => Finalizado\n[buscarEmpresasDaPagina] => Iniciado\n[buscarEmpresasDaPagina] => Buscar: https://guiafacil.com/buscaAjax.php?busca=&cidade=joinville&tipoBusca=segmento&estado=santa-catarina&pagina=3860\n[buscarEmpresasDaPagina] => Quantidade de empresas da página: 20\n[buscarEmpresasDaPagina] => Finalizado\n[inserirEmpresas] => Iniciado\n[inserirEmpresas] => Conexao com banco de dados: COLETADEDADOS efetuada\n[inserirEmpresa] => Iniciado\n[inserirEmpresa] => Pessoa fisica: Veronica Wegner nao inserida\n[inserirEmpresa] => Finalizado\n[inserirEmpresa] => Iniciado\n[inserirEmpresa] => Pessoa fisica: Veronica Witt nao inserida\n[inserirEmpresa] => Finalizado\n[inserirEmpresa] => Iniciado\n[inserirEmpresa] => Pessoa fisica: Veronica Vicente nao inserida\n[inserirEmpresa] => Finalizado\n[inserirEmpresa] => Iniciado\n[inserirEmpresa] => Pessoa fisica: Veronica Wer nao inserida\n[inserirEmpresa] => Finalizado\n[inserirEmpresa] => Iniciado\n[inserirEmpresa] => Pessoa fisica: Waldir Vicznevski nao inserida\n[inserirEmpresa] => Finalizado\n[inserirEmpresa] => Iniciado\n[inserirEmpresa] => Pessoa fisica: Vidal Visenteiner nao inserida\n[inserirEmpresa] => Finalizado\n[inserirEmpresa] => Iniciado\n[inserirEmpresa] => Pessoa fisica: Vidomar Weber nao inserida\n[inserirEmpresa] => Finalizado\n[inserirEmpresa] => Iniciado\n[existeEmpresaComNome] => Iniciado\n[existeEmpresaComNome] => Existe empresa? False\n[existeEmpresaComNome] => Finalizado\n[buscaAvaliacaoEmpresaNoGoogle] => Iniciado\n[buscaAvaliacaoEmpresaNoGoogle] => Buscar empresa no google: https://www.google.com/search?q=VIDROSPLUS%2C%20Joinville\n[buscaAvaliacaoEmpresaNoGoogle] => Finalizado\n[inserirEmpresa] => UUID do registro: 55d833c2-dd5a-4db6-af5d-a16afd5229eb\n[inserirTelefonesEmpresa] => Iniciado\n[inserirTelefonesEmpresa] => UUID do registro: 227c996a-2887-47f8-9d5e-369fa608280a\n[inserirTelefonesEmpresa] => Finalizado\n[inserirEnderecosEmpresa] => Iniciado\n[inserirEnderecosEmpresa] => UUID do registro: 374c962b-9063-4d14-933e-d59d108e456b\n[inserirEnderecosEmpresa] => Finalizado\n[inserirEmpresa] => Registro inserido: VIDROSPLUS\n[inserirEmpresa] => Finalizado\n[inserirEmpresa] => Iniciado\n[inserirEmpresa] => Pessoa fisica: Viviane Vieira nao inserida\n[inserirEmpresa] => Finalizado\n[inserirEmpresa] => Iniciado\n[inserirEmpresa] => Pessoa fisica: Zenaide Vieira nao inserida\n[inserirEmpresa] => Finalizado\n[inserirEmpresa] => Iniciado\n[inserirEmpresa] => Pessoa fisica: Vinicius Vieira nao inserida\n[inserirEmpresa] => Finalizado\n[inserirEmpresa] => Iniciado\n[inserirEmpresa] => Pessoa fisica: Viviane Vieira nao inserida\n[inserirEmpresa] => Finalizado\n[inserirEmpresa] => Iniciado\n[inserirEmpresa] => Pessoa fisica: Viltamar Vieira nao inserida\n[inserirEmpresa] => Finalizado\n[inserirEmpresa] => Iniciado\n[inserirEmpresa] => Pessoa fisica: Waldir Vierheller nao inserida\n[inserirEmpresa] => Finalizado\n[inserirEmpresa] => Iniciado\n[inserirEmpresa] => Pessoa fisica: Vigando Wolsgramm nao inserida\n[inserirEmpresa] => Finalizado\n[inserirEmpresa] => Iniciado\n[inserirEmpresa] => Pessoa fisica: Vigando Wodtke nao inserida\n[inserirEmpresa] => Finalizado\n[inserirEmpresa] => Iniciado\n[inserirEmpresa] => Pessoa fisica: William Vilela nao inserida\n[inserirEmpresa] => Finalizado\n[inserirEmpresa] => Iniciado\n[inserirEmpresa] => Pessoa fisica: Vilmar Werner nao inserida\n[inserirEmpresa] => Finalizado\n[inserirEmpresa] => Iniciado\n[inserirEmpresa] => Pessoa fisica: Vilmar Winter nao inserida\n[inserirEmpresa] => Finalizado\n[inserirEmpresa] => Iniciado\n[inserirEmpresa] => Pessoa fisica: Vilmar Vilvert nao inserida\n[inserirEmpresa] => Finalizado\n[inserirEmpresas] => Conexao com banco de dados: COLETADEDADOS finalizada\n[inserirEmpresas] => Finalizado\n[buscarEmpresasDaPagina] => Iniciado\n[buscarEmpresasDaPagina] => Buscar: https://guiafacil.com/buscaAjax.php?busca=&cidade=joinville&tipoBusca=segmento&estado=santa-catarina&pagina=3861\n"
    },
    {
     "ename": "JSONDecodeError",
     "evalue": "Expecting value: line 1 column 1 (char 0)",
     "output_type": "error",
     "traceback": [
      "\u001b[0;31m---------------------------------------------------------------------------\u001b[0m",
      "\u001b[0;31mJSONDecodeError\u001b[0m                           Traceback (most recent call last)",
      "\u001b[0;32m<ipython-input-61-67910f8a527d>\u001b[0m in \u001b[0;36m<module>\u001b[0;34m\u001b[0m\n\u001b[0;32m----> 1\u001b[0;31m \u001b[0mbuscarEmpresas\u001b[0m\u001b[0;34m(\u001b[0m\u001b[0;34m''\u001b[0m\u001b[0;34m,\u001b[0m \u001b[0;34m'joinville'\u001b[0m\u001b[0;34m,\u001b[0m \u001b[0;34m'santa-catarina'\u001b[0m\u001b[0;34m)\u001b[0m\u001b[0;34m\u001b[0m\u001b[0;34m\u001b[0m\u001b[0m\n\u001b[0m",
      "\u001b[0;32m<ipython-input-60-22c775fc686e>\u001b[0m in \u001b[0;36mbuscarEmpresas\u001b[0;34m(categoria, cidade, estado)\u001b[0m\n\u001b[1;32m      5\u001b[0m     \u001b[0mpagina\u001b[0m \u001b[0;34m=\u001b[0m \u001b[0;36m1\u001b[0m\u001b[0;34m\u001b[0m\u001b[0;34m\u001b[0m\u001b[0m\n\u001b[1;32m      6\u001b[0m     \u001b[0;32mwhile\u001b[0m\u001b[0;34m(\u001b[0m\u001b[0;32mTrue\u001b[0m\u001b[0;34m)\u001b[0m\u001b[0;34m:\u001b[0m\u001b[0;34m\u001b[0m\u001b[0;34m\u001b[0m\u001b[0m\n\u001b[0;32m----> 7\u001b[0;31m         \u001b[0mresultadoPagina\u001b[0m \u001b[0;34m=\u001b[0m \u001b[0mbuscarEmpresasDaPagina\u001b[0m\u001b[0;34m(\u001b[0m\u001b[0mcategoria\u001b[0m\u001b[0;34m,\u001b[0m \u001b[0mcidade\u001b[0m\u001b[0;34m,\u001b[0m \u001b[0mestado\u001b[0m\u001b[0;34m,\u001b[0m \u001b[0mpagina\u001b[0m\u001b[0;34m)\u001b[0m\u001b[0;34m\u001b[0m\u001b[0;34m\u001b[0m\u001b[0m\n\u001b[0m\u001b[1;32m      8\u001b[0m         \u001b[0;32mif\u001b[0m \u001b[0;34m(\u001b[0m\u001b[0mlen\u001b[0m\u001b[0;34m(\u001b[0m\u001b[0mresultadoPagina\u001b[0m\u001b[0;34m)\u001b[0m \u001b[0;34m==\u001b[0m \u001b[0;36m0\u001b[0m\u001b[0;34m)\u001b[0m\u001b[0;34m:\u001b[0m\u001b[0;34m\u001b[0m\u001b[0;34m\u001b[0m\u001b[0m\n\u001b[1;32m      9\u001b[0m             \u001b[0;32mbreak\u001b[0m\u001b[0;34m\u001b[0m\u001b[0;34m\u001b[0m\u001b[0m\n",
      "\u001b[0;32m<ipython-input-59-aab6338f6315>\u001b[0m in \u001b[0;36mbuscarEmpresasDaPagina\u001b[0;34m(categoria, cidade, estado, pagina)\u001b[0m\n\u001b[1;32m      9\u001b[0m \u001b[0;34m\u001b[0m\u001b[0m\n\u001b[1;32m     10\u001b[0m     \u001b[0mconteudo\u001b[0m \u001b[0;34m=\u001b[0m \u001b[0murlopen\u001b[0m\u001b[0;34m(\u001b[0m\u001b[0msite\u001b[0m\u001b[0;34m)\u001b[0m\u001b[0;34m.\u001b[0m\u001b[0mread\u001b[0m\u001b[0;34m(\u001b[0m\u001b[0;34m)\u001b[0m\u001b[0;34m\u001b[0m\u001b[0;34m\u001b[0m\u001b[0m\n\u001b[0;32m---> 11\u001b[0;31m     \u001b[0mconteudoJson\u001b[0m \u001b[0;34m=\u001b[0m \u001b[0mjson\u001b[0m\u001b[0;34m.\u001b[0m\u001b[0mloads\u001b[0m\u001b[0;34m(\u001b[0m\u001b[0mconteudo\u001b[0m\u001b[0;34m)\u001b[0m\u001b[0;34m\u001b[0m\u001b[0;34m\u001b[0m\u001b[0m\n\u001b[0m\u001b[1;32m     12\u001b[0m     \u001b[0mresultado\u001b[0m \u001b[0;34m=\u001b[0m \u001b[0mconteudoJson\u001b[0m\u001b[0;34m[\u001b[0m\u001b[0;34m'resultados'\u001b[0m\u001b[0;34m]\u001b[0m\u001b[0;34m\u001b[0m\u001b[0;34m\u001b[0m\u001b[0m\n\u001b[1;32m     13\u001b[0m \u001b[0;34m\u001b[0m\u001b[0m\n",
      "\u001b[0;32m~/Workstation/Tools/anaconda3/lib/python3.7/json/__init__.py\u001b[0m in \u001b[0;36mloads\u001b[0;34m(s, encoding, cls, object_hook, parse_float, parse_int, parse_constant, object_pairs_hook, **kw)\u001b[0m\n\u001b[1;32m    346\u001b[0m             \u001b[0mparse_int\u001b[0m \u001b[0;32mis\u001b[0m \u001b[0;32mNone\u001b[0m \u001b[0;32mand\u001b[0m \u001b[0mparse_float\u001b[0m \u001b[0;32mis\u001b[0m \u001b[0;32mNone\u001b[0m \u001b[0;32mand\u001b[0m\u001b[0;34m\u001b[0m\u001b[0;34m\u001b[0m\u001b[0m\n\u001b[1;32m    347\u001b[0m             parse_constant is None and object_pairs_hook is None and not kw):\n\u001b[0;32m--> 348\u001b[0;31m         \u001b[0;32mreturn\u001b[0m \u001b[0m_default_decoder\u001b[0m\u001b[0;34m.\u001b[0m\u001b[0mdecode\u001b[0m\u001b[0;34m(\u001b[0m\u001b[0ms\u001b[0m\u001b[0;34m)\u001b[0m\u001b[0;34m\u001b[0m\u001b[0;34m\u001b[0m\u001b[0m\n\u001b[0m\u001b[1;32m    349\u001b[0m     \u001b[0;32mif\u001b[0m \u001b[0mcls\u001b[0m \u001b[0;32mis\u001b[0m \u001b[0;32mNone\u001b[0m\u001b[0;34m:\u001b[0m\u001b[0;34m\u001b[0m\u001b[0;34m\u001b[0m\u001b[0m\n\u001b[1;32m    350\u001b[0m         \u001b[0mcls\u001b[0m \u001b[0;34m=\u001b[0m \u001b[0mJSONDecoder\u001b[0m\u001b[0;34m\u001b[0m\u001b[0;34m\u001b[0m\u001b[0m\n",
      "\u001b[0;32m~/Workstation/Tools/anaconda3/lib/python3.7/json/decoder.py\u001b[0m in \u001b[0;36mdecode\u001b[0;34m(self, s, _w)\u001b[0m\n\u001b[1;32m    335\u001b[0m \u001b[0;34m\u001b[0m\u001b[0m\n\u001b[1;32m    336\u001b[0m         \"\"\"\n\u001b[0;32m--> 337\u001b[0;31m         \u001b[0mobj\u001b[0m\u001b[0;34m,\u001b[0m \u001b[0mend\u001b[0m \u001b[0;34m=\u001b[0m \u001b[0mself\u001b[0m\u001b[0;34m.\u001b[0m\u001b[0mraw_decode\u001b[0m\u001b[0;34m(\u001b[0m\u001b[0ms\u001b[0m\u001b[0;34m,\u001b[0m \u001b[0midx\u001b[0m\u001b[0;34m=\u001b[0m\u001b[0m_w\u001b[0m\u001b[0;34m(\u001b[0m\u001b[0ms\u001b[0m\u001b[0;34m,\u001b[0m \u001b[0;36m0\u001b[0m\u001b[0;34m)\u001b[0m\u001b[0;34m.\u001b[0m\u001b[0mend\u001b[0m\u001b[0;34m(\u001b[0m\u001b[0;34m)\u001b[0m\u001b[0;34m)\u001b[0m\u001b[0;34m\u001b[0m\u001b[0;34m\u001b[0m\u001b[0m\n\u001b[0m\u001b[1;32m    338\u001b[0m         \u001b[0mend\u001b[0m \u001b[0;34m=\u001b[0m \u001b[0m_w\u001b[0m\u001b[0;34m(\u001b[0m\u001b[0ms\u001b[0m\u001b[0;34m,\u001b[0m \u001b[0mend\u001b[0m\u001b[0;34m)\u001b[0m\u001b[0;34m.\u001b[0m\u001b[0mend\u001b[0m\u001b[0;34m(\u001b[0m\u001b[0;34m)\u001b[0m\u001b[0;34m\u001b[0m\u001b[0;34m\u001b[0m\u001b[0m\n\u001b[1;32m    339\u001b[0m         \u001b[0;32mif\u001b[0m \u001b[0mend\u001b[0m \u001b[0;34m!=\u001b[0m \u001b[0mlen\u001b[0m\u001b[0;34m(\u001b[0m\u001b[0ms\u001b[0m\u001b[0;34m)\u001b[0m\u001b[0;34m:\u001b[0m\u001b[0;34m\u001b[0m\u001b[0;34m\u001b[0m\u001b[0m\n",
      "\u001b[0;32m~/Workstation/Tools/anaconda3/lib/python3.7/json/decoder.py\u001b[0m in \u001b[0;36mraw_decode\u001b[0;34m(self, s, idx)\u001b[0m\n\u001b[1;32m    353\u001b[0m             \u001b[0mobj\u001b[0m\u001b[0;34m,\u001b[0m \u001b[0mend\u001b[0m \u001b[0;34m=\u001b[0m \u001b[0mself\u001b[0m\u001b[0;34m.\u001b[0m\u001b[0mscan_once\u001b[0m\u001b[0;34m(\u001b[0m\u001b[0ms\u001b[0m\u001b[0;34m,\u001b[0m \u001b[0midx\u001b[0m\u001b[0;34m)\u001b[0m\u001b[0;34m\u001b[0m\u001b[0;34m\u001b[0m\u001b[0m\n\u001b[1;32m    354\u001b[0m         \u001b[0;32mexcept\u001b[0m \u001b[0mStopIteration\u001b[0m \u001b[0;32mas\u001b[0m \u001b[0merr\u001b[0m\u001b[0;34m:\u001b[0m\u001b[0;34m\u001b[0m\u001b[0;34m\u001b[0m\u001b[0m\n\u001b[0;32m--> 355\u001b[0;31m             \u001b[0;32mraise\u001b[0m \u001b[0mJSONDecodeError\u001b[0m\u001b[0;34m(\u001b[0m\u001b[0;34m\"Expecting value\"\u001b[0m\u001b[0;34m,\u001b[0m \u001b[0ms\u001b[0m\u001b[0;34m,\u001b[0m \u001b[0merr\u001b[0m\u001b[0;34m.\u001b[0m\u001b[0mvalue\u001b[0m\u001b[0;34m)\u001b[0m \u001b[0;32mfrom\u001b[0m \u001b[0;32mNone\u001b[0m\u001b[0;34m\u001b[0m\u001b[0;34m\u001b[0m\u001b[0m\n\u001b[0m\u001b[1;32m    356\u001b[0m         \u001b[0;32mreturn\u001b[0m \u001b[0mobj\u001b[0m\u001b[0;34m,\u001b[0m \u001b[0mend\u001b[0m\u001b[0;34m\u001b[0m\u001b[0;34m\u001b[0m\u001b[0m\n",
      "\u001b[0;31mJSONDecodeError\u001b[0m: Expecting value: line 1 column 1 (char 0)"
     ]
    }
   ],
   "source": [
    "buscarEmpresas('', 'joinville', 'santa-catarina')"
   ]
  }
 ],
 "metadata": {
  "kernelspec": {
   "display_name": "Python 3",
   "language": "python",
   "name": "python3"
  },
  "language_info": {
   "codemirror_mode": {
    "name": "ipython",
    "version": 3
   },
   "file_extension": ".py",
   "mimetype": "text/x-python",
   "name": "python",
   "nbconvert_exporter": "python",
   "pygments_lexer": "ipython3",
   "version": "3.7.4"
  }
 },
 "nbformat": 4,
 "nbformat_minor": 2
}