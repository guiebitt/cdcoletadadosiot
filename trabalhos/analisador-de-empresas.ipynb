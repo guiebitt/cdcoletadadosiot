{
 "cells": [
  {
   "cell_type": "markdown",
   "metadata": {},
   "source": [
    "# Analisador de empresas listadas no Guia Fácil"
   ]
  },
  {
   "cell_type": "markdown",
   "metadata": {},
   "source": [
    "Tem como objetivo extrair informações relacionadas as empresas de uma determinada região e sua classificação no Google Meu Negócio, se houver."
   ]
  },
  {
   "cell_type": "markdown",
   "execution_count": 68,
   "metadata": {},
   "outputs": [],
   "source": [
    "```sql\n",
    "CREATE TABLE empresa (\n",
    "    id              VARCHAR(36)   NOT NULL,\n",
    "    nome            VARCHAR(255)  NOT NULL,\n",
    "    atividade       VARCHAR(255),\n",
    "    pessoaJuridica  BOOLEAN,\n",
    "    emailCliente    VARCHAR(255),\n",
    "    cep             VARCHAR(20) ,\n",
    "    cidade          VARCHAR(255),\n",
    "    estado          VARCHAR(255),\n",
    "    bairro          VARCHAR(255),\n",
    "    uf              VARCHAR(5)  ,\n",
    "    avaliacaoGoogle VARCHAR(255),\n",
    "    PRIMARY KEY (id)\n",
    ");\n",
    "\n",
    "CREATE TABLE empresa_telefone (\n",
    "    id                VARCHAR(36) NOT NULL,\n",
    "    id_empresa        VARCHAR(36) NOT NULL,\n",
    "    ddd               VARCHAR(5),\n",
    "    telefone          VARCHAR(50) NOT NULL,\n",
    "    telefoneCompleto  VARCHAR(100),\n",
    "    whatsapp          BOOLEAN,\n",
    "    telefone0800      BOOLEAN,\n",
    "    PRIMARY KEY (id)\n",
    ");\n",
    "\n",
    "CREATE TABLE empresa_endereco (\n",
    "    id         VARCHAR(36)  NOT NULL,\n",
    "    id_empresa VARCHAR(36)  NOT NULL,\n",
    "    endereco   VARCHAR(255) NOT NULL,\n",
    "    PRIMARY KEY (id)\n",
    ");\n",
    "```"
   ]
  },
  {
   "cell_type": "code",
   "execution_count": 3,
   "metadata": {},
   "outputs": [
    {
     "name": "stdout",
     "output_type": "stream",
     "text": "Requirement already satisfied: requests in /home/guiebitt/Workstation/Tools/anaconda3/lib/python3.7/site-packages (2.22.0)\nRequirement already satisfied: chardet<3.1.0,>=3.0.2 in /home/guiebitt/Workstation/Tools/anaconda3/lib/python3.7/site-packages (from requests) (3.0.4)\nRequirement already satisfied: urllib3!=1.25.0,!=1.25.1,<1.26,>=1.21.1 in /home/guiebitt/Workstation/Tools/anaconda3/lib/python3.7/site-packages (from requests) (1.24.2)\nRequirement already satisfied: certifi>=2017.4.17 in /home/guiebitt/Workstation/Tools/anaconda3/lib/python3.7/site-packages (from requests) (2019.9.11)\nRequirement already satisfied: idna<2.9,>=2.5 in /home/guiebitt/Workstation/Tools/anaconda3/lib/python3.7/site-packages (from requests) (2.8)\n"
    }
   ],
   "source": [
    "!pip install requests"
   ]
  },
  {
   "cell_type": "code",
   "execution_count": 4,
   "metadata": {},
   "outputs": [
    {
     "name": "stdout",
     "output_type": "stream",
     "text": "Requirement already satisfied: psycopg2-binary in /home/guiebitt/Workstation/Tools/anaconda3/lib/python3.7/site-packages (2.8.4)\n"
    }
   ],
   "source": [
    "!pip install psycopg2-binary"
   ]
  },
  {
   "cell_type": "code",
   "execution_count": 5,
   "metadata": {},
   "outputs": [
    {
     "name": "stdout",
     "output_type": "stream",
     "text": "Requirement already satisfied: selenium in /home/guiebitt/Workstation/Tools/anaconda3/lib/python3.7/site-packages (3.141.0)\nRequirement already satisfied: urllib3 in /home/guiebitt/Workstation/Tools/anaconda3/lib/python3.7/site-packages (from selenium) (1.24.2)\nRequirement already satisfied: chromedriver-binary in /home/guiebitt/Workstation/Tools/anaconda3/lib/python3.7/site-packages (79.0.3945.16.0)\n"
    }
   ],
   "source": [
    "!pip install selenium\n",
    "!pip install chromedriver-binary"
   ]
  },
  {
   "cell_type": "code",
   "execution_count": 6,
   "metadata": {},
   "outputs": [],
   "source": [
    "DEBUG = True\n",
    "\n",
    "def LOG(funcao, mensagem, pulaLinhaAntes = False, pulaLinhaDepois = False):\n",
    "    if DEBUG == True:\n",
    "        if pulaLinhaAntes:\n",
    "            print('\\n');\n",
    "        print('[{}] => {}'.format(funcao, mensagem))\n",
    "        if pulaLinhaDepois:\n",
    "            print('\\n');"
   ]
  },
  {
   "cell_type": "code",
   "execution_count": 7,
   "metadata": {},
   "outputs": [],
   "source": [
    "from urllib.request import urlopen\n",
    "from bs4 import BeautifulSoup\n",
    "from selenium import webdriver\n",
    "from selenium.webdriver.chrome.service import Service\n",
    "from selenium.webdriver.chrome.options import Options\n",
    "from selenium.webdriver.common.by import By\n",
    "import chromedriver_binary\n",
    "import json\n",
    "import psycopg2\n",
    "import uuid\n",
    "import urllib.parse\n",
    "import requests\n",
    "import re"
   ]
  },
  {
   "cell_type": "code",
   "execution_count": 8,
   "metadata": {},
   "outputs": [],
   "source": [
    "def buscaAvaliacaoEmpresaNoGoogle(nomeEmpresa):\n",
    "\n",
    "    LOG('buscaAvaliacaoEmpresaNoGoogle', 'Iniciado')\n",
    "\n",
    "    site = 'https://www.google.com/search?q={}'.format(urllib.parse.quote(nomeEmpresa))\n",
    "\n",
    "    LOG('buscaAvaliacaoEmpresaNoGoogle', 'Buscar empresa no google: {}'.format(site))\n",
    "\n",
    "    avaliacao = ''\n",
    "    try:\n",
    "        options = Options()\n",
    "        options.add_argument(\"--headless\")\n",
    "        options.add_argument('--no-sandbox')\n",
    "        options.add_argument('--disable-gpu')\n",
    "        options.add_argument('start-maximized')  \n",
    "        options.add_argument('disable-infobars')\n",
    "        options.add_argument(\"--disable-extensions\")\n",
    "        service = Service('./chromedriver')\n",
    "        service.start()\n",
    "        driver = webdriver.Remote(service.service_url, options = options)\n",
    "        driver.get(site);\n",
    "        element = driver.find_element(By.CSS_SELECTOR, \".Aq14fc\")\n",
    "        avaliacao = element.text\n",
    "        driver.quit()\n",
    "    except:\n",
    "        avaliacao = ''\n",
    "\n",
    "    LOG('buscaAvaliacaoEmpresaNoGoogle', 'Finalizado')\n",
    "\n",
    "    return avaliacao"
   ]
  },
  {
   "cell_type": "code",
   "execution_count": 9,
   "metadata": {},
   "outputs": [],
   "source": [
    "def existeEmpresaComNome(cursor, nome):\n",
    "\n",
    "    LOG('existeEmpresaComNome', 'Iniciado')\n",
    "\n",
    "    cursor.execute(\"SELECT 1 FROM empresa WHERE nome = '{}'\".format(nome.replace(\"'\", \"''\")))\n",
    "    resultado = cursor.fetchone()\n",
    "    existeEmpresa = False\n",
    "\n",
    "    if (resultado != None):\n",
    "        existeEmpresa = True\n",
    "\n",
    "    LOG('existeEmpresaComNome', 'Existe empresa? {}'.format(existeEmpresa))\n",
    "    LOG('existeEmpresaComNome', 'Finalizado')\n",
    "\n",
    "    return existeEmpresa"
   ]
  },
  {
   "cell_type": "code",
   "execution_count": 10,
   "metadata": {},
   "outputs": [],
   "source": [
    "def inserirTelefonesEmpresa(conexao, cursor, empresaId, telefones):\n",
    "    \n",
    "    LOG('inserirTelefonesEmpresa', 'Iniciado')\n",
    "\n",
    "    for telefone in telefones:\n",
    "        \n",
    "        idTelefone = uuid.uuid4()\n",
    "        \n",
    "        LOG('inserirTelefonesEmpresa', 'UUID do registro: {}'.format(str(idTelefone)))\n",
    "        \n",
    "        whatsapp = False\n",
    "        if telefone['whatsapp'] == 'true':\n",
    "            whatsapp = True\n",
    "        \n",
    "        telefone0800 = False\n",
    "        if telefone['telefone0800'] == 'true':\n",
    "            telefone0800 = True\n",
    "\n",
    "        cursor.execute(\"INSERT INTO empresa_telefone (id, id_empresa, ddd, telefone, telefoneCompleto, whatsapp, telefone0800) VALUES (%s, %s, %s, %s, %s, %s, %s)\",(str(idTelefone), str(empresaId), telefone['ddd'], telefone['telefone'], telefone['telefoneCompleto'], whatsapp, telefone0800))\n",
    "        conexao.commit()\n",
    "\n",
    "    LOG('inserirTelefonesEmpresa', 'Finalizado')\n",
    "\n",
    "    return"
   ]
  },
  {
   "cell_type": "code",
   "execution_count": 11,
   "metadata": {},
   "outputs": [],
   "source": [
    "def inserirEnderecosEmpresa(conexao, cursor, empresaId, enderecos):\n",
    "\n",
    "    LOG('inserirEnderecosEmpresa', 'Iniciado')\n",
    "\n",
    "    for endereco in enderecos:\n",
    "        \n",
    "        idEndereco = uuid.uuid4()\n",
    "        \n",
    "        LOG('inserirEnderecosEmpresa', 'UUID do registro: {}'.format(str(idEndereco)))\n",
    "\n",
    "        cursor.execute(\"INSERT INTO empresa_endereco (id, id_empresa, endereco) VALUES (%s, %s, %s)\",(str(idEndereco), str(empresaId), endereco))\n",
    "        conexao.commit()\n",
    "\n",
    "    LOG('inserirEnderecosEmpresa', 'Finalizado')\n",
    "\n",
    "    return"
   ]
  },
  {
   "cell_type": "code",
   "execution_count": 12,
   "metadata": {},
   "outputs": [],
   "source": [
    "def inserirEmpresa(conexao, cursor, empresa):\n",
    "\n",
    "    LOG('inserirEmpresa', 'Iniciado')\n",
    "\n",
    "    pessoaJuridica = empresa['pessoaJuridica']\n",
    "    if pessoaJuridica == False:\n",
    "        LOG('inserirEmpresa', 'Pessoa fisica: {} nao inserida'.format(empresa['nome']))\n",
    "        LOG('inserirEmpresa', 'Finalizado')\n",
    "        return\n",
    "\n",
    "    if (existeEmpresaComNome(cursor, empresa['nome']) == False):\n",
    "        \n",
    "        avaliacao = buscaAvaliacaoEmpresaNoGoogle('{}, {}'.format(empresa['nome'], empresa['cidade']))\n",
    "\n",
    "        idEmpresa = uuid.uuid4()\n",
    "        \n",
    "        LOG('inserirEmpresa', 'UUID do registro: {}'.format(str(idEmpresa)))\n",
    "        LOG('inserirEmpresa', 'Avaliação: {}'.format(avaliacao))\n",
    "        \n",
    "        cursor.execute(\"INSERT INTO empresa (id, nome, atividade, emailCliente, cep, cidade, estado, bairro, uf, pessoaJuridica, avaliacaoGoogle) VALUES (%s, %s, %s, %s, %s, %s, %s, %s, %s, %s, %s)\",(str(idEmpresa), empresa['nome'], empresa['atividade'], empresa['emailCliente'], empresa['cep'], empresa['cidade'], empresa['estado'], empresa['bairro'], empresa['uf'], pessoaJuridica, avaliacao))\n",
    "        conexao.commit()\n",
    "\n",
    "        inserirTelefonesEmpresa(conexao, cursor, idEmpresa, empresa['telefones'])\n",
    "        inserirEnderecosEmpresa(conexao, cursor, idEmpresa, empresa['enderecos'])\n",
    "\n",
    "        LOG('inserirEmpresa', 'Registro inserido: {}'.format(empresa['nome']))\n",
    "\n",
    "    LOG('inserirEmpresa', 'Finalizado')\n",
    "\n",
    "    return"
   ]
  },
  {
   "cell_type": "code",
   "execution_count": 13,
   "metadata": {},
   "outputs": [],
   "source": [
    "def inserirEmpresas(empresas):\n",
    "\n",
    "    LOG('inserirEmpresas', 'Iniciado')\n",
    "\n",
    "    nomeBancoDados = 'COLETADEDADOS'\n",
    "    usuarioBancoDados = 'postgres'\n",
    "    senhaBancoDados = 'totvs@123'\n",
    "    hostBancoDados = 'localhost'\n",
    "\n",
    "    conexao = psycopg2.connect(dbname=nomeBancoDados, user=usuarioBancoDados, password=senhaBancoDados, host=hostBancoDados)\n",
    "    cursor = conexao.cursor()\n",
    "\n",
    "    LOG('inserirEmpresas', 'Conexao com banco de dados: {} efetuada'.format(nomeBancoDados))\n",
    "\n",
    "    for empresa in empresas:\n",
    "        inserirEmpresa(conexao, cursor, empresa)\n",
    "\n",
    "    cursor.close()\n",
    "    conexao.close()\n",
    "\n",
    "    LOG('inserirEmpresas', 'Conexao com banco de dados: {} finalizada'.format(nomeBancoDados))\n",
    "    LOG('inserirEmpresas', 'Finalizado')\n",
    "\n",
    "    return"
   ]
  },
  {
   "cell_type": "code",
   "execution_count": 14,
   "metadata": {},
   "outputs": [],
   "source": [
    "def buscarEmpresasDaPagina(categoria, cidade, estado, pagina):\n",
    "\n",
    "    LOG('buscarEmpresasDaPagina', 'Iniciado')\n",
    "\n",
    "    site = 'https://guiafacil.com/buscaAjax.php?busca={}&cidade={}&tipoBusca=segmento&estado={}&pagina={}'\n",
    "    site = site.format(categoria, cidade, estado, pagina)\n",
    "\n",
    "    LOG('buscarEmpresasDaPagina', 'Buscar: {}'.format(site))\n",
    "\n",
    "    conteudo = urlopen(site).read()\n",
    "    conteudoJson = json.loads(conteudo)\n",
    "    resultado = conteudoJson['resultados']\n",
    "\n",
    "    LOG('buscarEmpresasDaPagina', 'Quantidade de empresas da página: {}'.format(len(resultado)))\n",
    "    LOG('buscarEmpresasDaPagina', 'Finalizado')\n",
    "\n",
    "    return resultado"
   ]
  },
  {
   "cell_type": "code",
   "execution_count": 15,
   "metadata": {},
   "outputs": [],
   "source": [
    "def buscarEmpresas(categoria, cidade, estado):\n",
    "\n",
    "    LOG('buscarEmpresas', 'Iniciado')\n",
    "\n",
    "    pagina = 1\n",
    "    while(True):\n",
    "        resultadoPagina = buscarEmpresasDaPagina(categoria, cidade, estado, pagina)\n",
    "        if (len(resultadoPagina) == 0):\n",
    "            break\n",
    "\n",
    "        inserirEmpresas(resultadoPagina)\n",
    "        pagina += 1\n",
    "\n",
    "    LOG('buscarEmpresas', 'Finalizado')\n",
    "\n",
    "    return"
   ]
  },
  {
   "cell_type": "code",
   "execution_count": 16,
   "metadata": {},
   "outputs": [
    {
     "name": "stdout",
     "output_type": "stream",
     "text": "[buscarEmpresas] => Iniciado\n[buscarEmpresasDaPagina] => Iniciado\n[buscarEmpresasDaPagina] => Buscar: https://guiafacil.com/buscaAjax.php?busca=&cidade=joinville&tipoBusca=segmento&estado=santa-catarina&pagina=1\n[buscarEmpresasDaPagina] => Quantidade de empresas da página: 20\n[buscarEmpresasDaPagina] => Finalizado\n[inserirEmpresas] => Iniciado\n[inserirEmpresas] => Conexao com banco de dados: COLETADEDADOS efetuada\n[inserirEmpresa] => Iniciado\n[existeEmpresaComNome] => Iniciado\n[existeEmpresaComNome] => Existe empresa? True\n[existeEmpresaComNome] => Finalizado\n[inserirEmpresa] => Finalizado\n[inserirEmpresa] => Iniciado\n[existeEmpresaComNome] => Iniciado\n[existeEmpresaComNome] => Existe empresa? True\n[existeEmpresaComNome] => Finalizado\n[inserirEmpresa] => Finalizado\n[inserirEmpresa] => Iniciado\n[existeEmpresaComNome] => Iniciado\n[existeEmpresaComNome] => Existe empresa? True\n[existeEmpresaComNome] => Finalizado\n[inserirEmpresa] => Finalizado\n[inserirEmpresa] => Iniciado\n[existeEmpresaComNome] => Iniciado\n[existeEmpresaComNome] => Existe empresa? True\n[existeEmpresaComNome] => Finalizado\n[inserirEmpresa] => Finalizado\n[inserirEmpresa] => Iniciado\n[existeEmpresaComNome] => Iniciado\n[existeEmpresaComNome] => Existe empresa? True\n[existeEmpresaComNome] => Finalizado\n[inserirEmpresa] => Finalizado\n[inserirEmpresa] => Iniciado\n[existeEmpresaComNome] => Iniciado\n[existeEmpresaComNome] => Existe empresa? True\n[existeEmpresaComNome] => Finalizado\n[inserirEmpresa] => Finalizado\n[inserirEmpresa] => Iniciado\n[existeEmpresaComNome] => Iniciado\n[existeEmpresaComNome] => Existe empresa? True\n[existeEmpresaComNome] => Finalizado\n[inserirEmpresa] => Finalizado\n[inserirEmpresa] => Iniciado\n[existeEmpresaComNome] => Iniciado\n[existeEmpresaComNome] => Existe empresa? True\n[existeEmpresaComNome] => Finalizado\n[inserirEmpresa] => Finalizado\n[inserirEmpresa] => Iniciado\n[existeEmpresaComNome] => Iniciado\n[existeEmpresaComNome] => Existe empresa? True\n[existeEmpresaComNome] => Finalizado\n[inserirEmpresa] => Finalizado\n[inserirEmpresa] => Iniciado\n[existeEmpresaComNome] => Iniciado\n[existeEmpresaComNome] => Existe empresa? True\n[existeEmpresaComNome] => Finalizado\n[inserirEmpresa] => Finalizado\n[inserirEmpresa] => Iniciado\n[existeEmpresaComNome] => Iniciado\n[existeEmpresaComNome] => Existe empresa? True\n[existeEmpresaComNome] => Finalizado\n[inserirEmpresa] => Finalizado\n[inserirEmpresa] => Iniciado\n[existeEmpresaComNome] => Iniciado\n[existeEmpresaComNome] => Existe empresa? True\n[existeEmpresaComNome] => Finalizado\n[inserirEmpresa] => Finalizado\n[inserirEmpresa] => Iniciado\n[existeEmpresaComNome] => Iniciado\n[existeEmpresaComNome] => Existe empresa? True\n[existeEmpresaComNome] => Finalizado\n[inserirEmpresa] => Finalizado\n[inserirEmpresa] => Iniciado\n[existeEmpresaComNome] => Iniciado\n[existeEmpresaComNome] => Existe empresa? True\n[existeEmpresaComNome] => Finalizado\n[inserirEmpresa] => Finalizado\n[inserirEmpresa] => Iniciado\n[existeEmpresaComNome] => Iniciado\n[existeEmpresaComNome] => Existe empresa? True\n[existeEmpresaComNome] => Finalizado\n[inserirEmpresa] => Finalizado\n[inserirEmpresa] => Iniciado\n[existeEmpresaComNome] => Iniciado\n[existeEmpresaComNome] => Existe empresa? True\n[existeEmpresaComNome] => Finalizado\n[inserirEmpresa] => Finalizado\n[inserirEmpresa] => Iniciado\n[existeEmpresaComNome] => Iniciado\n[existeEmpresaComNome] => Existe empresa? True\n[existeEmpresaComNome] => Finalizado\n[inserirEmpresa] => Finalizado\n[inserirEmpresa] => Iniciado\n[existeEmpresaComNome] => Iniciado\n[existeEmpresaComNome] => Existe empresa? True\n[existeEmpresaComNome] => Finalizado\n[inserirEmpresa] => Finalizado\n[inserirEmpresa] => Iniciado\n[existeEmpresaComNome] => Iniciado\n[existeEmpresaComNome] => Existe empresa? True\n[existeEmpresaComNome] => Finalizado\n[inserirEmpresa] => Finalizado\n[inserirEmpresa] => Iniciado\n[existeEmpresaComNome] => Iniciado\n[existeEmpresaComNome] => Existe empresa? True\n[existeEmpresaComNome] => Finalizado\n[inserirEmpresa] => Finalizado\n[inserirEmpresas] => Conexao com banco de dados: COLETADEDADOS finalizada\n[inserirEmpresas] => Finalizado\n[buscarEmpresasDaPagina] => Iniciado\n[buscarEmpresasDaPagina] => Buscar: https://guiafacil.com/buscaAjax.php?busca=&cidade=joinville&tipoBusca=segmento&estado=santa-catarina&pagina=2\n[buscarEmpresasDaPagina] => Quantidade de empresas da página: 20\n[buscarEmpresasDaPagina] => Finalizado\n[inserirEmpresas] => Iniciado\n[inserirEmpresas] => Conexao com banco de dados: COLETADEDADOS efetuada\n[inserirEmpresa] => Iniciado\n[existeEmpresaComNome] => Iniciado\n[existeEmpresaComNome] => Existe empresa? True\n[existeEmpresaComNome] => Finalizado\n[inserirEmpresa] => Finalizado\n[inserirEmpresa] => Iniciado\n[existeEmpresaComNome] => Iniciado\n[existeEmpresaComNome] => Existe empresa? True\n[existeEmpresaComNome] => Finalizado\n[inserirEmpresa] => Finalizado\n[inserirEmpresa] => Iniciado\n[existeEmpresaComNome] => Iniciado\n[existeEmpresaComNome] => Existe empresa? True\n[existeEmpresaComNome] => Finalizado\n[inserirEmpresa] => Finalizado\n[inserirEmpresa] => Iniciado\n[existeEmpresaComNome] => Iniciado\n[existeEmpresaComNome] => Existe empresa? True\n[existeEmpresaComNome] => Finalizado\n[inserirEmpresa] => Finalizado\n[inserirEmpresa] => Iniciado\n[existeEmpresaComNome] => Iniciado\n[existeEmpresaComNome] => Existe empresa? True\n[existeEmpresaComNome] => Finalizado\n[inserirEmpresa] => Finalizado\n[inserirEmpresa] => Iniciado\n[existeEmpresaComNome] => Iniciado\n[existeEmpresaComNome] => Existe empresa? True\n[existeEmpresaComNome] => Finalizado\n[inserirEmpresa] => Finalizado\n[inserirEmpresa] => Iniciado\n[existeEmpresaComNome] => Iniciado\n[existeEmpresaComNome] => Existe empresa? True\n[existeEmpresaComNome] => Finalizado\n[inserirEmpresa] => Finalizado\n[inserirEmpresa] => Iniciado\n[existeEmpresaComNome] => Iniciado\n[existeEmpresaComNome] => Existe empresa? True\n[existeEmpresaComNome] => Finalizado\n[inserirEmpresa] => Finalizado\n[inserirEmpresa] => Iniciado\n[existeEmpresaComNome] => Iniciado\n[existeEmpresaComNome] => Existe empresa? True\n[existeEmpresaComNome] => Finalizado\n[inserirEmpresa] => Finalizado\n[inserirEmpresa] => Iniciado\n[existeEmpresaComNome] => Iniciado\n[existeEmpresaComNome] => Existe empresa? True\n[existeEmpresaComNome] => Finalizado\n[inserirEmpresa] => Finalizado\n[inserirEmpresa] => Iniciado\n[existeEmpresaComNome] => Iniciado\n[existeEmpresaComNome] => Existe empresa? True\n[existeEmpresaComNome] => Finalizado\n[inserirEmpresa] => Finalizado\n[inserirEmpresa] => Iniciado\n[existeEmpresaComNome] => Iniciado\n[existeEmpresaComNome] => Existe empresa? True\n[existeEmpresaComNome] => Finalizado\n[inserirEmpresa] => Finalizado\n[inserirEmpresa] => Iniciado\n[existeEmpresaComNome] => Iniciado\n[existeEmpresaComNome] => Existe empresa? True\n[existeEmpresaComNome] => Finalizado\n[inserirEmpresa] => Finalizado\n[inserirEmpresa] => Iniciado\n[existeEmpresaComNome] => Iniciado\n[existeEmpresaComNome] => Existe empresa? True\n[existeEmpresaComNome] => Finalizado\n[inserirEmpresa] => Finalizado\n[inserirEmpresa] => Iniciado\n[existeEmpresaComNome] => Iniciado\n[existeEmpresaComNome] => Existe empresa? True\n[existeEmpresaComNome] => Finalizado\n[inserirEmpresa] => Finalizado\n[inserirEmpresa] => Iniciado\n[existeEmpresaComNome] => Iniciado\n[existeEmpresaComNome] => Existe empresa? True\n[existeEmpresaComNome] => Finalizado\n[inserirEmpresa] => Finalizado\n[inserirEmpresa] => Iniciado\n[existeEmpresaComNome] => Iniciado\n[existeEmpresaComNome] => Existe empresa? True\n[existeEmpresaComNome] => Finalizado\n[inserirEmpresa] => Finalizado\n[inserirEmpresa] => Iniciado\n[existeEmpresaComNome] => Iniciado\n[existeEmpresaComNome] => Existe empresa? True\n[existeEmpresaComNome] => Finalizado\n[inserirEmpresa] => Finalizado\n[inserirEmpresa] => Iniciado\n[existeEmpresaComNome] => Iniciado\n[existeEmpresaComNome] => Existe empresa? True\n[existeEmpresaComNome] => Finalizado\n[inserirEmpresa] => Finalizado\n[inserirEmpresa] => Iniciado\n[existeEmpresaComNome] => Iniciado\n[existeEmpresaComNome] => Existe empresa? True\n[existeEmpresaComNome] => Finalizado\n[inserirEmpresa] => Finalizado\n[inserirEmpresas] => Conexao com banco de dados: COLETADEDADOS finalizada\n[inserirEmpresas] => Finalizado\n[buscarEmpresasDaPagina] => Iniciado\n[buscarEmpresasDaPagina] => Buscar: https://guiafacil.com/buscaAjax.php?busca=&cidade=joinville&tipoBusca=segmento&estado=santa-catarina&pagina=3\n[buscarEmpresasDaPagina] => Quantidade de empresas da página: 20\n[buscarEmpresasDaPagina] => Finalizado\n[inserirEmpresas] => Iniciado\n[inserirEmpresas] => Conexao com banco de dados: COLETADEDADOS efetuada\n[inserirEmpresa] => Iniciado\n[existeEmpresaComNome] => Iniciado\n[existeEmpresaComNome] => Existe empresa? True\n[existeEmpresaComNome] => Finalizado\n[inserirEmpresa] => Finalizado\n[inserirEmpresa] => Iniciado\n[existeEmpresaComNome] => Iniciado\n[existeEmpresaComNome] => Existe empresa? True\n[existeEmpresaComNome] => Finalizado\n[inserirEmpresa] => Finalizado\n[inserirEmpresa] => Iniciado\n[existeEmpresaComNome] => Iniciado\n[existeEmpresaComNome] => Existe empresa? True\n[existeEmpresaComNome] => Finalizado\n[inserirEmpresa] => Finalizado\n[inserirEmpresa] => Iniciado\n[existeEmpresaComNome] => Iniciado\n[existeEmpresaComNome] => Existe empresa? True\n[existeEmpresaComNome] => Finalizado\n[inserirEmpresa] => Finalizado\n[inserirEmpresa] => Iniciado\n[existeEmpresaComNome] => Iniciado\n[existeEmpresaComNome] => Existe empresa? True\n[existeEmpresaComNome] => Finalizado\n[inserirEmpresa] => Finalizado\n[inserirEmpresa] => Iniciado\n[existeEmpresaComNome] => Iniciado\n[existeEmpresaComNome] => Existe empresa? True\n[existeEmpresaComNome] => Finalizado\n[inserirEmpresa] => Finalizado\n[inserirEmpresa] => Iniciado\n[existeEmpresaComNome] => Iniciado\n[existeEmpresaComNome] => Existe empresa? True\n[existeEmpresaComNome] => Finalizado\n[inserirEmpresa] => Finalizado\n[inserirEmpresa] => Iniciado\n[existeEmpresaComNome] => Iniciado\n[existeEmpresaComNome] => Existe empresa? True\n[existeEmpresaComNome] => Finalizado\n[inserirEmpresa] => Finalizado\n[inserirEmpresa] => Iniciado\n[existeEmpresaComNome] => Iniciado\n[existeEmpresaComNome] => Existe empresa? True\n[existeEmpresaComNome] => Finalizado\n[inserirEmpresa] => Finalizado\n[inserirEmpresa] => Iniciado\n[existeEmpresaComNome] => Iniciado\n[existeEmpresaComNome] => Existe empresa? True\n[existeEmpresaComNome] => Finalizado\n[inserirEmpresa] => Finalizado\n[inserirEmpresa] => Iniciado\n[existeEmpresaComNome] => Iniciado\n[existeEmpresaComNome] => Existe empresa? True\n[existeEmpresaComNome] => Finalizado\n[inserirEmpresa] => Finalizado\n[inserirEmpresa] => Iniciado\n[existeEmpresaComNome] => Iniciado\n[existeEmpresaComNome] => Existe empresa? True\n[existeEmpresaComNome] => Finalizado\n[inserirEmpresa] => Finalizado\n[inserirEmpresa] => Iniciado\n[existeEmpresaComNome] => Iniciado\n[existeEmpresaComNome] => Existe empresa? True\n[existeEmpresaComNome] => Finalizado\n[inserirEmpresa] => Finalizado\n[inserirEmpresa] => Iniciado\n[existeEmpresaComNome] => Iniciado\n[existeEmpresaComNome] => Existe empresa? True\n[existeEmpresaComNome] => Finalizado\n[inserirEmpresa] => Finalizado\n[inserirEmpresa] => Iniciado\n[existeEmpresaComNome] => Iniciado\n[existeEmpresaComNome] => Existe empresa? True\n[existeEmpresaComNome] => Finalizado\n[inserirEmpresa] => Finalizado\n[inserirEmpresa] => Iniciado\n[existeEmpresaComNome] => Iniciado\n[existeEmpresaComNome] => Existe empresa? True\n[existeEmpresaComNome] => Finalizado\n[inserirEmpresa] => Finalizado\n[inserirEmpresa] => Iniciado\n[existeEmpresaComNome] => Iniciado\n[existeEmpresaComNome] => Existe empresa? True\n[existeEmpresaComNome] => Finalizado\n[inserirEmpresa] => Finalizado\n[inserirEmpresa] => Iniciado\n[existeEmpresaComNome] => Iniciado\n[existeEmpresaComNome] => Existe empresa? True\n[existeEmpresaComNome] => Finalizado\n[inserirEmpresa] => Finalizado\n[inserirEmpresa] => Iniciado\n[existeEmpresaComNome] => Iniciado\n[existeEmpresaComNome] => Existe empresa? True\n[existeEmpresaComNome] => Finalizado\n[inserirEmpresa] => Finalizado\n[inserirEmpresa] => Iniciado\n[existeEmpresaComNome] => Iniciado\n[existeEmpresaComNome] => Existe empresa? True\n[existeEmpresaComNome] => Finalizado\n[inserirEmpresa] => Finalizado\n[inserirEmpresas] => Conexao com banco de dados: COLETADEDADOS finalizada\n[inserirEmpresas] => Finalizado\n[buscarEmpresasDaPagina] => Iniciado\n[buscarEmpresasDaPagina] => Buscar: https://guiafacil.com/buscaAjax.php?busca=&cidade=joinville&tipoBusca=segmento&estado=santa-catarina&pagina=4\n[buscarEmpresasDaPagina] => Quantidade de empresas da página: 20\n[buscarEmpresasDaPagina] => Finalizado\n[inserirEmpresas] => Iniciado\n[inserirEmpresas] => Conexao com banco de dados: COLETADEDADOS efetuada\n[inserirEmpresa] => Iniciado\n[existeEmpresaComNome] => Iniciado\n[existeEmpresaComNome] => Existe empresa? True\n[existeEmpresaComNome] => Finalizado\n[inserirEmpresa] => Finalizado\n[inserirEmpresa] => Iniciado\n[existeEmpresaComNome] => Iniciado\n[existeEmpresaComNome] => Existe empresa? True\n[existeEmpresaComNome] => Finalizado\n[inserirEmpresa] => Finalizado\n[inserirEmpresa] => Iniciado\n[existeEmpresaComNome] => Iniciado\n[existeEmpresaComNome] => Existe empresa? True\n[existeEmpresaComNome] => Finalizado\n[inserirEmpresa] => Finalizado\n[inserirEmpresa] => Iniciado\n[existeEmpresaComNome] => Iniciado\n[existeEmpresaComNome] => Existe empresa? True\n[existeEmpresaComNome] => Finalizado\n[inserirEmpresa] => Finalizado\n[inserirEmpresa] => Iniciado\n[existeEmpresaComNome] => Iniciado\n[existeEmpresaComNome] => Existe empresa? True\n[existeEmpresaComNome] => Finalizado\n[inserirEmpresa] => Finalizado\n[inserirEmpresa] => Iniciado\n[existeEmpresaComNome] => Iniciado\n[existeEmpresaComNome] => Existe empresa? True\n[existeEmpresaComNome] => Finalizado\n[inserirEmpresa] => Finalizado\n[inserirEmpresa] => Iniciado\n[existeEmpresaComNome] => Iniciado\n[existeEmpresaComNome] => Existe empresa? True\n[existeEmpresaComNome] => Finalizado\n[inserirEmpresa] => Finalizado\n[inserirEmpresa] => Iniciado\n[existeEmpresaComNome] => Iniciado\n[existeEmpresaComNome] => Existe empresa? True\n[existeEmpresaComNome] => Finalizado\n[inserirEmpresa] => Finalizado\n[inserirEmpresa] => Iniciado\n[existeEmpresaComNome] => Iniciado\n[existeEmpresaComNome] => Existe empresa? True\n[existeEmpresaComNome] => Finalizado\n[inserirEmpresa] => Finalizado\n[inserirEmpresa] => Iniciado\n[existeEmpresaComNome] => Iniciado\n[existeEmpresaComNome] => Existe empresa? True\n[existeEmpresaComNome] => Finalizado\n[inserirEmpresa] => Finalizado\n[inserirEmpresa] => Iniciado\n[existeEmpresaComNome] => Iniciado\n[existeEmpresaComNome] => Existe empresa? True\n[existeEmpresaComNome] => Finalizado\n[inserirEmpresa] => Finalizado\n[inserirEmpresa] => Iniciado\n[existeEmpresaComNome] => Iniciado\n[existeEmpresaComNome] => Existe empresa? True\n[existeEmpresaComNome] => Finalizado\n[inserirEmpresa] => Finalizado\n[inserirEmpresa] => Iniciado\n[existeEmpresaComNome] => Iniciado\n[existeEmpresaComNome] => Existe empresa? True\n[existeEmpresaComNome] => Finalizado\n[inserirEmpresa] => Finalizado\n[inserirEmpresa] => Iniciado\n[existeEmpresaComNome] => Iniciado\n[existeEmpresaComNome] => Existe empresa? True\n[existeEmpresaComNome] => Finalizado\n[inserirEmpresa] => Finalizado\n[inserirEmpresa] => Iniciado\n[existeEmpresaComNome] => Iniciado\n[existeEmpresaComNome] => Existe empresa? True\n[existeEmpresaComNome] => Finalizado\n[inserirEmpresa] => Finalizado\n[inserirEmpresa] => Iniciado\n[existeEmpresaComNome] => Iniciado\n[existeEmpresaComNome] => Existe empresa? True\n[existeEmpresaComNome] => Finalizado\n[inserirEmpresa] => Finalizado\n[inserirEmpresa] => Iniciado\n[existeEmpresaComNome] => Iniciado\n[existeEmpresaComNome] => Existe empresa? True\n[existeEmpresaComNome] => Finalizado\n[inserirEmpresa] => Finalizado\n[inserirEmpresa] => Iniciado\n[existeEmpresaComNome] => Iniciado\n[existeEmpresaComNome] => Existe empresa? True\n[existeEmpresaComNome] => Finalizado\n[inserirEmpresa] => Finalizado\n[inserirEmpresa] => Iniciado\n[existeEmpresaComNome] => Iniciado\n[existeEmpresaComNome] => Existe empresa? True\n[existeEmpresaComNome] => Finalizado\n[inserirEmpresa] => Finalizado\n[inserirEmpresa] => Iniciado\n[existeEmpresaComNome] => Iniciado\n[existeEmpresaComNome] => Existe empresa? True\n[existeEmpresaComNome] => Finalizado\n[inserirEmpresa] => Finalizado\n[inserirEmpresas] => Conexao com banco de dados: COLETADEDADOS finalizada\n[inserirEmpresas] => Finalizado\n[buscarEmpresasDaPagina] => Iniciado\n[buscarEmpresasDaPagina] => Buscar: https://guiafacil.com/buscaAjax.php?busca=&cidade=joinville&tipoBusca=segmento&estado=santa-catarina&pagina=5\n"
    },
    {
     "ename": "KeyboardInterrupt",
     "evalue": "",
     "output_type": "error",
     "traceback": [
      "\u001b[0;31m---------------------------------------------------------------------------\u001b[0m",
      "\u001b[0;31mKeyboardInterrupt\u001b[0m                         Traceback (most recent call last)",
      "\u001b[0;32m<ipython-input-16-67910f8a527d>\u001b[0m in \u001b[0;36m<module>\u001b[0;34m\u001b[0m\n\u001b[0;32m----> 1\u001b[0;31m \u001b[0mbuscarEmpresas\u001b[0m\u001b[0;34m(\u001b[0m\u001b[0;34m''\u001b[0m\u001b[0;34m,\u001b[0m \u001b[0;34m'joinville'\u001b[0m\u001b[0;34m,\u001b[0m \u001b[0;34m'santa-catarina'\u001b[0m\u001b[0;34m)\u001b[0m\u001b[0;34m\u001b[0m\u001b[0;34m\u001b[0m\u001b[0m\n\u001b[0m",
      "\u001b[0;32m<ipython-input-15-22c775fc686e>\u001b[0m in \u001b[0;36mbuscarEmpresas\u001b[0;34m(categoria, cidade, estado)\u001b[0m\n\u001b[1;32m      5\u001b[0m     \u001b[0mpagina\u001b[0m \u001b[0;34m=\u001b[0m \u001b[0;36m1\u001b[0m\u001b[0;34m\u001b[0m\u001b[0;34m\u001b[0m\u001b[0m\n\u001b[1;32m      6\u001b[0m     \u001b[0;32mwhile\u001b[0m\u001b[0;34m(\u001b[0m\u001b[0;32mTrue\u001b[0m\u001b[0;34m)\u001b[0m\u001b[0;34m:\u001b[0m\u001b[0;34m\u001b[0m\u001b[0;34m\u001b[0m\u001b[0m\n\u001b[0;32m----> 7\u001b[0;31m         \u001b[0mresultadoPagina\u001b[0m \u001b[0;34m=\u001b[0m \u001b[0mbuscarEmpresasDaPagina\u001b[0m\u001b[0;34m(\u001b[0m\u001b[0mcategoria\u001b[0m\u001b[0;34m,\u001b[0m \u001b[0mcidade\u001b[0m\u001b[0;34m,\u001b[0m \u001b[0mestado\u001b[0m\u001b[0;34m,\u001b[0m \u001b[0mpagina\u001b[0m\u001b[0;34m)\u001b[0m\u001b[0;34m\u001b[0m\u001b[0;34m\u001b[0m\u001b[0m\n\u001b[0m\u001b[1;32m      8\u001b[0m         \u001b[0;32mif\u001b[0m \u001b[0;34m(\u001b[0m\u001b[0mlen\u001b[0m\u001b[0;34m(\u001b[0m\u001b[0mresultadoPagina\u001b[0m\u001b[0;34m)\u001b[0m \u001b[0;34m==\u001b[0m \u001b[0;36m0\u001b[0m\u001b[0;34m)\u001b[0m\u001b[0;34m:\u001b[0m\u001b[0;34m\u001b[0m\u001b[0;34m\u001b[0m\u001b[0m\n\u001b[1;32m      9\u001b[0m             \u001b[0;32mbreak\u001b[0m\u001b[0;34m\u001b[0m\u001b[0;34m\u001b[0m\u001b[0m\n",
      "\u001b[0;32m<ipython-input-14-aab6338f6315>\u001b[0m in \u001b[0;36mbuscarEmpresasDaPagina\u001b[0;34m(categoria, cidade, estado, pagina)\u001b[0m\n\u001b[1;32m      8\u001b[0m     \u001b[0mLOG\u001b[0m\u001b[0;34m(\u001b[0m\u001b[0;34m'buscarEmpresasDaPagina'\u001b[0m\u001b[0;34m,\u001b[0m \u001b[0;34m'Buscar: {}'\u001b[0m\u001b[0;34m.\u001b[0m\u001b[0mformat\u001b[0m\u001b[0;34m(\u001b[0m\u001b[0msite\u001b[0m\u001b[0;34m)\u001b[0m\u001b[0;34m)\u001b[0m\u001b[0;34m\u001b[0m\u001b[0;34m\u001b[0m\u001b[0m\n\u001b[1;32m      9\u001b[0m \u001b[0;34m\u001b[0m\u001b[0m\n\u001b[0;32m---> 10\u001b[0;31m     \u001b[0mconteudo\u001b[0m \u001b[0;34m=\u001b[0m \u001b[0murlopen\u001b[0m\u001b[0;34m(\u001b[0m\u001b[0msite\u001b[0m\u001b[0;34m)\u001b[0m\u001b[0;34m.\u001b[0m\u001b[0mread\u001b[0m\u001b[0;34m(\u001b[0m\u001b[0;34m)\u001b[0m\u001b[0;34m\u001b[0m\u001b[0;34m\u001b[0m\u001b[0m\n\u001b[0m\u001b[1;32m     11\u001b[0m     \u001b[0mconteudoJson\u001b[0m \u001b[0;34m=\u001b[0m \u001b[0mjson\u001b[0m\u001b[0;34m.\u001b[0m\u001b[0mloads\u001b[0m\u001b[0;34m(\u001b[0m\u001b[0mconteudo\u001b[0m\u001b[0;34m)\u001b[0m\u001b[0;34m\u001b[0m\u001b[0;34m\u001b[0m\u001b[0m\n\u001b[1;32m     12\u001b[0m     \u001b[0mresultado\u001b[0m \u001b[0;34m=\u001b[0m \u001b[0mconteudoJson\u001b[0m\u001b[0;34m[\u001b[0m\u001b[0;34m'resultados'\u001b[0m\u001b[0;34m]\u001b[0m\u001b[0;34m\u001b[0m\u001b[0;34m\u001b[0m\u001b[0m\n",
      "\u001b[0;32m~/Workstation/Tools/anaconda3/lib/python3.7/urllib/request.py\u001b[0m in \u001b[0;36murlopen\u001b[0;34m(url, data, timeout, cafile, capath, cadefault, context)\u001b[0m\n\u001b[1;32m    220\u001b[0m     \u001b[0;32melse\u001b[0m\u001b[0;34m:\u001b[0m\u001b[0;34m\u001b[0m\u001b[0;34m\u001b[0m\u001b[0m\n\u001b[1;32m    221\u001b[0m         \u001b[0mopener\u001b[0m \u001b[0;34m=\u001b[0m \u001b[0m_opener\u001b[0m\u001b[0;34m\u001b[0m\u001b[0;34m\u001b[0m\u001b[0m\n\u001b[0;32m--> 222\u001b[0;31m     \u001b[0;32mreturn\u001b[0m \u001b[0mopener\u001b[0m\u001b[0;34m.\u001b[0m\u001b[0mopen\u001b[0m\u001b[0;34m(\u001b[0m\u001b[0murl\u001b[0m\u001b[0;34m,\u001b[0m \u001b[0mdata\u001b[0m\u001b[0;34m,\u001b[0m \u001b[0mtimeout\u001b[0m\u001b[0;34m)\u001b[0m\u001b[0;34m\u001b[0m\u001b[0;34m\u001b[0m\u001b[0m\n\u001b[0m\u001b[1;32m    223\u001b[0m \u001b[0;34m\u001b[0m\u001b[0m\n\u001b[1;32m    224\u001b[0m \u001b[0;32mdef\u001b[0m \u001b[0minstall_opener\u001b[0m\u001b[0;34m(\u001b[0m\u001b[0mopener\u001b[0m\u001b[0;34m)\u001b[0m\u001b[0;34m:\u001b[0m\u001b[0;34m\u001b[0m\u001b[0;34m\u001b[0m\u001b[0m\n",
      "\u001b[0;32m~/Workstation/Tools/anaconda3/lib/python3.7/urllib/request.py\u001b[0m in \u001b[0;36mopen\u001b[0;34m(self, fullurl, data, timeout)\u001b[0m\n\u001b[1;32m    523\u001b[0m             \u001b[0mreq\u001b[0m \u001b[0;34m=\u001b[0m \u001b[0mmeth\u001b[0m\u001b[0;34m(\u001b[0m\u001b[0mreq\u001b[0m\u001b[0;34m)\u001b[0m\u001b[0;34m\u001b[0m\u001b[0;34m\u001b[0m\u001b[0m\n\u001b[1;32m    524\u001b[0m \u001b[0;34m\u001b[0m\u001b[0m\n\u001b[0;32m--> 525\u001b[0;31m         \u001b[0mresponse\u001b[0m \u001b[0;34m=\u001b[0m \u001b[0mself\u001b[0m\u001b[0;34m.\u001b[0m\u001b[0m_open\u001b[0m\u001b[0;34m(\u001b[0m\u001b[0mreq\u001b[0m\u001b[0;34m,\u001b[0m \u001b[0mdata\u001b[0m\u001b[0;34m)\u001b[0m\u001b[0;34m\u001b[0m\u001b[0;34m\u001b[0m\u001b[0m\n\u001b[0m\u001b[1;32m    526\u001b[0m \u001b[0;34m\u001b[0m\u001b[0m\n\u001b[1;32m    527\u001b[0m         \u001b[0;31m# post-process response\u001b[0m\u001b[0;34m\u001b[0m\u001b[0;34m\u001b[0m\u001b[0;34m\u001b[0m\u001b[0m\n",
      "\u001b[0;32m~/Workstation/Tools/anaconda3/lib/python3.7/urllib/request.py\u001b[0m in \u001b[0;36m_open\u001b[0;34m(self, req, data)\u001b[0m\n\u001b[1;32m    541\u001b[0m         \u001b[0mprotocol\u001b[0m \u001b[0;34m=\u001b[0m \u001b[0mreq\u001b[0m\u001b[0;34m.\u001b[0m\u001b[0mtype\u001b[0m\u001b[0;34m\u001b[0m\u001b[0;34m\u001b[0m\u001b[0m\n\u001b[1;32m    542\u001b[0m         result = self._call_chain(self.handle_open, protocol, protocol +\n\u001b[0;32m--> 543\u001b[0;31m                                   '_open', req)\n\u001b[0m\u001b[1;32m    544\u001b[0m         \u001b[0;32mif\u001b[0m \u001b[0mresult\u001b[0m\u001b[0;34m:\u001b[0m\u001b[0;34m\u001b[0m\u001b[0;34m\u001b[0m\u001b[0m\n\u001b[1;32m    545\u001b[0m             \u001b[0;32mreturn\u001b[0m \u001b[0mresult\u001b[0m\u001b[0;34m\u001b[0m\u001b[0;34m\u001b[0m\u001b[0m\n",
      "\u001b[0;32m~/Workstation/Tools/anaconda3/lib/python3.7/urllib/request.py\u001b[0m in \u001b[0;36m_call_chain\u001b[0;34m(self, chain, kind, meth_name, *args)\u001b[0m\n\u001b[1;32m    501\u001b[0m         \u001b[0;32mfor\u001b[0m \u001b[0mhandler\u001b[0m \u001b[0;32min\u001b[0m \u001b[0mhandlers\u001b[0m\u001b[0;34m:\u001b[0m\u001b[0;34m\u001b[0m\u001b[0;34m\u001b[0m\u001b[0m\n\u001b[1;32m    502\u001b[0m             \u001b[0mfunc\u001b[0m \u001b[0;34m=\u001b[0m \u001b[0mgetattr\u001b[0m\u001b[0;34m(\u001b[0m\u001b[0mhandler\u001b[0m\u001b[0;34m,\u001b[0m \u001b[0mmeth_name\u001b[0m\u001b[0;34m)\u001b[0m\u001b[0;34m\u001b[0m\u001b[0;34m\u001b[0m\u001b[0m\n\u001b[0;32m--> 503\u001b[0;31m             \u001b[0mresult\u001b[0m \u001b[0;34m=\u001b[0m \u001b[0mfunc\u001b[0m\u001b[0;34m(\u001b[0m\u001b[0;34m*\u001b[0m\u001b[0margs\u001b[0m\u001b[0;34m)\u001b[0m\u001b[0;34m\u001b[0m\u001b[0;34m\u001b[0m\u001b[0m\n\u001b[0m\u001b[1;32m    504\u001b[0m             \u001b[0;32mif\u001b[0m \u001b[0mresult\u001b[0m \u001b[0;32mis\u001b[0m \u001b[0;32mnot\u001b[0m \u001b[0;32mNone\u001b[0m\u001b[0;34m:\u001b[0m\u001b[0;34m\u001b[0m\u001b[0;34m\u001b[0m\u001b[0m\n\u001b[1;32m    505\u001b[0m                 \u001b[0;32mreturn\u001b[0m \u001b[0mresult\u001b[0m\u001b[0;34m\u001b[0m\u001b[0;34m\u001b[0m\u001b[0m\n",
      "\u001b[0;32m~/Workstation/Tools/anaconda3/lib/python3.7/urllib/request.py\u001b[0m in \u001b[0;36mhttps_open\u001b[0;34m(self, req)\u001b[0m\n\u001b[1;32m   1358\u001b[0m         \u001b[0;32mdef\u001b[0m \u001b[0mhttps_open\u001b[0m\u001b[0;34m(\u001b[0m\u001b[0mself\u001b[0m\u001b[0;34m,\u001b[0m \u001b[0mreq\u001b[0m\u001b[0;34m)\u001b[0m\u001b[0;34m:\u001b[0m\u001b[0;34m\u001b[0m\u001b[0;34m\u001b[0m\u001b[0m\n\u001b[1;32m   1359\u001b[0m             return self.do_open(http.client.HTTPSConnection, req,\n\u001b[0;32m-> 1360\u001b[0;31m                 context=self._context, check_hostname=self._check_hostname)\n\u001b[0m\u001b[1;32m   1361\u001b[0m \u001b[0;34m\u001b[0m\u001b[0m\n\u001b[1;32m   1362\u001b[0m         \u001b[0mhttps_request\u001b[0m \u001b[0;34m=\u001b[0m \u001b[0mAbstractHTTPHandler\u001b[0m\u001b[0;34m.\u001b[0m\u001b[0mdo_request_\u001b[0m\u001b[0;34m\u001b[0m\u001b[0;34m\u001b[0m\u001b[0m\n",
      "\u001b[0;32m~/Workstation/Tools/anaconda3/lib/python3.7/urllib/request.py\u001b[0m in \u001b[0;36mdo_open\u001b[0;34m(self, http_class, req, **http_conn_args)\u001b[0m\n\u001b[1;32m   1318\u001b[0m             \u001b[0;32mexcept\u001b[0m \u001b[0mOSError\u001b[0m \u001b[0;32mas\u001b[0m \u001b[0merr\u001b[0m\u001b[0;34m:\u001b[0m \u001b[0;31m# timeout error\u001b[0m\u001b[0;34m\u001b[0m\u001b[0;34m\u001b[0m\u001b[0m\n\u001b[1;32m   1319\u001b[0m                 \u001b[0;32mraise\u001b[0m \u001b[0mURLError\u001b[0m\u001b[0;34m(\u001b[0m\u001b[0merr\u001b[0m\u001b[0;34m)\u001b[0m\u001b[0;34m\u001b[0m\u001b[0;34m\u001b[0m\u001b[0m\n\u001b[0;32m-> 1320\u001b[0;31m             \u001b[0mr\u001b[0m \u001b[0;34m=\u001b[0m \u001b[0mh\u001b[0m\u001b[0;34m.\u001b[0m\u001b[0mgetresponse\u001b[0m\u001b[0;34m(\u001b[0m\u001b[0;34m)\u001b[0m\u001b[0;34m\u001b[0m\u001b[0;34m\u001b[0m\u001b[0m\n\u001b[0m\u001b[1;32m   1321\u001b[0m         \u001b[0;32mexcept\u001b[0m\u001b[0;34m:\u001b[0m\u001b[0;34m\u001b[0m\u001b[0;34m\u001b[0m\u001b[0m\n\u001b[1;32m   1322\u001b[0m             \u001b[0mh\u001b[0m\u001b[0;34m.\u001b[0m\u001b[0mclose\u001b[0m\u001b[0;34m(\u001b[0m\u001b[0;34m)\u001b[0m\u001b[0;34m\u001b[0m\u001b[0;34m\u001b[0m\u001b[0m\n",
      "\u001b[0;32m~/Workstation/Tools/anaconda3/lib/python3.7/http/client.py\u001b[0m in \u001b[0;36mgetresponse\u001b[0;34m(self)\u001b[0m\n\u001b[1;32m   1334\u001b[0m         \u001b[0;32mtry\u001b[0m\u001b[0;34m:\u001b[0m\u001b[0;34m\u001b[0m\u001b[0;34m\u001b[0m\u001b[0m\n\u001b[1;32m   1335\u001b[0m             \u001b[0;32mtry\u001b[0m\u001b[0;34m:\u001b[0m\u001b[0;34m\u001b[0m\u001b[0;34m\u001b[0m\u001b[0m\n\u001b[0;32m-> 1336\u001b[0;31m                 \u001b[0mresponse\u001b[0m\u001b[0;34m.\u001b[0m\u001b[0mbegin\u001b[0m\u001b[0;34m(\u001b[0m\u001b[0;34m)\u001b[0m\u001b[0;34m\u001b[0m\u001b[0;34m\u001b[0m\u001b[0m\n\u001b[0m\u001b[1;32m   1337\u001b[0m             \u001b[0;32mexcept\u001b[0m \u001b[0mConnectionError\u001b[0m\u001b[0;34m:\u001b[0m\u001b[0;34m\u001b[0m\u001b[0;34m\u001b[0m\u001b[0m\n\u001b[1;32m   1338\u001b[0m                 \u001b[0mself\u001b[0m\u001b[0;34m.\u001b[0m\u001b[0mclose\u001b[0m\u001b[0;34m(\u001b[0m\u001b[0;34m)\u001b[0m\u001b[0;34m\u001b[0m\u001b[0;34m\u001b[0m\u001b[0m\n",
      "\u001b[0;32m~/Workstation/Tools/anaconda3/lib/python3.7/http/client.py\u001b[0m in \u001b[0;36mbegin\u001b[0;34m(self)\u001b[0m\n\u001b[1;32m    304\u001b[0m         \u001b[0;31m# read until we get a non-100 response\u001b[0m\u001b[0;34m\u001b[0m\u001b[0;34m\u001b[0m\u001b[0;34m\u001b[0m\u001b[0m\n\u001b[1;32m    305\u001b[0m         \u001b[0;32mwhile\u001b[0m \u001b[0;32mTrue\u001b[0m\u001b[0;34m:\u001b[0m\u001b[0;34m\u001b[0m\u001b[0;34m\u001b[0m\u001b[0m\n\u001b[0;32m--> 306\u001b[0;31m             \u001b[0mversion\u001b[0m\u001b[0;34m,\u001b[0m \u001b[0mstatus\u001b[0m\u001b[0;34m,\u001b[0m \u001b[0mreason\u001b[0m \u001b[0;34m=\u001b[0m \u001b[0mself\u001b[0m\u001b[0;34m.\u001b[0m\u001b[0m_read_status\u001b[0m\u001b[0;34m(\u001b[0m\u001b[0;34m)\u001b[0m\u001b[0;34m\u001b[0m\u001b[0;34m\u001b[0m\u001b[0m\n\u001b[0m\u001b[1;32m    307\u001b[0m             \u001b[0;32mif\u001b[0m \u001b[0mstatus\u001b[0m \u001b[0;34m!=\u001b[0m \u001b[0mCONTINUE\u001b[0m\u001b[0;34m:\u001b[0m\u001b[0;34m\u001b[0m\u001b[0;34m\u001b[0m\u001b[0m\n\u001b[1;32m    308\u001b[0m                 \u001b[0;32mbreak\u001b[0m\u001b[0;34m\u001b[0m\u001b[0;34m\u001b[0m\u001b[0m\n",
      "\u001b[0;32m~/Workstation/Tools/anaconda3/lib/python3.7/http/client.py\u001b[0m in \u001b[0;36m_read_status\u001b[0;34m(self)\u001b[0m\n\u001b[1;32m    265\u001b[0m \u001b[0;34m\u001b[0m\u001b[0m\n\u001b[1;32m    266\u001b[0m     \u001b[0;32mdef\u001b[0m \u001b[0m_read_status\u001b[0m\u001b[0;34m(\u001b[0m\u001b[0mself\u001b[0m\u001b[0;34m)\u001b[0m\u001b[0;34m:\u001b[0m\u001b[0;34m\u001b[0m\u001b[0;34m\u001b[0m\u001b[0m\n\u001b[0;32m--> 267\u001b[0;31m         \u001b[0mline\u001b[0m \u001b[0;34m=\u001b[0m \u001b[0mstr\u001b[0m\u001b[0;34m(\u001b[0m\u001b[0mself\u001b[0m\u001b[0;34m.\u001b[0m\u001b[0mfp\u001b[0m\u001b[0;34m.\u001b[0m\u001b[0mreadline\u001b[0m\u001b[0;34m(\u001b[0m\u001b[0m_MAXLINE\u001b[0m \u001b[0;34m+\u001b[0m \u001b[0;36m1\u001b[0m\u001b[0;34m)\u001b[0m\u001b[0;34m,\u001b[0m \u001b[0;34m\"iso-8859-1\"\u001b[0m\u001b[0;34m)\u001b[0m\u001b[0;34m\u001b[0m\u001b[0;34m\u001b[0m\u001b[0m\n\u001b[0m\u001b[1;32m    268\u001b[0m         \u001b[0;32mif\u001b[0m \u001b[0mlen\u001b[0m\u001b[0;34m(\u001b[0m\u001b[0mline\u001b[0m\u001b[0;34m)\u001b[0m \u001b[0;34m>\u001b[0m \u001b[0m_MAXLINE\u001b[0m\u001b[0;34m:\u001b[0m\u001b[0;34m\u001b[0m\u001b[0;34m\u001b[0m\u001b[0m\n\u001b[1;32m    269\u001b[0m             \u001b[0;32mraise\u001b[0m \u001b[0mLineTooLong\u001b[0m\u001b[0;34m(\u001b[0m\u001b[0;34m\"status line\"\u001b[0m\u001b[0;34m)\u001b[0m\u001b[0;34m\u001b[0m\u001b[0;34m\u001b[0m\u001b[0m\n",
      "\u001b[0;32m~/Workstation/Tools/anaconda3/lib/python3.7/socket.py\u001b[0m in \u001b[0;36mreadinto\u001b[0;34m(self, b)\u001b[0m\n\u001b[1;32m    587\u001b[0m         \u001b[0;32mwhile\u001b[0m \u001b[0;32mTrue\u001b[0m\u001b[0;34m:\u001b[0m\u001b[0;34m\u001b[0m\u001b[0;34m\u001b[0m\u001b[0m\n\u001b[1;32m    588\u001b[0m             \u001b[0;32mtry\u001b[0m\u001b[0;34m:\u001b[0m\u001b[0;34m\u001b[0m\u001b[0;34m\u001b[0m\u001b[0m\n\u001b[0;32m--> 589\u001b[0;31m                 \u001b[0;32mreturn\u001b[0m \u001b[0mself\u001b[0m\u001b[0;34m.\u001b[0m\u001b[0m_sock\u001b[0m\u001b[0;34m.\u001b[0m\u001b[0mrecv_into\u001b[0m\u001b[0;34m(\u001b[0m\u001b[0mb\u001b[0m\u001b[0;34m)\u001b[0m\u001b[0;34m\u001b[0m\u001b[0;34m\u001b[0m\u001b[0m\n\u001b[0m\u001b[1;32m    590\u001b[0m             \u001b[0;32mexcept\u001b[0m \u001b[0mtimeout\u001b[0m\u001b[0;34m:\u001b[0m\u001b[0;34m\u001b[0m\u001b[0;34m\u001b[0m\u001b[0m\n\u001b[1;32m    591\u001b[0m                 \u001b[0mself\u001b[0m\u001b[0;34m.\u001b[0m\u001b[0m_timeout_occurred\u001b[0m \u001b[0;34m=\u001b[0m \u001b[0;32mTrue\u001b[0m\u001b[0;34m\u001b[0m\u001b[0;34m\u001b[0m\u001b[0m\n",
      "\u001b[0;32m~/Workstation/Tools/anaconda3/lib/python3.7/ssl.py\u001b[0m in \u001b[0;36mrecv_into\u001b[0;34m(self, buffer, nbytes, flags)\u001b[0m\n\u001b[1;32m   1069\u001b[0m                   \u001b[0;34m\"non-zero flags not allowed in calls to recv_into() on %s\"\u001b[0m \u001b[0;34m%\u001b[0m\u001b[0;34m\u001b[0m\u001b[0;34m\u001b[0m\u001b[0m\n\u001b[1;32m   1070\u001b[0m                   self.__class__)\n\u001b[0;32m-> 1071\u001b[0;31m             \u001b[0;32mreturn\u001b[0m \u001b[0mself\u001b[0m\u001b[0;34m.\u001b[0m\u001b[0mread\u001b[0m\u001b[0;34m(\u001b[0m\u001b[0mnbytes\u001b[0m\u001b[0;34m,\u001b[0m \u001b[0mbuffer\u001b[0m\u001b[0;34m)\u001b[0m\u001b[0;34m\u001b[0m\u001b[0;34m\u001b[0m\u001b[0m\n\u001b[0m\u001b[1;32m   1072\u001b[0m         \u001b[0;32melse\u001b[0m\u001b[0;34m:\u001b[0m\u001b[0;34m\u001b[0m\u001b[0;34m\u001b[0m\u001b[0m\n\u001b[1;32m   1073\u001b[0m             \u001b[0;32mreturn\u001b[0m \u001b[0msuper\u001b[0m\u001b[0;34m(\u001b[0m\u001b[0;34m)\u001b[0m\u001b[0;34m.\u001b[0m\u001b[0mrecv_into\u001b[0m\u001b[0;34m(\u001b[0m\u001b[0mbuffer\u001b[0m\u001b[0;34m,\u001b[0m \u001b[0mnbytes\u001b[0m\u001b[0;34m,\u001b[0m \u001b[0mflags\u001b[0m\u001b[0;34m)\u001b[0m\u001b[0;34m\u001b[0m\u001b[0;34m\u001b[0m\u001b[0m\n",
      "\u001b[0;32m~/Workstation/Tools/anaconda3/lib/python3.7/ssl.py\u001b[0m in \u001b[0;36mread\u001b[0;34m(self, len, buffer)\u001b[0m\n\u001b[1;32m    927\u001b[0m         \u001b[0;32mtry\u001b[0m\u001b[0;34m:\u001b[0m\u001b[0;34m\u001b[0m\u001b[0;34m\u001b[0m\u001b[0m\n\u001b[1;32m    928\u001b[0m             \u001b[0;32mif\u001b[0m \u001b[0mbuffer\u001b[0m \u001b[0;32mis\u001b[0m \u001b[0;32mnot\u001b[0m \u001b[0;32mNone\u001b[0m\u001b[0;34m:\u001b[0m\u001b[0;34m\u001b[0m\u001b[0;34m\u001b[0m\u001b[0m\n\u001b[0;32m--> 929\u001b[0;31m                 \u001b[0;32mreturn\u001b[0m \u001b[0mself\u001b[0m\u001b[0;34m.\u001b[0m\u001b[0m_sslobj\u001b[0m\u001b[0;34m.\u001b[0m\u001b[0mread\u001b[0m\u001b[0;34m(\u001b[0m\u001b[0mlen\u001b[0m\u001b[0;34m,\u001b[0m \u001b[0mbuffer\u001b[0m\u001b[0;34m)\u001b[0m\u001b[0;34m\u001b[0m\u001b[0;34m\u001b[0m\u001b[0m\n\u001b[0m\u001b[1;32m    930\u001b[0m             \u001b[0;32melse\u001b[0m\u001b[0;34m:\u001b[0m\u001b[0;34m\u001b[0m\u001b[0;34m\u001b[0m\u001b[0m\n\u001b[1;32m    931\u001b[0m                 \u001b[0;32mreturn\u001b[0m \u001b[0mself\u001b[0m\u001b[0;34m.\u001b[0m\u001b[0m_sslobj\u001b[0m\u001b[0;34m.\u001b[0m\u001b[0mread\u001b[0m\u001b[0;34m(\u001b[0m\u001b[0mlen\u001b[0m\u001b[0;34m)\u001b[0m\u001b[0;34m\u001b[0m\u001b[0;34m\u001b[0m\u001b[0m\n",
      "\u001b[0;31mKeyboardInterrupt\u001b[0m: "
     ]
    }
   ],
   "source": [
    "buscarEmpresas('', 'joinville', 'santa-catarina')"
   ]
  },
  {
   "cell_type": "code",
   "execution_count": null,
   "metadata": {},
   "outputs": [],
   "source": []
  }
 ],
 "metadata": {
  "kernelspec": {
   "display_name": "Python 3",
   "language": "python",
   "name": "python3"
  },
  "language_info": {
   "codemirror_mode": {
    "name": "ipython",
    "version": 3
   },
   "file_extension": ".py",
   "mimetype": "text/x-python",
   "name": "python",
   "nbconvert_exporter": "python",
   "pygments_lexer": "ipython3",
   "version": "3.7.4"
  }
 },
 "nbformat": 4,
 "nbformat_minor": 2
}