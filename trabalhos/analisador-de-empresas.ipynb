{
 "cells": [
  {
   "cell_type": "markdown",
   "metadata": {},
   "source": [
    "# Analisador de empresas"
   ]
  },
  {
   "cell_type": "markdown",
   "metadata": {},
   "source": [
    "Tem como objetivo extrair informações relacionadas as empresas de uma determinada região e sua classificação no Google Meu Negócio e Facebook, se houver mídia relacionada."
   ]
  },
  {
   "cell_type": "code",
   "execution_count": 1,
   "metadata": {},
   "outputs": [
    {
     "name": "stdout",
     "output_type": "stream",
     "text": [
      "Collecting unidecode\n",
      "\u001b[?25l  Downloading https://files.pythonhosted.org/packages/d0/42/d9edfed04228bacea2d824904cae367ee9efd05e6cce7ceaaedd0b0ad964/Unidecode-1.1.1-py2.py3-none-any.whl (238kB)\n",
      "\u001b[K     |████████████████████████████████| 245kB 2.1MB/s eta 0:00:01\n",
      "\u001b[?25hInstalling collected packages: unidecode\n",
      "Successfully installed unidecode-1.1.1\n"
     ]
    }
   ],
   "source": [
    "!pip install unidecode # Instalação do pacote unidecode"
   ]
  },
  {
   "cell_type": "code",
   "execution_count": 2,
   "metadata": {},
   "outputs": [],
   "source": [
    "from urllib.request import urlopen\n",
    "from bs4 import BeautifulSoup\n",
    "from unidecode import unidecode\n",
    "import re"
   ]
  },
  {
   "cell_type": "code",
   "execution_count": 3,
   "metadata": {},
   "outputs": [],
   "source": [
    "def getGuiaFacilCategories():\n",
    "    print('\\nGetGuiaFacilCategories started...\\n')\n",
    "    site = 'https://www.guiafacil.com/'\n",
    "    print('Opening {}...'.format(site))\n",
    "    html = urlopen(site)\n",
    "    print('Parsing content...')\n",
    "    bs = BeautifulSoup(html.read(),'html.parser')\n",
    "    print('Find all categories...')\n",
    "    divQuickleSearch = bs.find('div', { 'id': 'busca_rapida'})\n",
    "    categories = divQuickleSearch.findAll('a', href=re.compile('^(?!http)(.)*$'))\n",
    "    formattedCategories = []\n",
    "    for category in categories:\n",
    "        formattedCategories.append(unidecode(category['title'].lower().replace(' ', '-')))\n",
    "    print('Categories found {}'.format(formattedCategories))\n",
    "    print('\\nGetGuiaFacilCategories finished...\\n')\n",
    "    return formattedCategories"
   ]
  },
  {
   "cell_type": "code",
   "execution_count": 4,
   "metadata": {},
   "outputs": [],
   "source": [
    "def getCategoryPage(url, city, state):\n",
    "    page = 'https://www.guiafacil.com/titulo/{}/{}/{}/'.format(url, city, state)\n",
    "    try:\n",
    "        html = urlopen(page)\n",
    "        bs = BeautifulSoup(html.read(),'html.parser')\n",
    "        divResults = bs.find('div', { 'id': 'resultados'})\n",
    "    except Exception:\n",
    "        divResults = 'Page {} not found!'.format(page)\n",
    "    return divResults"
   ]
  },
  {
   "cell_type": "code",
   "execution_count": null,
   "metadata": {},
   "outputs": [
    {
     "name": "stdout",
     "output_type": "stream",
     "text": [
      "\n",
      "GetGuiaFacilCategories started...\n",
      "\n",
      "Opening https://www.guiafacil.com/...\n",
      "Parsing content...\n"
     ]
    },
    {
     "name": "stderr",
     "output_type": "stream",
     "text": [
      "Some characters could not be decoded, and were replaced with REPLACEMENT CHARACTER.\n"
     ]
    },
    {
     "name": "stdout",
     "output_type": "stream",
     "text": [
      "Find all categories...\n",
      "Categories found ['pizzarias', 'restaurantes', 'lanches', 'churrascaria', 'concessionarias', 'oficinas', 'autopecas', 'motos', 'materiais-de-construcao', 'moveis-sob-medida', 'arquitetos', 'marmores-e-granitos', 'clinicas-de-estetica', 'farmacias', 'hospitais', 'dentistas', 'eletricistas', 'serralheiros', 'fretes', 'informatica', 'supermercados', 'pet-shops', 'papelarias', 'imobiliarias']\n",
      "\n",
      "GetGuiaFacilCategories finished...\n",
      "\n"
     ]
    }
   ],
   "source": [
    "categories = getGuiaFacilCategories()\n",
    "for category in categories:\n",
    "    print(getCategoryPage(category, 'joinville', 'santa-catarina'))"
   ]
  },
  {
   "cell_type": "code",
   "execution_count": null,
   "metadata": {},
   "outputs": [],
   "source": []
  }
 ],
 "metadata": {
  "kernelspec": {
   "display_name": "Python 3",
   "language": "python",
   "name": "python3"
  },
  "language_info": {
   "codemirror_mode": {
    "name": "ipython",
    "version": 3
   },
   "file_extension": ".py",
   "mimetype": "text/x-python",
   "name": "python",
   "nbconvert_exporter": "python",
   "pygments_lexer": "ipython3",
   "version": "3.7.4"
  }
 },
 "nbformat": 4,
 "nbformat_minor": 2
}