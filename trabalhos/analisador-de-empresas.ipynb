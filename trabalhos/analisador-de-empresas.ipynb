{
 "cells": [
  {
   "cell_type": "markdown",
   "metadata": {},
   "source": [
    "# Analisador de empresas"
   ]
  },
  {
   "cell_type": "markdown",
   "metadata": {},
   "source": [
    "Tem como objetivo extrair informações relacionadas as empresas de uma determinada região e sua classificação no Google Meu Negócio e Facebook, se houver mídia relacionada."
   ]
  },
  {
   "cell_type": "markdown",
   "execution_count": 68,
   "metadata": {},
   "outputs": [],
   "source": [
    "```sql\n",
    "CREATE TABLE empresa (\n",
    "    id              VARCHAR(36)   NOT NULL,\n",
    "    nome            VARCHAR(255)  NOT NULL,\n",
    "    atividade       VARCHAR(255),\n",
    "    pessoaJuridica  BOOLEAN,\n",
    "    emailCliente    VARCHAR(255),\n",
    "    cep             VARCHAR(20) ,\n",
    "    cidade          VARCHAR(255),\n",
    "    estado          VARCHAR(255),\n",
    "    bairro          VARCHAR(255),\n",
    "    uf              VARCHAR(5)  ,\n",
    "    avaliacaoGoogle VARCHAR(255),\n",
    "    PRIMARY KEY (id)\n",
    ");\n",
    "\n",
    "CREATE TABLE empresa_telefone (\n",
    "    id                VARCHAR(36) NOT NULL,\n",
    "    id_empresa        VARCHAR(36) NOT NULL,\n",
    "    ddd               VARCHAR(5),\n",
    "    telefone          VARCHAR(50) NOT NULL,\n",
    "    telefoneCompleto  VARCHAR(100),\n",
    "    whatsapp          BOOLEAN,\n",
    "    telefone0800      BOOLEAN,\n",
    "    PRIMARY KEY (id)\n",
    ");\n",
    "\n",
    "CREATE TABLE empresa_endereco (\n",
    "    id         VARCHAR(36)  NOT NULL,\n",
    "    id_empresa VARCHAR(36)  NOT NULL,\n",
    "    endereco   VARCHAR(255) NOT NULL,\n",
    "    PRIMARY KEY (id)\n",
    ");\n",
    "```"
   ]
  },
  {
   "cell_type": "code",
   "execution_count": 48,
   "metadata": {},
   "outputs": [
    {
     "name": "stdout",
     "output_type": "stream",
     "text": "Requirement already satisfied: requests in /home/guiebitt/Workstation/Tools/anaconda3/lib/python3.7/site-packages (2.22.0)\nRequirement already satisfied: idna<2.9,>=2.5 in /home/guiebitt/Workstation/Tools/anaconda3/lib/python3.7/site-packages (from requests) (2.8)\nRequirement already satisfied: certifi>=2017.4.17 in /home/guiebitt/Workstation/Tools/anaconda3/lib/python3.7/site-packages (from requests) (2019.9.11)\nRequirement already satisfied: urllib3!=1.25.0,!=1.25.1,<1.26,>=1.21.1 in /home/guiebitt/Workstation/Tools/anaconda3/lib/python3.7/site-packages (from requests) (1.24.2)\nRequirement already satisfied: chardet<3.1.0,>=3.0.2 in /home/guiebitt/Workstation/Tools/anaconda3/lib/python3.7/site-packages (from requests) (3.0.4)\n"
    }
   ],
   "source": [
    "!pip install requests"
   ]
  },
  {
   "cell_type": "code",
   "execution_count": 49,
   "metadata": {},
   "outputs": [
    {
     "name": "stdout",
     "output_type": "stream",
     "text": "Requirement already satisfied: psycopg2-binary in /home/guiebitt/Workstation/Tools/anaconda3/lib/python3.7/site-packages (2.8.4)\n"
    }
   ],
   "source": [
    "!pip install psycopg2-binary"
   ]
  },
  {
   "cell_type": "code",
   "execution_count": 50,
   "metadata": {},
   "outputs": [
    {
     "name": "stdout",
     "output_type": "stream",
     "text": "Requirement already satisfied: selenium in /home/guiebitt/Workstation/Tools/anaconda3/lib/python3.7/site-packages (3.141.0)\nRequirement already satisfied: urllib3 in /home/guiebitt/Workstation/Tools/anaconda3/lib/python3.7/site-packages (from selenium) (1.24.2)\nRequirement already satisfied: chromedriver-binary in /home/guiebitt/Workstation/Tools/anaconda3/lib/python3.7/site-packages (79.0.3945.16.0)\n"
    }
   ],
   "source": [
    "!pip install selenium\n",
    "!pip install chromedriver-binary"
   ]
  },
  {
   "cell_type": "code",
   "execution_count": 51,
   "metadata": {},
   "outputs": [],
   "source": [
    "DEBUG = True\n",
    "\n",
    "def LOG(funcao, mensagem, pulaLinhaAntes = False, pulaLinhaDepois = False):\n",
    "    if DEBUG == True:\n",
    "        if pulaLinhaAntes:\n",
    "            print('\\n');\n",
    "        print('[{}] => {}'.format(funcao, mensagem))\n",
    "        if pulaLinhaDepois:\n",
    "            print('\\n');"
   ]
  },
  {
   "cell_type": "code",
   "execution_count": 52,
   "metadata": {},
   "outputs": [],
   "source": [
    "from urllib.request import urlopen\n",
    "from bs4 import BeautifulSoup\n",
    "from selenium import webdriver\n",
    "from selenium.webdriver.chrome.service import Service\n",
    "from selenium.webdriver.chrome.options import Options\n",
    "from selenium.webdriver.common.by import By\n",
    "import chromedriver_binary\n",
    "import json\n",
    "import psycopg2\n",
    "import uuid\n",
    "import urllib.parse\n",
    "import requests\n",
    "import re\n",
    "import time"
   ]
  },
  {
   "cell_type": "code",
   "execution_count": 53,
   "metadata": {},
   "outputs": [],
   "source": [
    "def buscaAvaliacaoEmpresaNoGoogle(nomeEmpresa):\n",
    "\n",
    "    LOG('buscaAvaliacaoEmpresaNoGoogle', 'Iniciado')\n",
    "\n",
    "    site = 'https://www.google.com/search?q={}'.format(urllib.parse.quote(nomeEmpresa))\n",
    "\n",
    "    LOG('buscaAvaliacaoEmpresaNoGoogle', 'Buscar empresa no google: {}'.format(site))\n",
    "\n",
    "    avaliacao = ''\n",
    "    try:\n",
    "        options = Options()\n",
    "        options.add_argument(\"--headless\")\n",
    "        options.add_argument('--no-sandbox')\n",
    "        options.add_argument('--disable-gpu')\n",
    "        options.add_argument('start-maximized')  \n",
    "        options.add_argument('disable-infobars')\n",
    "        options.add_argument(\"--disable-extensions\")\n",
    "        service = Service('/home/guiebitt/Workstation/Tools/Webdrivers/chromedriver')\n",
    "        service.start()\n",
    "        driver = webdriver.Remote(service.service_url, options = options)\n",
    "        driver.get(site);\n",
    "        element = driver.find_element(By.CSS_SELECTOR, \".Aq14fc\")\n",
    "        avaliacao = element.text\n",
    "        driver.quit()\n",
    "    except:\n",
    "        avaliacao = ''\n",
    "\n",
    "    LOG('buscaAvaliacaoEmpresaNoGoogle', 'Finalizado')\n",
    "\n",
    "    return avaliacao"
   ]
  },
  {
   "cell_type": "code",
   "execution_count": 54,
   "metadata": {},
   "outputs": [],
   "source": [
    "def existeEmpresaComNome(cursor, nome):\n",
    "\n",
    "    LOG('existeEmpresaComNome', 'Iniciado')\n",
    "\n",
    "    cursor.execute(\"SELECT 1 FROM empresa WHERE nome = '{}'\".format(nome.replace(\"'\", \"''\")))\n",
    "    resultado = cursor.fetchone()\n",
    "    existeEmpresa = False\n",
    "\n",
    "    if (resultado != None):\n",
    "        existeEmpresa = True\n",
    "\n",
    "    LOG('existeEmpresaComNome', 'Existe empresa? {}'.format(existeEmpresa))\n",
    "    LOG('existeEmpresaComNome', 'Finalizado')\n",
    "\n",
    "    return existeEmpresa"
   ]
  },
  {
   "cell_type": "code",
   "execution_count": 55,
   "metadata": {},
   "outputs": [],
   "source": [
    "def inserirTelefonesEmpresa(conexao, cursor, empresaId, telefones):\n",
    "    \n",
    "    LOG('inserirTelefonesEmpresa', 'Iniciado')\n",
    "\n",
    "    for telefone in telefones:\n",
    "        \n",
    "        idTelefone = uuid.uuid4()\n",
    "        \n",
    "        LOG('inserirTelefonesEmpresa', 'UUID do registro: {}'.format(str(idTelefone)))\n",
    "        \n",
    "        whatsapp = False\n",
    "        if telefone['whatsapp'] == 'true':\n",
    "            whatsapp = True\n",
    "        \n",
    "        telefone0800 = False\n",
    "        if telefone['telefone0800'] == 'true':\n",
    "            telefone0800 = True\n",
    "\n",
    "        cursor.execute(\"INSERT INTO empresa_telefone (id, id_empresa, ddd, telefone, telefoneCompleto, whatsapp, telefone0800) VALUES (%s, %s, %s, %s, %s, %s, %s)\",(str(idTelefone), str(empresaId), telefone['ddd'], telefone['telefone'], telefone['telefoneCompleto'], whatsapp, telefone0800))\n",
    "        conexao.commit()\n",
    "\n",
    "    LOG('inserirTelefonesEmpresa', 'Finalizado')\n",
    "\n",
    "    return"
   ]
  },
  {
   "cell_type": "code",
   "execution_count": 56,
   "metadata": {},
   "outputs": [],
   "source": [
    "def inserirEnderecosEmpresa(conexao, cursor, empresaId, enderecos):\n",
    "\n",
    "    LOG('inserirEnderecosEmpresa', 'Iniciado')\n",
    "\n",
    "    for endereco in enderecos:\n",
    "        \n",
    "        idEndereco = uuid.uuid4()\n",
    "        \n",
    "        LOG('inserirEnderecosEmpresa', 'UUID do registro: {}'.format(str(idEndereco)))\n",
    "\n",
    "        cursor.execute(\"INSERT INTO empresa_endereco (id, id_empresa, endereco) VALUES (%s, %s, %s)\",(str(idEndereco), str(empresaId), endereco))\n",
    "        conexao.commit()\n",
    "\n",
    "    LOG('inserirEnderecosEmpresa', 'Finalizado')\n",
    "\n",
    "    return"
   ]
  },
  {
   "cell_type": "code",
   "execution_count": 57,
   "metadata": {},
   "outputs": [],
   "source": [
    "def inserirEmpresa(conexao, cursor, empresa):\n",
    "\n",
    "    LOG('inserirEmpresa', 'Iniciado')\n",
    "\n",
    "    pessoaJuridica = empresa['pessoaJuridica']\n",
    "    if pessoaJuridica == False:\n",
    "        LOG('inserirEmpresa', 'Pessoa fisica: {} nao inserida'.format(empresa['nome']))\n",
    "        LOG('inserirEmpresa', 'Finalizado')\n",
    "        return\n",
    "\n",
    "    if (existeEmpresaComNome(cursor, empresa['nome']) == False):\n",
    "        \n",
    "        avaliacao = buscaAvaliacaoEmpresaNoGoogle('{}, {}'.format(empresa['nome'], empresa['cidade']))\n",
    "\n",
    "        idEmpresa = uuid.uuid4()\n",
    "        \n",
    "        LOG('inserirEmpresa', 'UUID do registro: {}'.format(str(idEmpresa)))\n",
    "        \n",
    "        cursor.execute(\"INSERT INTO empresa (id, nome, atividade, emailCliente, cep, cidade, estado, bairro, uf, pessoaJuridica, avaliacaoGoogle) VALUES (%s, %s, %s, %s, %s, %s, %s, %s, %s, %s, %s)\",(str(idEmpresa), empresa['nome'], empresa['atividade'], empresa['emailCliente'], empresa['cep'], empresa['cidade'], empresa['estado'], empresa['bairro'], empresa['uf'], pessoaJuridica, avaliacao))\n",
    "        conexao.commit()\n",
    "\n",
    "        inserirTelefonesEmpresa(conexao, cursor, idEmpresa, empresa['telefones'])\n",
    "        inserirEnderecosEmpresa(conexao, cursor, idEmpresa, empresa['enderecos'])\n",
    "\n",
    "        LOG('inserirEmpresa', 'Registro inserido: {}'.format(empresa['nome']))\n",
    "\n",
    "    LOG('inserirEmpresa', 'Finalizado')\n",
    "\n",
    "    return"
   ]
  },
  {
   "cell_type": "code",
   "execution_count": 58,
   "metadata": {},
   "outputs": [],
   "source": [
    "def inserirEmpresas(empresas):\n",
    "\n",
    "    LOG('inserirEmpresas', 'Iniciado')\n",
    "\n",
    "    nomeBancoDados = 'COLETADEDADOS'\n",
    "    usuarioBancoDados = 'postgres'\n",
    "    senhaBancoDados = 'totvs@123'\n",
    "    hostBancoDados = 'localhost'\n",
    "\n",
    "    conexao = psycopg2.connect(dbname=nomeBancoDados, user=usuarioBancoDados, password=senhaBancoDados, host=hostBancoDados)\n",
    "    cursor = conexao.cursor()\n",
    "\n",
    "    LOG('inserirEmpresas', 'Conexao com banco de dados: {} efetuada'.format(nomeBancoDados))\n",
    "\n",
    "    for empresa in empresas:\n",
    "        inserirEmpresa(conexao, cursor, empresa)\n",
    "\n",
    "    cursor.close()\n",
    "    conexao.close()\n",
    "\n",
    "    LOG('inserirEmpresas', 'Conexao com banco de dados: {} finalizada'.format(nomeBancoDados))\n",
    "    LOG('inserirEmpresas', 'Finalizado')\n",
    "\n",
    "    return"
   ]
  },
  {
   "cell_type": "code",
   "execution_count": 59,
   "metadata": {},
   "outputs": [],
   "source": [
    "def buscarEmpresasDaPagina(categoria, cidade, estado, pagina):\n",
    "\n",
    "    LOG('buscarEmpresasDaPagina', 'Iniciado')\n",
    "\n",
    "    site = 'https://guiafacil.com/buscaAjax.php?busca={}&cidade={}&tipoBusca=segmento&estado={}&pagina={}'\n",
    "    site = site.format(categoria, cidade, estado, pagina)\n",
    "\n",
    "    LOG('buscarEmpresasDaPagina', 'Buscar: {}'.format(site))\n",
    "\n",
    "    conteudo = urlopen(site).read()\n",
    "    conteudoJson = json.loads(conteudo)\n",
    "    resultado = conteudoJson['resultados']\n",
    "\n",
    "    LOG('buscarEmpresasDaPagina', 'Quantidade de empresas da página: {}'.format(len(resultado)))\n",
    "    LOG('buscarEmpresasDaPagina', 'Finalizado')\n",
    "\n",
    "    return resultado"
   ]
  },
  {
   "cell_type": "code",
   "execution_count": 60,
   "metadata": {},
   "outputs": [],
   "source": [
    "def buscarEmpresas(categoria, cidade, estado):\n",
    "\n",
    "    LOG('buscarEmpresas', 'Iniciado')\n",
    "\n",
    "    pagina = 1\n",
    "    while(True):\n",
    "        resultadoPagina = buscarEmpresasDaPagina(categoria, cidade, estado, pagina)\n",
    "        if (len(resultadoPagina) == 0):\n",
    "            break\n",
    "\n",
    "        inserirEmpresas(resultadoPagina)\n",
    "        pagina += 1\n",
    "\n",
    "    LOG('buscarEmpresas', 'Finalizado')\n",
    "\n",
    "    return"
   ]
  },
  {
   "cell_type": "code",
   "execution_count": 61,
   "metadata": {},
   "outputs": [
    {
     "name": "stdout",
     "output_type": "stream",
     "text": "rirEmpresa] => Registro inserido: POÇOS ARTESIANOS E SEMI-ARTESIANOS NASATTO\n[inserirEmpresa] => Finalizado\n[inserirEmpresa] => Iniciado\n[existeEmpresaComNome] => Iniciado\n[existeEmpresaComNome] => Existe empresa? True\n[existeEmpresaComNome] => Finalizado\n[inserirEmpresa] => Finalizado\n[inserirEmpresa] => Iniciado\n[existeEmpresaComNome] => Iniciado\n[existeEmpresaComNome] => Existe empresa? False\n[existeEmpresaComNome] => Finalizado\n[buscaAvaliacaoEmpresaNoGoogle] => Iniciado\n[buscaAvaliacaoEmpresaNoGoogle] => Buscar empresa no google: https://www.google.com/search?q=SV%20METAIS%2C%20Joinville\n[buscaAvaliacaoEmpresaNoGoogle] => Finalizado\n[inserirEmpresa] => UUID do registro: d0a07cc9-d2c7-4466-a09b-7b8622d191a5\n[inserirTelefonesEmpresa] => Iniciado\n[inserirTelefonesEmpresa] => UUID do registro: 6ee8fd96-35aa-4ddd-bdf6-f808818ed469\n[inserirTelefonesEmpresa] => UUID do registro: ab88fb46-a977-4611-970a-2433bcb07f37\n[inserirTelefonesEmpresa] => Finalizado\n[inserirEnderecosEmpresa] => Iniciado\n[inserirEnderecosEmpresa] => UUID do registro: e28e62f6-23d4-416a-99f4-1219977cd3a2\n[inserirEnderecosEmpresa] => Finalizado\n[inserirEmpresa] => Registro inserido: SV METAIS\n[inserirEmpresa] => Finalizado\n[inserirEmpresa] => Iniciado\n[existeEmpresaComNome] => Iniciado\n[existeEmpresaComNome] => Existe empresa? True\n[existeEmpresaComNome] => Finalizado\n[inserirEmpresa] => Finalizado\n[inserirEmpresa] => Iniciado\n[existeEmpresaComNome] => Iniciado\n[existeEmpresaComNome] => Existe empresa? False\n[existeEmpresaComNome] => Finalizado\n[buscaAvaliacaoEmpresaNoGoogle] => Iniciado\n[buscaAvaliacaoEmpresaNoGoogle] => Buscar empresa no google: https://www.google.com/search?q=BERG%20PINTURAS%2C%20Joinville\n[buscaAvaliacaoEmpresaNoGoogle] => Finalizado\n[inserirEmpresa] => UUID do registro: b0ef0a1a-48f7-46ba-8389-0f716954f360\n[inserirTelefonesEmpresa] => Iniciado\n[inserirTelefonesEmpresa] => UUID do registro: 640b3b4d-9f0d-4e61-8fad-81df85fde07a\n[inserirTelefonesEmpresa] => UUID do registro: 37539064-ab09-40ac-a916-82656a7898ab\n[inserirTelefonesEmpresa] => UUID do registro: 82975138-77c2-478b-a64d-6fb3004c00f3\n[inserirTelefonesEmpresa] => UUID do registro: 3487f635-a590-4c47-89ff-d3c9f0028f3c\n[inserirTelefonesEmpresa] => Finalizado\n[inserirEnderecosEmpresa] => Iniciado\n[inserirEnderecosEmpresa] => UUID do registro: 2c543842-092e-430c-9683-945a69b086a3\n[inserirEnderecosEmpresa] => Finalizado\n[inserirEmpresa] => Registro inserido: BERG PINTURAS\n[inserirEmpresa] => Finalizado\n[inserirEmpresas] => Conexao com banco de dados: COLETADEDADOS finalizada\n[inserirEmpresas] => Finalizado\n[buscarEmpresasDaPagina] => Iniciado\n[buscarEmpresasDaPagina] => Buscar: https://guiafacil.com/buscaAjax.php?busca=&cidade=joinville&tipoBusca=segmento&estado=santa-catarina&pagina=15\n[buscarEmpresasDaPagina] => Quantidade de empresas da página: 20\n[buscarEmpresasDaPagina] => Finalizado\n[inserirEmpresas] => Iniciado\n[inserirEmpresas] => Conexao com banco de dados: COLETADEDADOS efetuada\n[inserirEmpresa] => Iniciado\n[existeEmpresaComNome] => Iniciado\n[existeEmpresaComNome] => Existe empresa? False\n[existeEmpresaComNome] => Finalizado\n[buscaAvaliacaoEmpresaNoGoogle] => Iniciado\n[buscaAvaliacaoEmpresaNoGoogle] => Buscar empresa no google: https://www.google.com/search?q=PONTO%20DE%20T%C3%81XI%20JO%C3%83O%20COLIN%2C%20Joinville\n[buscaAvaliacaoEmpresaNoGoogle] => Finalizado\n[inserirEmpresa] => UUID do registro: 3752a137-66fd-41dc-8f25-add78f1a7887\n[inserirTelefonesEmpresa] => Iniciado\n[inserirTelefonesEmpresa] => UUID do registro: a1a83b2d-9adc-4787-a6f0-74cb6f7e5af5\n[inserirTelefonesEmpresa] => Finalizado\n[inserirEnderecosEmpresa] => Iniciado\n[inserirEnderecosEmpresa] => UUID do registro: d7642ee3-9d49-4016-a037-f3ba5bea30e6\n[inserirEnderecosEmpresa] => UUID do registro: 0656da70-da9a-4757-9364-b331d2f5f5b7\n[inserirEnderecosEmpresa] => Finalizado\n[inserirEmpresa] => Registro inserido: PONTO DE TÁXI JOÃO COLIN\n[inserirEmpresa] => Finalizado\n[inserirEmpresa] => Iniciado\n[existeEmpresaComNome] => Iniciado\n[existeEmpresaComNome] => Existe empresa? False\n[existeEmpresaComNome] => Finalizado\n[buscaAvaliacaoEmpresaNoGoogle] => Iniciado\n[buscaAvaliacaoEmpresaNoGoogle] => Buscar empresa no google: https://www.google.com/search?q=SERGIO%20JOS%C3%89%20SIMAS%20OAB/SC%2023752%2C%20Joinville\n[buscaAvaliacaoEmpresaNoGoogle] => Finalizado\n[inserirEmpresa] => UUID do registro: 63a71a10-4feb-4614-84c3-2807c23bcdf2\n[inserirTelefonesEmpresa] => Iniciado\n[inserirTelefonesEmpresa] => UUID do registro: 8732e1d5-6d1c-489a-baba-9e7e2f6408e8\n[inserirTelefonesEmpresa] => UUID do registro: aae269d5-4e0a-449b-ba4c-e7333bb3716e\n[inserirTelefonesEmpresa] => UUID do registro: 39f7f4f6-e255-47c0-a889-dba16f96f79b\n[inserirTelefonesEmpresa] => Finalizado\n[inserirEnderecosEmpresa] => Iniciado\n[inserirEnderecosEmpresa] => UUID do registro: efc3392a-569a-4c90-a926-a751c47b05a2\n[inserirEnderecosEmpresa] => Finalizado\n[inserirEmpresa] => Registro inserido: SERGIO JOSÉ SIMAS OAB/SC 23752\n[inserirEmpresa] => Finalizado\n[inserirEmpresa] => Iniciado\n[existeEmpresaComNome] => Iniciado\n[existeEmpresaComNome] => Existe empresa? False\n[existeEmpresaComNome] => Finalizado\n[buscaAvaliacaoEmpresaNoGoogle] => Iniciado\n[buscaAvaliacaoEmpresaNoGoogle] => Buscar empresa no google: https://www.google.com/search?q=SABORES%20DA%20TERRA%20PRODUTOS%20NATURAIS%2C%20Joinville\n[buscaAvaliacaoEmpresaNoGoogle] => Finalizado\n[inserirEmpresa] => UUID do registro: f903bc2d-fe28-4471-ad3a-493bbd36c95b\n[inserirTelefonesEmpresa] => Iniciado\n[inserirTelefonesEmpresa] => UUID do registro: 2ca58a66-adea-42a5-b4c9-01e79a7888c7\n[inserirTelefonesEmpresa] => Finalizado\n[inserirEnderecosEmpresa] => Iniciado\n[inserirEnderecosEmpresa] => UUID do registro: c355e954-60f2-4c9e-b108-14255da4ff4d\n[inserirEnderecosEmpresa] => Finalizado\n[inserirEmpresa] => Registro inserido: SABORES DA TERRA PRODUTOS NATURAIS\n[inserirEmpresa] => Finalizado\n[inserirEmpresa] => Iniciado\n[existeEmpresaComNome] => Iniciado\n[existeEmpresaComNome] => Existe empresa? True\n[existeEmpresaComNome] => Finalizado\n[inserirEmpresa] => Finalizado\n[inserirEmpresa] => Iniciado\n[existeEmpresaComNome] => Iniciado\n[existeEmpresaComNome] => Existe empresa? False\n[existeEmpresaComNome] => Finalizado\n[buscaAvaliacaoEmpresaNoGoogle] => Iniciado\n[buscaAvaliacaoEmpresaNoGoogle] => Buscar empresa no google: https://www.google.com/search?q=MASTER%20PET%20SHOP%2C%20Joinville\n[buscaAvaliacaoEmpresaNoGoogle] => Finalizado\n[inserirEmpresa] => UUID do registro: af86cffd-d946-475c-959d-cee55e0b9fe5\n[inserirTelefonesEmpresa] => Iniciado\n[inserirTelefonesEmpresa] => UUID do registro: 79e03ec6-f024-4e89-918d-252bf02385db\n[inserirTelefonesEmpresa] => UUID do registro: 4230b85a-3edd-49d9-af91-36f91981a0ad\n[inserirTelefonesEmpresa] => UUID do registro: 4c16f557-5745-4d48-bbc2-6b25a561d645\n[inserirTelefonesEmpresa] => Finalizado\n[inserirEnderecosEmpresa] => Iniciado\n[inserirEnderecosEmpresa] => UUID do registro: dbd3f50a-7546-4705-a0ce-dd5fda855789\n[inserirEnderecosEmpresa] => Finalizado\n[inserirEmpresa] => Registro inserido: MASTER PET SHOP\n[inserirEmpresa] => Finalizado\n[inserirEmpresa] => Iniciado\n[existeEmpresaComNome] => Iniciado\n[existeEmpresaComNome] => Existe empresa? True\n[existeEmpresaComNome] => Finalizado\n[inserirEmpresa] => Finalizado\n[inserirEmpresa] => Iniciado\n[existeEmpresaComNome] => Iniciado\n[existeEmpresaComNome] => Existe empresa? False\n[existeEmpresaComNome] => Finalizado\n[buscaAvaliacaoEmpresaNoGoogle] => Iniciado\n[buscaAvaliacaoEmpresaNoGoogle] => Buscar empresa no google: https://www.google.com/search?q=PNEUPAR%20AUTO%20CENTER%2C%20Joinville\n[buscaAvaliacaoEmpresaNoGoogle] => Finalizado\n[inserirEmpresa] => UUID do registro: 89ca3d11-e38d-4968-a7f9-dfff2d80f357\n[inserirTelefonesEmpresa] => Iniciado\n[inserirTelefonesEmpresa] => UUID do registro: ab4c6ec8-9814-4dc3-9a15-660642f9e9b2\n[inserirTelefonesEmpresa] => UUID do registro: 3ff17a57-2a13-4c4b-8c13-f33749199371\n[inserirTelefonesEmpresa] => Finalizado\n[inserirEnderecosEmpresa] => Iniciado\n[inserirEnderecosEmpresa] => UUID do registro: 93714af6-4a69-45ee-8d7c-0e394f66592c\n[inserirEnderecosEmpresa] => Finalizado\n[inserirEmpresa] => Registro inserido: PNEUPAR AUTO CENTER\n[inserirEmpresa] => Finalizado\n[inserirEmpresa] => Iniciado\n[existeEmpresaComNome] => Iniciado\n[existeEmpresaComNome] => Existe empresa? False\n[existeEmpresaComNome] => Finalizado\n[buscaAvaliacaoEmpresaNoGoogle] => Iniciado\n[buscaAvaliacaoEmpresaNoGoogle] => Buscar empresa no google: https://www.google.com/search?q=LA%20VILLE%20LAVANDERIA%2C%20Joinville\n[buscaAvaliacaoEmpresaNoGoogle] => Finalizado\n[inserirEmpresa] => UUID do registro: e8a55b3b-05ae-41c0-9dcb-8f295d9ec334\n[inserirTelefonesEmpresa] => Iniciado\n[inserirTelefonesEmpresa] => UUID do registro: cc0d8b5a-7890-4335-8158-957987d0808d\n[inserirTelefonesEmpresa] => UUID do registro: 4f45bc9f-52f5-45d9-9439-5374798f2445\n[inserirTelefonesEmpresa] => Finalizado\n[inserirEnderecosEmpresa] => Iniciado\n[inserirEnderecosEmpresa] => UUID do registro: 5861c280-cd86-4c7c-a0e7-7bde4053587a\n[inserirEnderecosEmpresa] => Finalizado\n[inserirEmpresa] => Registro inserido: LA VILLE LAVANDERIA\n[inserirEmpresa] => Finalizado\n[inserirEmpresa] => Iniciado\n[existeEmpresaComNome] => Iniciado\n[existeEmpresaComNome] => Existe empresa? False\n[existeEmpresaComNome] => Finalizado\n[buscaAvaliacaoEmpresaNoGoogle] => Iniciado\n[buscaAvaliacaoEmpresaNoGoogle] => Buscar empresa no google: https://www.google.com/search?q=BRASIL%20TOLDOS%20E%20PERGOLADOS%2C%20Joinville\n[buscaAvaliacaoEmpresaNoGoogle] => Finalizado\n[inserirEmpresa] => UUID do registro: 7777f6ff-bc36-4f32-ae0e-35689b090d3c\n[inserirTelefonesEmpresa] => Iniciado\n[inserirTelefonesEmpresa] => UUID do registro: fe142e33-c8ef-43a7-ba6a-9b0f90ed4c1b\n[inserirTelefonesEmpresa] => Finalizado\n[inserirEnderecosEmpresa] => Iniciado\n[inserirEnderecosEmpresa] => UUID do registro: 30afe039-9388-4f5c-9401-0e272a1f7f47\n[inserirEnderecosEmpresa] => Finalizado\n[inserirEmpresa] => Registro inserido: BRASIL TOLDOS E PERGOLADOS\n[inserirEmpresa] => Finalizado\n[inserirEmpresa] => Iniciado\n[existeEmpresaComNome] => Iniciado\n[existeEmpresaComNome] => Existe empresa? False\n[existeEmpresaComNome] => Finalizado\n[buscaAvaliacaoEmpresaNoGoogle] => Iniciado\n[buscaAvaliacaoEmpresaNoGoogle] => Buscar empresa no google: https://www.google.com/search?q=ADECON%20CA%C3%87AMBAS%2C%20Joinville\n[buscaAvaliacaoEmpresaNoGoogle] => Finalizado\n[inserirEmpresa] => UUID do registro: dbc305ad-203a-4d4f-a6e4-3f768b707d3c\n[inserirTelefonesEmpresa] => Iniciado\n[inserirTelefonesEmpresa] => UUID do registro: ef490b2b-0c4b-4355-b32e-20b77be544c7\n[inserirTelefonesEmpresa] => Finalizado\n[inserirEnderecosEmpresa] => Iniciado\n[inserirEnderecosEmpresa] => UUID do registro: 2957f907-8358-4041-b156-cd8e0c84ec43\n[inserirEnderecosEmpresa] => Finalizado\n[inserirEmpresa] => Registro inserido: ADECON CAÇAMBAS\n[inserirEmpresa] => Finalizado\n[inserirEmpresa] => Iniciado\n[existeEmpresaComNome] => Iniciado\n[existeEmpresaComNome] => Existe empresa? False\n[existeEmpresaComNome] => Finalizado\n[buscaAvaliacaoEmpresaNoGoogle] => Iniciado\n[buscaAvaliacaoEmpresaNoGoogle] => Buscar empresa no google: https://www.google.com/search?q=CJM%20G%C3%81S%20NACIONAL%20G%C3%81S%2C%20Joinville\n[buscaAvaliacaoEmpresaNoGoogle] => Finalizado\n[inserirEmpresa] => UUID do registro: ea917179-b2fd-4856-97b5-2933e441351f\n[inserirTelefonesEmpresa] => Iniciado\n[inserirTelefonesEmpresa] => UUID do registro: ecaeb4ea-6e18-436a-9df7-893be25be497\n[inserirTelefonesEmpresa] => UUID do registro: c1fca7fa-3436-45cc-bf7c-199e5dc4e896\n[inserirTelefonesEmpresa] => UUID do registro: 9884e3c5-60b9-4c44-ad4e-b65bec3abedd\n[inserirTelefonesEmpresa] => Finalizado\n[inserirEnderecosEmpresa] => Iniciado\n[inserirEnderecosEmpresa] => UUID do registro: fc9510e7-0c63-4398-a841-e701117e98d6\n[inserirEnderecosEmpresa] => Finalizado\n[inserirEmpresa] => Registro inserido: CJM GÁS NACIONAL GÁS\n[inserirEmpresa] => Finalizado\n[inserirEmpresa] => Iniciado\n[existeEmpresaComNome] => Iniciado\n[existeEmpresaComNome] => Existe empresa? False\n[existeEmpresaComNome] => Finalizado\n[buscaAvaliacaoEmpresaNoGoogle] => Iniciado\n[buscaAvaliacaoEmpresaNoGoogle] => Buscar empresa no google: https://www.google.com/search?q=MADEIREIRA%20IMARU%C3%8D%2C%20Joinville\n[buscaAvaliacaoEmpresaNoGoogle] => Finalizado\n[inserirEmpresa] => UUID do registro: 0bd63df8-e5a8-4888-b7e6-c475748d0f55\n[inserirTelefonesEmpresa] => Iniciado\n[inserirTelefonesEmpresa] => UUID do registro: 889cf783-70ce-49f3-8ae2-03a415d174d7\n[inserirTelefonesEmpresa] => UUID do registro: be587393-c07a-4dea-b55c-81bca9fe49f1\n[inserirTelefonesEmpresa] => UUID do registro: e16d5ad6-00b5-45c7-9a2f-52328fe91c9e\n[inserirTelefonesEmpresa] => Finalizado\n[inserirEnderecosEmpresa] => Iniciado\n[inserirEnderecosEmpresa] => UUID do registro: 5af6b6bc-f548-4811-9ed2-09af42632e45\n[inserirEnderecosEmpresa] => Finalizado\n[inserirEmpresa] => Registro inserido: MADEIREIRA IMARUÍ\n[inserirEmpresa] => Finalizado\n[inserirEmpresa] => Iniciado\n[existeEmpresaComNome] => Iniciado\n[existeEmpresaComNome] => Existe empresa? False\n[existeEmpresaComNome] => Finalizado\n[buscaAvaliacaoEmpresaNoGoogle] => Iniciado\n[buscaAvaliacaoEmpresaNoGoogle] => Buscar empresa no google: https://www.google.com/search?q=ESPIRITUALISTA%20ATILIO%20PEDRO%2C%20Joinville\n[buscaAvaliacaoEmpresaNoGoogle] => Finalizado\n[inserirEmpresa] => UUID do registro: beb65560-afbb-487a-b5d4-2351c27e4221\n[inserirTelefonesEmpresa] => Iniciado\n[inserirTelefonesEmpresa] => UUID do registro: d9a5918a-d640-474a-a30d-760068d238a4\n[inserirTelefonesEmpresa] => UUID do registro: d9ed86c1-e604-4774-b2ff-945d5e4c56bf\n[inserirTelefonesEmpresa] => Finalizado\n[inserirEnderecosEmpresa] => Iniciado\n[inserirEnderecosEmpresa] => UUID do registro: 3cc2c853-26fd-44b6-a3d2-5897ea63498a\n[inserirEnderecosEmpresa] => Finalizado\n[inserirEmpresa] => Registro inserido: ESPIRITUALISTA ATILIO PEDRO\n[inserirEmpresa] => Finalizado\n[inserirEmpresa] => Iniciado\n[existeEmpresaComNome] => Iniciado\n[existeEmpresaComNome] => Existe empresa? False\n[existeEmpresaComNome] => Finalizado\n[buscaAvaliacaoEmpresaNoGoogle] => Iniciado\n[buscaAvaliacaoEmpresaNoGoogle] => Buscar empresa no google: https://www.google.com/search?q=PLOTAR%20COMUNICA%C3%87%C3%83O%20VISUAL%2C%20Joinville\n[buscaAvaliacaoEmpresaNoGoogle] => Finalizado\n[inserirEmpresa] => UUID do registro: e31660ea-fe80-4113-86ec-ac9ad65fd159\n[inserirTelefonesEmpresa] => Iniciado\n[inserirTelefonesEmpresa] => UUID do registro: e998241d-a93d-4a61-a18a-580c439ee2b0\n[inserirTelefonesEmpresa] => UUID do registro: 77c2a281-1ede-4407-a0f0-6561335adf05\n[inserirTelefonesEmpresa] => UUID do registro: 9ad6d784-f643-4aa2-a1ae-051c2c3aee10\n[inserirTelefonesEmpresa] => Finalizado\n[inserirEnderecosEmpresa] => Iniciado\n[inserirEnderecosEmpresa] => UUID do registro: 55bb4c18-5d91-4e08-baf6-38e574cd40c5\n[inserirEnderecosEmpresa] => Finalizado\n[inserirEmpresa] => Registro inserido: PLOTAR COMUNICAÇÃO VISUAL\n[inserirEmpresa] => Finalizado\n[inserirEmpresa] => Iniciado\n[existeEmpresaComNome] => Iniciado\n[existeEmpresaComNome] => Existe empresa? False\n[existeEmpresaComNome] => Finalizado\n[buscaAvaliacaoEmpresaNoGoogle] => Iniciado\n[buscaAvaliacaoEmpresaNoGoogle] => Buscar empresa no google: https://www.google.com/search?q=ESQUADRIAS%20CORADINI%2C%20Joinville\n[buscaAvaliacaoEmpresaNoGoogle] => Finalizado\n[inserirEmpresa] => UUID do registro: 9189d068-c32b-4ce6-8e87-06c9f77ad7c7\n[inserirTelefonesEmpresa] => Iniciado\n[inserirTelefonesEmpresa] => UUID do registro: 3931f060-73d6-4e2c-b0b1-2dcf26328297\n[inserirTelefonesEmpresa] => UUID do registro: 1d1c074a-1803-4608-8dde-7b6c41a2c0b3\n[inserirTelefonesEmpresa] => Finalizado\n[inserirEnderecosEmpresa] => Iniciado\n[inserirEnderecosEmpresa] => UUID do registro: 07acf3fd-8d7e-44a3-b14a-8ceb7ae55548\n[inserirEnderecosEmpresa] => Finalizado\n[inserirEmpresa] => Registro inserido: ESQUADRIAS CORADINI\n[inserirEmpresa] => Finalizado\n[inserirEmpresa] => Iniciado\n[existeEmpresaComNome] => Iniciado\n[existeEmpresaComNome] => Existe empresa? False\n[existeEmpresaComNome] => Finalizado\n[buscaAvaliacaoEmpresaNoGoogle] => Iniciado\n[buscaAvaliacaoEmpresaNoGoogle] => Buscar empresa no google: https://www.google.com/search?q=JARDINAGEM%20SHALOM%2C%20Joinville\n[buscaAvaliacaoEmpresaNoGoogle] => Finalizado\n[inserirEmpresa] => UUID do registro: 6f22dfbb-2737-4ef5-80a8-a97306cc8bdc\n[inserirTelefonesEmpresa] => Iniciado\n[inserirTelefonesEmpresa] => UUID do registro: 25c25fb7-7cfa-4cdd-bad8-f0908ac8010c\n[inserirTelefonesEmpresa] => UUID do registro: 063cbbca-43a9-4784-a356-d7517ca1234c\n[inserirTelefonesEmpresa] => Finalizado\n[inserirEnderecosEmpresa] => Iniciado\n[inserirEnderecosEmpresa] => UUID do registro: 071131f1-2dcb-4d81-881d-7ae85801fa6d\n[inserirEnderecosEmpresa] => Finalizado\n[inserirEmpresa] => Registro inserido: JARDINAGEM SHALOM\n[inserirEmpresa] => Finalizado\n[inserirEmpresa] => Iniciado\n[existeEmpresaComNome] => Iniciado\n[existeEmpresaComNome] => Existe empresa? False\n[existeEmpresaComNome] => Finalizado\n[buscaAvaliacaoEmpresaNoGoogle] => Iniciado\n[buscaAvaliacaoEmpresaNoGoogle] => Buscar empresa no google: https://www.google.com/search?q=REINKJET%2C%20Joinville\n[buscaAvaliacaoEmpresaNoGoogle] => Finalizado\n[inserirEmpresa] => UUID do registro: b33a7ebb-c1c2-4a08-b471-6b48b085f95b\n[inserirTelefonesEmpresa] => Iniciado\n[inserirTelefonesEmpresa] => UUID do registro: d1c01ed9-9654-4397-a2b1-f4b8ad83eb02\n[inserirTelefonesEmpresa] => UUID do registro: ea6590af-fe0c-4112-adcf-374afed313e3\n[inserirTelefonesEmpresa] => UUID do registro: 31a7ee27-bb86-4297-a96e-addccfb03861\n[inserirTelefonesEmpresa] => Finalizado\n[inserirEnderecosEmpresa] => Iniciado\n[inserirEnderecosEmpresa] => UUID do registro: d146a5ca-b2f0-4dd1-bd40-496993cc3dff\n[inserirEnderecosEmpresa] => Finalizado\n[inserirEmpresa] => Registro inserido: REINKJET\n[inserirEmpresa] => Finalizado\n[inserirEmpresa] => Iniciado\n[existeEmpresaComNome] => Iniciado\n[existeEmpresaComNome] => Existe empresa? False\n[existeEmpresaComNome] => Finalizado\n[buscaAvaliacaoEmpresaNoGoogle] => Iniciado\n[buscaAvaliacaoEmpresaNoGoogle] => Buscar empresa no google: https://www.google.com/search?q=CHOPPVILLE%2C%20Joinville\n[buscaAvaliacaoEmpresaNoGoogle] => Finalizado\n[inserirEmpresa] => UUID do registro: 19c92abc-75a5-40c5-9a1e-ec30ce1b617f\n[inserirTelefonesEmpresa] => Iniciado\n[inserirTelefonesEmpresa] => UUID do registro: 091860b8-0460-4121-92b6-2e08927afdb9\n[inserirTelefonesEmpresa] => UUID do registro: f2329914-a09c-485f-ae43-24b5eadf06e4\n[inserirTelefonesEmpresa] => Finalizado\n[inserirEnderecosEmpresa] => Iniciado\n[inserirEnderecosEmpresa] => UUID do registro: 33fa1426-91b8-4426-9b8f-5d480de70711\n[inserirEnderecosEmpresa] => Finalizado\n[inserirEmpresa] => Registro inserido: CHOPPVILLE\n[inserirEmpresa] => Finalizado\n[inserirEmpresa] => Iniciado\n[existeEmpresaComNome] => Iniciado\n[existeEmpresaComNome] => Existe empresa? False\n[existeEmpresaComNome] => Finalizado\n[buscaAvaliacaoEmpresaNoGoogle] => Iniciado\n[buscaAvaliacaoEmpresaNoGoogle] => Buscar empresa no google: https://www.google.com/search?q=GATITA%20PIJAMAS%2C%20Joinville\n[buscaAvaliacaoEmpresaNoGoogle] => Finalizado\n[inserirEmpresa] => UUID do registro: eba30936-b252-4414-8cc4-720b0c98b72a\n[inserirTelefonesEmpresa] => Iniciado\n[inserirTelefonesEmpresa] => UUID do registro: b07a2b5a-633c-4a41-9231-721353765a6b\n[inserirTelefonesEmpresa] => Finalizado\n[inserirEnderecosEmpresa] => Iniciado\n[inserirEnderecosEmpresa] => UUID do registro: 63149cbd-2e8b-42f5-a5f8-18c0e9e3999c\n[inserirEnderecosEmpresa] => Finalizado\n[inserirEmpresa] => Registro inserido: GATITA PIJAMAS\n[inserirEmpresa] => Finalizado\n[inserirEmpresa] => Iniciado\n[existeEmpresaComNome] => Iniciado\n[existeEmpresaComNome] => Existe empresa? False\n[existeEmpresaComNome] => Finalizado\n[buscaAvaliacaoEmpresaNoGoogle] => Iniciado\n[buscaAvaliacaoEmpresaNoGoogle] => Buscar empresa no google: https://www.google.com/search?q=FULIK%20LOCA%C3%87%C3%83O%20DE%20CA%C3%87AMBAS%20ESTACION%C3%81RIAS%2C%20Joinville\n"
    }
   ],
   "source": [
    "buscarEmpresas('', 'joinville', 'santa-catarina')"
   ]
  }
 ],
 "metadata": {
  "kernelspec": {
   "display_name": "Python 3",
   "language": "python",
   "name": "python3"
  },
  "language_info": {
   "codemirror_mode": {
    "name": "ipython",
    "version": 3
   },
   "file_extension": ".py",
   "mimetype": "text/x-python",
   "name": "python",
   "nbconvert_exporter": "python",
   "pygments_lexer": "ipython3",
   "version": "3.7.4"
  }
 },
 "nbformat": 4,
 "nbformat_minor": 2
}