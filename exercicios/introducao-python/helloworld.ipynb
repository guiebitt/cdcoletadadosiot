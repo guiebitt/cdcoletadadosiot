{
  "cells": [
    {
      "metadata": {
        "collapsed": true
      },
      "cell_type": "markdown",
      "source": "# Primeiro programa"
    },
    {
      "metadata": {},
      "cell_type": "markdown",
      "source": "Meu primeiro programa em Python"
    },
    {
      "metadata": {
        "trusted": true
      },
      "cell_type": "code",
      "source": "# Apresentação de valores\nprint(\"Hello World!!!\")",
      "execution_count": 5,
      "outputs": [
        {
          "output_type": "stream",
          "text": "Hello World!!!\n",
          "name": "stdout"
        }
      ]
    },
    {
      "metadata": {},
      "cell_type": "markdown",
      "source": "Programa que recebe dois números e apresenta a soma"
    },
    {
      "metadata": {
        "trusted": true
      },
      "cell_type": "code",
      "source": "# Criando variáveis\numnumero = 10\noutronumero = 20\nresultado = umnumero + outronumero\nprint(resultado)",
      "execution_count": 6,
      "outputs": [
        {
          "output_type": "stream",
          "text": "30\n",
          "name": "stdout"
        }
      ]
    },
    {
      "metadata": {
        "trusted": true
      },
      "cell_type": "code",
      "source": "# Conversão do dado informado pelo usuário para inteiro\numnumero = int(input(\"Informe um número: \"))",
      "execution_count": 7,
      "outputs": [
        {
          "output_type": "stream",
          "name": "stdout",
          "text": "Informe um número: 10\n"
        }
      ]
    },
    {
      "metadata": {
        "trusted": true
      },
      "cell_type": "code",
      "source": "# Observação: a multiplicação de um valor string tem por resultado a repetição do valor conforme múltiplo\nprint(umnumero * 10)",
      "execution_count": 8,
      "outputs": [
        {
          "output_type": "stream",
          "text": "100\n",
          "name": "stdout"
        }
      ]
    },
    {
      "metadata": {
        "trusted": true
      },
      "cell_type": "code",
      "source": "# Tipo para valores numéricos com casas decimais\nsalario = float(input(\"Informe seu salário: \"))",
      "execution_count": 9,
      "outputs": [
        {
          "output_type": "stream",
          "name": "stdout",
          "text": "Informe seu salário: 10\n"
        }
      ]
    },
    {
      "metadata": {
        "trusted": true
      },
      "cell_type": "code",
      "source": "# Identificar o tipo de uma variável\ntype(salario)",
      "execution_count": 10,
      "outputs": [
        {
          "output_type": "execute_result",
          "execution_count": 10,
          "data": {
            "text/plain": "float"
          },
          "metadata": {}
        }
      ]
    },
    {
      "metadata": {
        "trusted": true
      },
      "cell_type": "code",
      "source": "# Condição (Uso de : para indicar um bloco e tabulação para indicar o conteúdo do bloco)\nnumero = 11\nif numero > 10:\n    print(\"É maior que 10!\")\nif numero < 10:\n    print(\"É menor que 10!\")\nif numero == 10:\n    print(\"É igual a 10!\")\nprint(\"passa aqui...\")",
      "execution_count": 11,
      "outputs": [
        {
          "output_type": "stream",
          "text": "É maior que 10!\npassa aqui...\n",
          "name": "stdout"
        }
      ]
    },
    {
      "metadata": {
        "trusted": true
      },
      "cell_type": "code",
      "source": "numero = 11\nif numero > 10:\n    print(\"É maior que 10!\")\nelif numero == 10:\n    print(\"Igual a 10!\")\nelse:\n    print(\"É menor que 10!\") ",
      "execution_count": 12,
      "outputs": [
        {
          "output_type": "stream",
          "text": "É maior que 10!\n",
          "name": "stdout"
        }
      ]
    },
    {
      "metadata": {
        "trusted": true
      },
      "cell_type": "code",
      "source": "temp = 100\npress = 50\n\nif temp > 100 and press > 100:\n    print(\"Ta pegando fogo meu!\")",
      "execution_count": 13,
      "outputs": []
    },
    {
      "metadata": {
        "trusted": true
      },
      "cell_type": "code",
      "source": "import math\nmath.pow(10,2) # Potencia",
      "execution_count": 14,
      "outputs": [
        {
          "output_type": "execute_result",
          "execution_count": 14,
          "data": {
            "text/plain": "100.0"
          },
          "metadata": {}
        }
      ]
    },
    {
      "metadata": {
        "trusted": true
      },
      "cell_type": "code",
      "source": "contador = 0\nwhile(contador < 20):\n    contador = contador + 1\n    print(contador)\nprint(\"Acabou!!!\")",
      "execution_count": 15,
      "outputs": [
        {
          "output_type": "stream",
          "text": "1\n2\n3\n4\n5\n6\n7\n8\n9\n10\n11\n12\n13\n14\n15\n16\n17\n18\n19\n20\nAcabou!!!\n",
          "name": "stdout"
        }
      ]
    },
    {
      "metadata": {
        "trusted": true
      },
      "cell_type": "code",
      "source": "contador = 0\nwhile(True):\n    contador = contador + 1\n    print(contador)\n    if contador > 10:\n        break\nprint(\"Acabou!!!\")",
      "execution_count": 16,
      "outputs": [
        {
          "output_type": "stream",
          "text": "1\n2\n3\n4\n5\n6\n7\n8\n9\n10\n11\nAcabou!!!\n",
          "name": "stdout"
        }
      ]
    },
    {
      "metadata": {
        "trusted": true
      },
      "cell_type": "code",
      "source": "for i in range(10):\n    print(i)",
      "execution_count": 17,
      "outputs": [
        {
          "output_type": "stream",
          "text": "0\n1\n2\n3\n4\n5\n6\n7\n8\n9\n",
          "name": "stdout"
        }
      ]
    },
    {
      "metadata": {
        "trusted": true
      },
      "cell_type": "code",
      "source": "lista = [0] * 10\nprint(lista)\nlista[0] = 10\nprint(lista)\nlista.append(10) # Inclui uma nova posição\nprint(lista)",
      "execution_count": 18,
      "outputs": [
        {
          "output_type": "stream",
          "text": "[0, 0, 0, 0, 0, 0, 0, 0, 0, 0]\n[10, 0, 0, 0, 0, 0, 0, 0, 0, 0]\n[10, 0, 0, 0, 0, 0, 0, 0, 0, 0, 10]\n",
          "name": "stdout"
        }
      ]
    },
    {
      "metadata": {
        "trusted": true
      },
      "cell_type": "code",
      "source": "listadinamica = []\nlistadinamica.append(5)\nprint(listadinamica)\n",
      "execution_count": 19,
      "outputs": [
        {
          "output_type": "stream",
          "text": "[5]\n",
          "name": "stdout"
        }
      ]
    },
    {
      "metadata": {
        "trusted": true
      },
      "cell_type": "code",
      "source": "for i in lista:\n    print(i)",
      "execution_count": 20,
      "outputs": [
        {
          "output_type": "stream",
          "text": "10\n0\n0\n0\n0\n0\n0\n0\n0\n0\n10\n",
          "name": "stdout"
        }
      ]
    },
    {
      "metadata": {
        "trusted": true
      },
      "cell_type": "code",
      "source": "print(\"O tamanho da lista é:\", len(lista))",
      "execution_count": 25,
      "outputs": [
        {
          "output_type": "stream",
          "text": "O tamanho da lista é: 11\n",
          "name": "stdout"
        }
      ]
    },
    {
      "metadata": {
        "trusted": true
      },
      "cell_type": "code",
      "source": "copialista = lista[:]\nprint(copialista)",
      "execution_count": 27,
      "outputs": [
        {
          "output_type": "stream",
          "text": "[10, 0, 0, 0, 0, 0, 0, 0, 0, 0, 10]\n",
          "name": "stdout"
        }
      ]
    },
    {
      "metadata": {
        "trusted": true
      },
      "cell_type": "code",
      "source": "copialista2 = lista[5:]\nprint(copialista2)",
      "execution_count": 29,
      "outputs": [
        {
          "output_type": "stream",
          "text": "[0, 0, 0, 0, 0, 10]\n",
          "name": "stdout"
        }
      ]
    },
    {
      "metadata": {
        "trusted": true
      },
      "cell_type": "code",
      "source": "copialista3 = lista[:5]\nprint(copialista3)",
      "execution_count": 30,
      "outputs": [
        {
          "output_type": "stream",
          "text": "[10, 0, 0, 0, 0]\n",
          "name": "stdout"
        }
      ]
    },
    {
      "metadata": {
        "trusted": true
      },
      "cell_type": "code",
      "source": "texto = \"Guilherme Eduardo\"\nprint(texto[10:])",
      "execution_count": 34,
      "outputs": [
        {
          "output_type": "stream",
          "text": "Eduardo\n",
          "name": "stdout"
        }
      ]
    },
    {
      "metadata": {
        "trusted": true
      },
      "cell_type": "code",
      "source": "# Matriz\nmat = [[0] * 3 for i in range(3)]\n# mat = [[0] * 3] *  => Desta forma ele copia a referência e não cria uma nova posição em memória\nmat[1][1] = 10\nprint(mat)",
      "execution_count": 5,
      "outputs": [
        {
          "output_type": "stream",
          "text": "[[0, 0, 0], [0, 10, 0], [0, 0, 0]]\n",
          "name": "stdout"
        }
      ]
    },
    {
      "metadata": {
        "trusted": true
      },
      "cell_type": "code",
      "source": "for lin in range(len(mat)):\n    for col in range(len(mat[lin])):\n        print(mat[lin][col], end=\" \")\n    print()",
      "execution_count": 18,
      "outputs": [
        {
          "output_type": "stream",
          "text": "0 0 0 \n0 10 0 \n0 0 0 \n",
          "name": "stdout"
        }
      ]
    },
    {
      "metadata": {
        "trusted": true
      },
      "cell_type": "code",
      "source": "# Exemplo simples de função\ndef minhafuncao():\n    print(\"porque você não passa la...\")\nminhafuncao()",
      "execution_count": 22,
      "outputs": [
        {
          "output_type": "stream",
          "text": "porque você não passa la...\n",
          "name": "stdout"
        }
      ]
    },
    {
      "metadata": {
        "trusted": true
      },
      "cell_type": "code",
      "source": "# É possível retornar quantos valores desejar em uma função\ndef numerosdamegasena():\n    return \"4, 7, 22, 30, 8, 23\", True, 100.50\nguarda = numerosdamegasena()\nprint(guarda[2]) # desta forma você recupera em apenas uma variável e consegue acessar os retornos como um vetor\nguarda, guarda2, guarda3 = numerosdamegasena()\nprint(guarda, guarda2, guarda3)",
      "execution_count": 31,
      "outputs": [
        {
          "output_type": "stream",
          "text": "100.5\n4, 7, 22, 30, 8, 23 True 100.5\n",
          "name": "stdout"
        }
      ]
    },
    {
      "metadata": {
        "trusted": true
      },
      "cell_type": "code",
      "source": "def somanumeros(num1, num2):\n    result = num1 + num2\n    return result\nprint(somanumeros(10,20))",
      "execution_count": 26,
      "outputs": [
        {
          "output_type": "stream",
          "text": "30\n",
          "name": "stdout"
        }
      ]
    }
  ],
  "metadata": {
    "kernelspec": {
      "name": "python36",
      "display_name": "Python 3.6",
      "language": "python"
    },
    "language_info": {
      "mimetype": "text/x-python",
      "nbconvert_exporter": "python",
      "name": "python",
      "pygments_lexer": "ipython3",
      "version": "3.6.6",
      "file_extension": ".py",
      "codemirror_mode": {
        "version": 3,
        "name": "ipython"
      }
    }
  },
  "nbformat": 4,
  "nbformat_minor": 2
}