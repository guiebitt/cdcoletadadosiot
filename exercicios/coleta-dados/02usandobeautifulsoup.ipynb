{
  "cells": [
    {
      "metadata": {
        "collapsed": true
      },
      "cell_type": "markdown",
      "source": "# Lendo com o BeautifulSoup"
    },
    {
      "metadata": {},
      "cell_type": "markdown",
      "source": "* O BeautifulSoup é uma biblioteca para auxiliar na leitura do HTML"
    },
    {
      "metadata": {
        "trusted": true
      },
      "cell_type": "code",
      "source": "from urllib.request import urlopen\nfrom bs4 import BeautifulSoup\nhtml = urlopen('http://pythonscraping.com/pages/page1.html')\nbs = BeautifulSoup(html.read(), 'html.parser')",
      "execution_count": 17,
      "outputs": []
    },
    {
      "metadata": {
        "trusted": true
      },
      "cell_type": "code",
      "source": "print(bs.html.head.title)",
      "execution_count": 22,
      "outputs": [
        {
          "output_type": "stream",
          "text": "<title>A Useful Page</title>\n",
          "name": "stdout"
        }
      ]
    },
    {
      "metadata": {
        "trusted": true
      },
      "cell_type": "code",
      "source": "print(bs.html.body.h1.text)\nprint(bs.html.body.h1.get_text())\nprint(bs.html.body.h1.string)",
      "execution_count": 26,
      "outputs": [
        {
          "output_type": "stream",
          "text": "An Interesting Title\nAn Interesting Title\nAn Interesting Title\n",
          "name": "stdout"
        }
      ]
    },
    {
      "metadata": {
        "trusted": true
      },
      "cell_type": "code",
      "source": "print(bs.html.body.div)",
      "execution_count": 19,
      "outputs": [
        {
          "output_type": "stream",
          "text": "<div>\nLorem ipsum dolor sit amet, consectetur adipisicing elit, sed do eiusmod tempor incididunt ut labore et dolore magna aliqua. Ut enim ad minim veniam, quis nostrud exercitation ullamco laboris nisi ut aliquip ex ea commodo consequat. Duis aute irure dolor in reprehenderit in voluptate velit esse cillum dolore eu fugiat nulla pariatur. Excepteur sint occaecat cupidatat non proident, sunt in culpa qui officia deserunt mollit anim id est laborum.\n</div>\n",
          "name": "stdout"
        }
      ]
    },
    {
      "metadata": {
        "trusted": true
      },
      "cell_type": "code",
      "source": "",
      "execution_count": null,
      "outputs": []
    }
  ],
  "metadata": {
    "kernelspec": {
      "name": "python36",
      "display_name": "Python 3.6",
      "language": "python"
    },
    "language_info": {
      "mimetype": "text/x-python",
      "nbconvert_exporter": "python",
      "name": "python",
      "pygments_lexer": "ipython3",
      "version": "3.6.6",
      "file_extension": ".py",
      "codemirror_mode": {
        "version": 3,
        "name": "ipython"
      }
    }
  },
  "nbformat": 4,
  "nbformat_minor": 2
}