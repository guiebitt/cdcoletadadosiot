{
  "cells": [
    {
      "metadata": {
        "collapsed": true
      },
      "cell_type": "markdown",
      "source": "# Expressões regulares"
    },
    {
      "metadata": {
        "trusted": true
      },
      "cell_type": "code",
      "source": "from urllib.request import urlopen\nfrom bs4 import BeautifulSoup\nimport re\nhtml = urlopen('http://pythonscraping.com/pages/page3.html')\nbs = BeautifulSoup(html.read(), 'html.parser')",
      "execution_count": 5,
      "outputs": []
    },
    {
      "metadata": {
        "trusted": true
      },
      "cell_type": "code",
      "source": "listaImagens = bs.findAll('img', {'src': re.compile('\\.\\./img/gifts/img.*\\.jpg')})\nfor imagem in listaImagens:\n    print(imagem['src'])\n    print(imagem.get('src'))",
      "execution_count": 26,
      "outputs": [
        {
          "output_type": "stream",
          "text": "../img/gifts/img1.jpg\n../img/gifts/img1.jpg\n../img/gifts/img2.jpg\n../img/gifts/img2.jpg\n../img/gifts/img3.jpg\n../img/gifts/img3.jpg\n../img/gifts/img4.jpg\n../img/gifts/img4.jpg\n../img/gifts/img6.jpg\n../img/gifts/img6.jpg\n",
          "name": "stdout"
        }
      ]
    },
    {
      "metadata": {
        "trusted": true
      },
      "cell_type": "code",
      "source": "",
      "execution_count": null,
      "outputs": []
    }
  ],
  "metadata": {
    "kernelspec": {
      "name": "python36",
      "display_name": "Python 3.6",
      "language": "python"
    },
    "language_info": {
      "mimetype": "text/x-python",
      "nbconvert_exporter": "python",
      "name": "python",
      "pygments_lexer": "ipython3",
      "version": "3.6.6",
      "file_extension": ".py",
      "codemirror_mode": {
        "version": 3,
        "name": "ipython"
      }
    }
  },
  "nbformat": 4,
  "nbformat_minor": 2
}