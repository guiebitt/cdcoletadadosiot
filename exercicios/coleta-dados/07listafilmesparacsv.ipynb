{
  "cells": [
    {
      "metadata": {
        "collapsed": true
      },
      "cell_type": "markdown",
      "source": "# Lista de filmes para CSV"
    },
    {
      "metadata": {
        "trusted": true
      },
      "cell_type": "code",
      "source": "from urllib.request import urlopen\nfrom bs4 import BeautifulSoup\nimport re\nhtml = urlopen('https://www.imdb.com/chart/top?ref_=nv_mv_250')\nbs = BeautifulSoup(html.read(), 'html.parser')",
      "execution_count": 1,
      "outputs": []
    },
    {
      "metadata": {
        "trusted": true
      },
      "cell_type": "code",
      "source": "linhas = bs.find('tbody').findAll('tr')\n\narquivo = open('saidamdb.csv', 'w+')\nfor linha in linhas:\n    titulo = linha.find('td', { 'class': 'titleColumn'}).a.text\n    nota = linha.find('td', { 'class': 'ratingColumn'}).strong.text\n    arquivo.write(\"%s;%s\\n\" % (titulo, nota))\narquivo.close()",
      "execution_count": 42,
      "outputs": []
    },
    {
      "metadata": {
        "trusted": true
      },
      "cell_type": "code",
      "source": "",
      "execution_count": null,
      "outputs": []
    }
  ],
  "metadata": {
    "kernelspec": {
      "name": "python36",
      "display_name": "Python 3.6",
      "language": "python"
    },
    "language_info": {
      "mimetype": "text/x-python",
      "nbconvert_exporter": "python",
      "name": "python",
      "pygments_lexer": "ipython3",
      "version": "3.6.6",
      "file_extension": ".py",
      "codemirror_mode": {
        "version": 3,
        "name": "ipython"
      }
    }
  },
  "nbformat": 4,
  "nbformat_minor": 2
}