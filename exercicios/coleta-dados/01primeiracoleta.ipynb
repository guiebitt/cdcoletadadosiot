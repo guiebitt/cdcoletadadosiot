{
  "cells": [
    {
      "metadata": {
        "collapsed": true
      },
      "cell_type": "markdown",
      "source": "# Primeira coleta"
    },
    {
      "metadata": {},
      "cell_type": "markdown",
      "source": "* Para a importação de uma parte específica de uma biblioteca deve ser utilizado o `from` + nome da biblioteca `urllib.request` + de onde está a biblioteca `import urlopen`\n* A abertura da página é feita através da função `urlopen(<URL da página>)`\n* A leitura de um HTML deve ser feita através da função `read()`"
    },
    {
      "metadata": {
        "trusted": true
      },
      "cell_type": "code",
      "source": "from urllib.request import urlopen\nhtml = urlopen('http://pythonscraping.com/pages/page1.html')\nprint(html.read())",
      "execution_count": 9,
      "outputs": [
        {
          "output_type": "stream",
          "text": "b'<html>\\n<head>\\n<title>A Useful Page</title>\\n</head>\\n<body>\\n<h1>An Interesting Title</h1>\\n<div>\\nLorem ipsum dolor sit amet, consectetur adipisicing elit, sed do eiusmod tempor incididunt ut labore et dolore magna aliqua. Ut enim ad minim veniam, quis nostrud exercitation ullamco laboris nisi ut aliquip ex ea commodo consequat. Duis aute irure dolor in reprehenderit in voluptate velit esse cillum dolore eu fugiat nulla pariatur. Excepteur sint occaecat cupidatat non proident, sunt in culpa qui officia deserunt mollit anim id est laborum.\\n</div>\\n</body>\\n</html>\\n'\n",
          "name": "stdout"
        }
      ]
    }
  ],
  "metadata": {
    "kernelspec": {
      "name": "python36",
      "display_name": "Python 3.6",
      "language": "python"
    },
    "language_info": {
      "mimetype": "text/x-python",
      "nbconvert_exporter": "python",
      "name": "python",
      "pygments_lexer": "ipython3",
      "version": "3.6.6",
      "file_extension": ".py",
      "codemirror_mode": {
        "version": 3,
        "name": "ipython"
      }
    }
  },
  "nbformat": 4,
  "nbformat_minor": 2
}