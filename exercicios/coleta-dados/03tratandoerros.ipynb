{
  "cells": [
    {
      "metadata": {
        "collapsed": true
      },
      "cell_type": "markdown",
      "source": "# Tratando erros"
    },
    {
      "metadata": {
        "trusted": true
      },
      "cell_type": "code",
      "source": "from urllib.request import urlopen\nfrom urllib.error import HTTPError, URLError",
      "execution_count": 9,
      "outputs": [
        {
          "output_type": "stream",
          "text": "HTTP Error 503: Service Unavailable\n",
          "name": "stdout"
        }
      ]
    },
    {
      "metadata": {
        "trusted": true
      },
      "cell_type": "code",
      "source": "try:\n    html = urlopen('http://estapaginanaodeveexistir.com')\nexcept HTTPError as e:\n    print(e)\nelse:\n    print('Funcionou')",
      "execution_count": 14,
      "outputs": [
        {
          "output_type": "stream",
          "text": "HTTP Error 503: Service Unavailable\n",
          "name": "stdout"
        }
      ]
    },
    {
      "metadata": {
        "trusted": true
      },
      "cell_type": "code",
      "source": "try:\n    html = urlopen('http://googleerro.com')\nexcept Exception as e: # Exception é o mais genérico\n    print(e)\nelse:\n    print('Funcionou')",
      "execution_count": 12,
      "outputs": [
        {
          "output_type": "stream",
          "text": "HTTP Error 503: Service Unavailable\n",
          "name": "stdout"
        }
      ]
    },
    {
      "metadata": {
        "trusted": true
      },
      "cell_type": "code",
      "source": "try:\n    html = urlopen('http://google.com')\nexcept HTTPError as e:\n    print(e)\nelse:\n    print('Funcionou')",
      "execution_count": 13,
      "outputs": [
        {
          "output_type": "stream",
          "text": "Funcionou\n",
          "name": "stdout"
        }
      ]
    }
  ],
  "metadata": {
    "kernelspec": {
      "name": "python36",
      "display_name": "Python 3.6",
      "language": "python"
    },
    "language_info": {
      "mimetype": "text/x-python",
      "nbconvert_exporter": "python",
      "name": "python",
      "pygments_lexer": "ipython3",
      "version": "3.6.6",
      "file_extension": ".py",
      "codemirror_mode": {
        "version": 3,
        "name": "ipython"
      }
    }
  },
  "nbformat": 4,
  "nbformat_minor": 2
}