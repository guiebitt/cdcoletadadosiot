{
  "cells": [
    {
      "metadata": {
        "collapsed": true
      },
      "cell_type": "markdown",
      "source": "# Coleta de dados em CSV"
    },
    {
      "metadata": {
        "trusted": true
      },
      "cell_type": "code",
      "source": "from urllib.request import urlopen\nfrom io import StringIO\nimport csv\n\ndata = urlopen('http://pythonscraping.com/files/MontyPythonAlbums.csv').read().decode('ascii','ignore')\ndataFile = StringIO(data)\ncsvReader = csv.reader(dataFile)\n\nfor row in csvReader:\n    print(row)",
      "execution_count": 1,
      "outputs": [
        {
          "output_type": "stream",
          "text": "['Name', 'Year']\n[\"Monty Python's Flying Circus\", '1970']\n['Another Monty Python Record', '1971']\n[\"Monty Python's Previous Record\", '1972']\n['The Monty Python Matching Tie and Handkerchief', '1973']\n['Monty Python Live at Drury Lane', '1974']\n['An Album of the Soundtrack of the Trailer of the Film of Monty Python and the Holy Grail', '1975']\n['Monty Python Live at City Center', '1977']\n['The Monty Python Instant Record Collection', '1977']\n[\"Monty Python's Life of Brian\", '1979']\n[\"Monty Python's Cotractual Obligation Album\", '1980']\n[\"Monty Python's The Meaning of Life\", '1983']\n['The Final Rip Off', '1987']\n['Monty Python Sings', '1989']\n['The Ultimate Monty Python Rip Off', '1994']\n['Monty Python Sings Again', '2014']\n",
          "name": "stdout"
        }
      ]
    },
    {
      "metadata": {
        "trusted": true
      },
      "cell_type": "code",
      "source": "",
      "execution_count": null,
      "outputs": []
    }
  ],
  "metadata": {
    "kernelspec": {
      "name": "python36",
      "display_name": "Python 3.6",
      "language": "python"
    },
    "language_info": {
      "mimetype": "text/x-python",
      "nbconvert_exporter": "python",
      "name": "python",
      "pygments_lexer": "ipython3",
      "version": "3.6.6",
      "file_extension": ".py",
      "codemirror_mode": {
        "version": 3,
        "name": "ipython"
      }
    }
  },
  "nbformat": 4,
  "nbformat_minor": 2
}