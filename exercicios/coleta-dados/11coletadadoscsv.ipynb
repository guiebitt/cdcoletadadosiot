{
  "cells": [
    {
      "metadata": {
        "collapsed": true
      },
      "cell_type": "markdown",
      "source": "# Coleta de dados em PDF"
    },
    {
      "metadata": {
        "trusted": true
      },
      "cell_type": "code",
      "source": "!pip install pdfminer",
      "execution_count": 1,
      "outputs": [
        {
          "output_type": "stream",
          "text": "Collecting pdfminer\n\u001b[?25l  Downloading https://files.pythonhosted.org/packages/17/ef/38dd41776c09c15113d03ddf4a785b000372d9bafd9ba8ed104fc0e081df/pdfminer-20191020.tar.gz (4.2MB)\n\u001b[K     |████████████████████████████████| 4.2MB 46kB/s  eta 0:00:01     |██████████████▍                 | 1.9MB 4.2MB/s eta 0:00:01\n\u001b[?25hCollecting pycryptodome (from pdfminer)\n\u001b[?25l  Downloading https://files.pythonhosted.org/packages/c1/f1/0ba99559391621280ce24adea245d31bf2eb2f20ac72270eead1813e8d2b/pycryptodome-3.9.0-cp36-cp36m-manylinux1_x86_64.whl (9.7MB)\n\u001b[K     |████████████████████████████████| 9.7MB 17kB/s eta 0:00:017\n\u001b[?25hBuilding wheels for collected packages: pdfminer\n  Building wheel for pdfminer (setup.py) ... \u001b[?25ldone\n\u001b[?25h  Created wheel for pdfminer: filename=pdfminer-20191020-cp36-none-any.whl size=6141729 sha256=f07f3520f90a1c52f0e275dac6c0a2333ba76281aa85d9f2fe6c515e8d620c05\n  Stored in directory: /home/nbuser/.cache/pip/wheels/14/c8/e9/4efa4065bfb3a65a35a256ea01661aefbefea24c7f0b5bec8b\nSuccessfully built pdfminer\nInstalling collected packages: pycryptodome, pdfminer\nSuccessfully installed pdfminer-20191020 pycryptodome-3.9.0\n\u001b[33mWARNING: You are using pip version 19.2.2, however version 19.3.1 is available.\nYou should consider upgrading via the 'pip install --upgrade pip' command.\u001b[0m\n",
          "name": "stdout"
        }
      ]
    },
    {
      "metadata": {
        "trusted": true
      },
      "cell_type": "code",
      "source": "from urllib.request import urlopen\nfrom pdfminer.pdfinterp import PDFResourceManager\nfrom pdfminer.converter import TextConverter\nfrom pdfminer.layout import LAParams\nfrom pdfminer.pdfpage import PDFPage\nfrom pdfminer.pdfinterp import PDFPageInterpreter\nfrom io import StringIO, BytesIO\nfrom io import open\n\ndef readPDF(pdfFile):\n    rsrcmgr = PDFResourceManager()\n    retstr = StringIO()\n    laparams = LAParams()\n    fp = BytesIO(pdfFile.read())\n    device = TextConverter(rsrcmgr, retstr, laparams=laparams)\n    interpreter = PDFPageInterpreter(rsrcmgr, device)\n    for page in PDFPage.get_pages(fp):\n        interpreter.process_page(page)\n    return retstr.getvalue()\n\npdfFile = urlopen('https://www.univille.edu.br/account/extensaouniversitaria/VirtualDisk.html/downloadDirect/1662198/Edital_SUCST_2019.pdf')\noutputString = readPDF(pdfFile)\nprint(outputString)\npdfFile.close()",
      "execution_count": 2,
      "outputs": [
        {
          "output_type": "stream",
          "text": " \nPró-Reitoria de Pesquisa e Pós Graduação \nPró-Reitoria de Extensão e Assuntos Comunitários \nPró-Reitoria de Ensino \n \n \n\n6ª SEMANA UNIVILLE DE CIÊNCIA, SOCIEDADE E TECNOLOGIA - SUCST  \n\n15º Seminário Integrado De Ensino, Pesquisa E Extensão – SIEPE  \n\n24° Seminário de Iniciação Científica - SIC  \n\n  \n\nEDIÇÃO 2019  \n\n TEMA: Bioeconomia: Diversidade e Riqueza para o Desenvolvimento Sustentável \n\nNormas para Submissão, Apresentação e Publicação dos Trabalhos \n\n  \n\n \n\nO  objetivo  da  Semana  Univille  de  Ciência,  Sociedade  e  Tecnologia  é  socializar  com  a  comunidade  os \n\nresultados obtidos em ações desenvolvidas no ensino, na pesquisa e na extensão, bem como, demonstrar a \n\nforte interação existente entre as bases formadoras da Universidade, além de incentivar, cada vez mais, que \n\npor meio do ensino a pesquisa se estenda à comunidade, promovendo a melhoria da qualidade de vida de \n\nJoinville e região.  \n\n \n\nA  SUCST  incorporou  o  Seminário  Integrado  de  Ensino,  Pesquisa  e  Extensão  (SIEPE),  como  também  o \n\nSeminário de Iniciação Científica (SIC), visando a integração entre professores e alunos.   \n\nAs  apresentações  dos  trabalhos,  bem  como  os  anais  do  evento,  serão  divididas  conforme  a  classificação \n\ndos comitês de área:  \n\n  \n\n• \n\n• \n\n• \n\n• \n\n  \n\nÁrea das Ciências da Saúde e Ciências Biológicas;  \n\nÁrea das Ciências Exatas, Engenharias, Arquitetura e Design;  \n\nÁrea das Ciências Humanas e Ciências Jurídicas;  \n\nÁrea das Ciências Socioeconômicas e Hospitalidade.  \n\nA  6ª  SUCST  será realizada no  período  21 a 25 de outubro de 2019  na  Univille,  campi  Joinville  e São \n\nBento do Sul.   \n\n  \n\nDa Inscrição:  \n\nProfessores  vinculados  a  projetos  da  Coordenação  de  Pesquisa  deverão  inscrever-se,  atendendo  à \n\nResolução 09/08 da Pesquisa.  \n\n \n\nProfessores vinculados a projetos da Coordenação de Extensão deverão inscrever-se, atendendo ao Edital \n\n06/18 da Extensão.  \n\n \n\nOs alunos de iniciação científica (PIC), voluntários  e  bolsistas, conforme o Art.35 da Resolução 03/16 do \n\nCEPE, deverão, obrigatoriamente, apresentar os resultados neste evento.  \n\n \n               Rua Paulo Malschitzki, 10, Campus Universitário – Bom Retiro – CEP 89219-710  \nSala B117 – Telefone (47) 3461 9039 | 3461 9121 – seminariouniville@univille.br \n\n\f \nPró-Reitoria de Pesquisa e Pós Graduação \nPró-Reitoria de Extensão e Assuntos Comunitários \nPró-Reitoria de Ensino \n \n \nTodos os autores, exceto os bolsistas PIBIC/PIBIT CNPq, que já apresentaram seus trabalhos em eventos \n\nque \n\ntenham  a  publicação  de  anais,  no  ano  de  2019,  poderão  enviar  o  comprovante  de \n\npublicação/apresentação e ficarão dispensados da obrigatoriedade de inscrição.  \n\n \n\nProfessores  que  desenvolveram  projetos  vinculados  ao  FAEG  no  ano  de  2018,  deverão  inscrever-se, \n\natendendo ao Art. 9º da Instrução Normativa 003/2014 – PROEN.  \n\n \n\nProfessores  que  desenvolveram  projetos  integrados  ensino-pesquisa-extensão  no  ano  de  2018,  deverão \n\ninscrever-se, atendendo ao Edital 01/18/PROEN/PRPPG/PROEN \n\n \n\nOs demais professores  e alunos estão convidados a inscrever seus trabalhos de Pesquisa, Extensão e de \n\nPráticas Vivenciadas em Sala de Aula.  \n\n \n\nO  formulário  de  inscrição  é  online  e  estará  disponível  no  site  da  Univille,  espaço  professor  no  link \n\nSeminários de 04 a 18 de setembro de 2019.  Para a inscrição deverá ser submetido o resumo do trabalho, \n\nbem como a indicação da modalidade de apresentação, que posteriormente será confirmada pela Comissão \n\nCientífica. \n\n  \n\nIMPORTANTE: Serão aceitas inscrições conjuntas de professores e alunos que integram o mesmo projeto.  \n\n \n\nDa Submissão dos Resumos:  \n\nOs  resumos  deverão  ser  compostos  por  uma  breve  introdução  ao  trabalho  desenvolvido,  contendo  o \n\nobjetivo,  a  metodologia  utilizada,  os  principais  resultados  atualizados  e  conclusões.  O  texto  deverá  conter \n\naté 400  palavras, usando a fonte Arial, justificado, tamanho 12 e espaçamento simples e deve ser  editado \n\nno  espaço  específico  do  formulário,  sem  parágrafos.  O  resumo  que  exceder  o  limite  de  palavras  não \n\nconseguirá finalizar a inscrição.  \n\n \n\nTodos  os  resumos  serão  analisados  pela  Comissão  Científica  do  evento,  formada  por  representantes  de \n\ntodas  as  áreas,  a  qual  somente  aceitará  os  trabalhos  que  respeitarem  as  normas  de  submissão  dos \n\nresumos, descritas acima, e que apresentarem resultados efetivos. \n\n   \n\nOs  resumos  submetidos  e  não  aprovados  em  primeira  análise  pela  Comissão  Científica,  poderão  ser \n\nreadequados em 48 horas, a partir da data de devolução, para análise final. \n\n  \n\nDa Apresentação dos Trabalhos:  \n\n \n\nOs  trabalhos  aprovados  pela  Comissão  Científica  serão  apresentados  conforme  modalidade  indicada  pela \n\nComissão. \n\n \n               Rua Paulo Malschitzki, 10, Campus Universitário – Bom Retiro – CEP 89219-710  \nSala B117 – Telefone (47) 3461 9039 | 3461 9121 – seminariouniville@univille.br \n\n\f \nPró-Reitoria de Pesquisa e Pós Graduação \nPró-Reitoria de Extensão e Assuntos Comunitários \nPró-Reitoria de Ensino \n \n \nCom intuito de dinamizar o evento, haverá diferentes modalidades, sendo distribuídas da seguinte forma:  \n\n•  Comunicação oral: apresentação oral de até 15 minutos com arguição;  \n\n•  Pôster: apresentação em pôster dos resultados do projeto;   \n\n•  Exposição:  em  conjunto  com  a  sessão  de  pôster  haverá  um  espaço  disponível  para  exposição \n\ndo material desenvolvido/criado durante o projeto.  \n\n \n\nConsiderando  que  a  Univille  é  signatária  do  Movimento  Nacional  ODS  (Objetivos  do  Desenvolvimento \n\nSustentável), solicita-se que na apresentação na SUCST seja identificado o ODS que o Projeto atende. Os \n\nselos estarão disponíveis na página da Nações Unidas ( https://nacoesunidas.org/pos2015/agenda2030/ ). \n\nQualquer  recurso  diferenciado  necessário  para  a  apresentação  deverá  ser  solicitado  à  comissão \n\norganizadora até 11 de outubro de 2019.  \n\n \n\nOs professores e alunos inscritos deverão se organizar para cumprirem a agenda da Programação que será \n\npublicada pela Comissão Organizadora.  \n\n \n\nDa Publicação:  \n\nOs  trabalhos  apresentados  serão  disponibilizados  como  Anais  da  6ª  SUCST,  a  partir  do  dia  09  de \n\ndezembro de 2019 na página da Univille na internet.  \n\n \n\nOs  trabalhos  inscritos  e  não  apresentados  no  dia  e  hora  marcada,  não  terão  direito  à  Publicação  nos \n\nANAIS do evento.  \n\n  \n\nComissão Organizadora:  \n\nAline Hammers \n\nBrígida Maria Erhardt  \n\nCláudio Tadeu  \n\nEdina Paula Radavelli  \n\nEliziane Meurer Boeing \n\nGiannini Pasiznick Apati  \n\nLetícia Ribas Diefenthaeler Bohn  \n\nLiandra Pereira \n\nLuiz Paulo de Lemos Wiese \n\nTatiana da Cunha Gomes Leitzke \n\n \n\nComissão Científica:  \n\nAna Paula Testa Pezzin \n\nBrígida Maria Erhardt   \n\nDenise Lemke Carletto \n\n \n               Rua Paulo Malschitzki, 10, Campus Universitário – Bom Retiro – CEP 89219-710  \nSala B117 – Telefone (47) 3461 9039 | 3461 9121 – seminariouniville@univille.br \n\n\f \nPró-Reitoria de Pesquisa e Pós Graduação \nPró-Reitoria de Extensão e Assuntos Comunitários \nPró-Reitoria de Ensino \n \n \nGiannini Pasiznick Apati  \n\nHaro Ristow Schulenburg \n\nHelena Maria Antunes Paiano \n\nIsadora Burmeister Dickie \n\nJosiane Costa Riani \n\nLeslie Ecker Ferreira \n\nLetícia Ribas Diefenthaeler Bohn  \n\nLiandra Pereira \n\nLuciano Henrique Pinto \n\nLuiz Paulo de Lemos Wiese \n\nMaria Inês Siqueira Araújo  \n\nPatrícia de Oliveira Areas \n\nPaulo Marcondes Bousfield \n\nPriscila Ferraz Franczak \n\nRoy Ristow Wippel Schulenburg \n\nSilvio Simon \n\nTatiana da Cunha Gomes Leitzke  \n\nViviane Calice da Silva \n\nWaldemar Moreno Junior \n\n \n\nEquipe de apoio: \n\nAna Paula Pereira \n\nBruna Coelho  \n\nClaudia Hack \n\nFabrícia Peters Magenis  \n\nSamara Silva de Souza \n\n \n               Rua Paulo Malschitzki, 10, Campus Universitário – Bom Retiro – CEP 89219-710  \nSala B117 – Telefone (47) 3461 9039 | 3461 9121 – seminariouniville@univille.br \n\n\f\n",
          "name": "stdout"
        }
      ]
    },
    {
      "metadata": {
        "trusted": true
      },
      "cell_type": "code",
      "source": "",
      "execution_count": null,
      "outputs": []
    }
  ],
  "metadata": {
    "kernelspec": {
      "name": "python36",
      "display_name": "Python 3.6",
      "language": "python"
    },
    "language_info": {
      "mimetype": "text/x-python",
      "nbconvert_exporter": "python",
      "name": "python",
      "pygments_lexer": "ipython3",
      "version": "3.6.6",
      "file_extension": ".py",
      "codemirror_mode": {
        "version": 3,
        "name": "ipython"
      }
    }
  },
  "nbformat": 4,
  "nbformat_minor": 2
}