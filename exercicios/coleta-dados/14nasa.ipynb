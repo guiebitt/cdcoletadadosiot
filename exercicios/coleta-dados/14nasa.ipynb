{
  "cells": [
    {
      "metadata": {
        "collapsed": true
      },
      "cell_type": "markdown",
      "source": "# NASA"
    },
    {
      "metadata": {
        "trusted": true
      },
      "cell_type": "code",
      "source": "import json\nfrom urllib.request import urlopen\nfrom IPython.display import Image\nfrom IPython.core.display import HTML \n\nAPIKEY='GlZelMP44yabEE5dljC7WlRgEvA3sxvItbniMyef'\nurl = 'https://api.nasa.gov/planetary/apod?api_key={}'.format(APIKEY)\n\nresp = urlopen(url).read()\nrespJson = json.loads(resp)\nprint(respJson)\nprint(respJson['date'])\nImage(url= respJson['url'])",
      "execution_count": null,
      "outputs": []
    },
    {
      "metadata": {
        "trusted": true
      },
      "cell_type": "code",
      "source": "",
      "execution_count": null,
      "outputs": []
    }
  ],
  "metadata": {
    "kernelspec": {
      "name": "python36",
      "display_name": "Python 3.6",
      "language": "python"
    },
    "language_info": {
      "mimetype": "text/ x - python",
      "nbconvert_exporter": "python",
      "version": "3.6.0",
      "name": "python",
      "file_extension": ".py",
      "pygments_lexer": "ipython2",
      "codemirror_mode": {
        "version": 2,
        "name": "ipython"
      }
    }
  },
  "nbformat": 4,
  "nbformat_minor": 2
}